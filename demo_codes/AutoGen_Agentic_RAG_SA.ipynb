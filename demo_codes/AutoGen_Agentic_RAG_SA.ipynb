{
  "cells": [
    {
      "cell_type": "markdown",
      "source": [
        "**Install Dependencies:**"
      ],
      "metadata": {
        "id": "5eEvAJPIqDbX"
      }
    },
    {
      "cell_type": "code",
      "execution_count": 1,
      "metadata": {
        "id": "BHPHBqqvOHZs",
        "collapsed": true
      },
      "outputs": [],
      "source": [
        "%%capture --no-stderr\n",
        "%pip install -U --quiet pyautogen sentence_transformers pypdf chromadb langchain langchain-community langchain_chroma markdownify"
      ]
    },
    {
      "cell_type": "markdown",
      "source": [
        "**LLM Calling:**"
      ],
      "metadata": {
        "id": "oyfn5RGOqL7i"
      }
    },
    {
      "cell_type": "code",
      "execution_count": null,
      "metadata": {
        "id": "lJrB2MmlT0Bi",
        "colab": {
          "base_uri": "https://localhost:8080/"
        },
        "outputId": "2a0d0b05-7c30-4848-f28e-d36b8b5994ac"
      },
      "outputs": [
        {
          "output_type": "stream",
          "name": "stderr",
          "text": [
            "/usr/local/lib/python3.10/dist-packages/dask/dataframe/__init__.py:42: FutureWarning: \n",
            "Dask dataframe query planning is disabled because dask-expr is not installed.\n",
            "\n",
            "You can install it with `pip install dask[dataframe]` or `conda install dask`.\n",
            "This will raise in a future version.\n",
            "\n",
            "  warnings.warn(msg, FutureWarning)\n"
          ]
        }
      ],
      "source": [
        "import time\n",
        "\n",
        "from typing_extensions import Annotated\n",
        "\n",
        "import autogen\n",
        "from autogen.cache import Cache\n",
        "import warnings\n",
        "warnings.filterwarnings('ignore')\n",
        "\n",
        "import os\n",
        "from google.colab import userdata\n",
        "os.environ[\"GROQ_API_KEY\"] = userdata.get('GROQ_API_KEY')\n",
        "config_list = [{\"model\":\"llama3-8b-8192\"\n",
        ",#\"llama-3.1-8b-instant\",#\"llama-3.1-70b-versatile\",#\n",
        "                \"api_key\":os.environ.get(\"GROQ_API_KEY\"),\"base_url\": \"https://api.groq.com/openai/v1/\"}]\n",
        "llm_config={\"config_list\" : config_list}"
      ]
    },
    {
      "cell_type": "markdown",
      "metadata": {
        "id": "jl5fJksQ0T5U"
      },
      "source": [
        "**Agent Example**"
      ]
    },
    {
      "cell_type": "code",
      "execution_count": null,
      "metadata": {
        "id": "5fvZNoZsUDvx"
      },
      "outputs": [],
      "source": [
        "llm_config = {\n",
        "    \"config_list\": config_list,\n",
        "}\n",
        "# from autogen import\n",
        "coder = autogen.AssistantAgent(\n",
        "    name=\"chatbot\",\n",
        "    system_message=\"For coding tasks, only use the functions you have been provided with. You have a stopwatch and a timer, these tools can and should be used in parallel. Reply TERMINATE when the task is done.\",\n",
        "    llm_config=llm_config,\n",
        ")\n",
        "\n",
        "# create a UserProxyAgent instance named \"user_proxy\"\n",
        "user_proxy = autogen.UserProxyAgent(\n",
        "    name=\"user_proxy\",\n",
        "    system_message=\"A proxy for the user for executing code.\",\n",
        "    is_termination_msg=lambda x: x.get(\"content\", \"\") and x.get(\"content\", \"\").rstrip().endswith(\"TERMINATE\"),\n",
        "    human_input_mode=\"ALWAYS\",\n",
        "    max_consecutive_auto_reply=10,\n",
        "    code_execution_config={\"work_dir\": \"coding\"},\n",
        ")\n",
        "\n",
        "# define functions according to the function description\n",
        "\n",
        "# An example async function registered using register_for_llm and register_for_execution decorators\n",
        "\n",
        "\n",
        "@user_proxy.register_for_execution()\n",
        "@coder.register_for_llm(description=\"create a timer for N seconds\")\n",
        "async def timer(num_seconds: Annotated[str, \"Number of seconds in the timer.\"]) -> str:\n",
        "    for i in range(int(num_seconds)):\n",
        "        time.sleep(1)\n",
        "        # should print to stdout\n",
        "    return \"Timer is done!\"\n",
        "\n",
        "\n",
        "# An example sync function registered using register_function\n",
        "def stopwatch(num_seconds: Annotated[str, \"Number of seconds in the stopwatch.\"]) -> str:\n",
        "    for i in range(int(num_seconds)):\n",
        "        time.sleep(1)\n",
        "    return \"Stopwatch is done!\"\n",
        "\n",
        "\n",
        "autogen.agentchat.register_function(\n",
        "    stopwatch,\n",
        "    caller=coder,\n",
        "    executor=user_proxy,\n",
        "    description=\"create a stopwatch for N seconds\",\n",
        ")"
      ]
    },
    {
      "cell_type": "markdown",
      "source": [
        "**Agent's tools**"
      ],
      "metadata": {
        "id": "q0Qs7M3_qTDq"
      }
    },
    {
      "cell_type": "code",
      "source": [
        "coder.llm_config[\"tools\"]"
      ],
      "metadata": {
        "colab": {
          "base_uri": "https://localhost:8080/"
        },
        "id": "QpnGsSSY3bYA",
        "outputId": "7886b4a1-9d51-42bc-f28d-00b4585b1fa2"
      },
      "execution_count": null,
      "outputs": [
        {
          "output_type": "execute_result",
          "data": {
            "text/plain": [
              "[{'type': 'function',\n",
              "  'function': {'description': 'create a timer for N seconds',\n",
              "   'name': 'timer',\n",
              "   'parameters': {'type': 'object',\n",
              "    'properties': {'num_seconds': {'type': 'string',\n",
              "      'description': 'Number of seconds in the timer.'}},\n",
              "    'required': ['num_seconds']}}},\n",
              " {'type': 'function',\n",
              "  'function': {'description': 'create a stopwatch for N seconds',\n",
              "   'name': 'stopwatch',\n",
              "   'parameters': {'type': 'object',\n",
              "    'properties': {'num_seconds': {'type': 'string',\n",
              "      'description': 'Number of seconds in the stopwatch.'}},\n",
              "    'required': ['num_seconds']}}}]"
            ]
          },
          "metadata": {},
          "execution_count": 4
        }
      ]
    },
    {
      "cell_type": "markdown",
      "source": [
        "**Run:**"
      ],
      "metadata": {
        "id": "pK-oqBAGqWz1"
      }
    },
    {
      "cell_type": "code",
      "execution_count": null,
      "metadata": {
        "colab": {
          "base_uri": "https://localhost:8080/"
        },
        "id": "ik7pUx4KUD0w",
        "outputId": "5ff06187-dd54-439a-fbc0-8a10c4a81e17"
      },
      "outputs": [
        {
          "output_type": "stream",
          "name": "stdout",
          "text": [
            "user_proxy (to chatbot):\n",
            "\n",
            "Create a timer for 5 seconds and then a stopwatch for 5 seconds.\n",
            "\n",
            "--------------------------------------------------------------------------------\n",
            "[autogen.oai.client: 12-03 13:06:16] {410} WARNING - Model llama3-8b-8192 is not found. The cost will be 0. In your config_list, add field {\"price\" : [prompt_price_per_1k, completion_token_price_per_1k]} for customized pricing.\n"
          ]
        },
        {
          "output_type": "stream",
          "name": "stderr",
          "text": [
            "WARNING:autogen.oai.client:Model llama3-8b-8192 is not found. The cost will be 0. In your config_list, add field {\"price\" : [prompt_price_per_1k, completion_token_price_per_1k]} for customized pricing.\n"
          ]
        },
        {
          "name": "stdout",
          "output_type": "stream",
          "text": [
            "chatbot (to user_proxy):\n",
            "\n",
            "***** Suggested tool call (call_cwez): timer *****\n",
            "Arguments: \n",
            "{\"num_seconds\":\"5\"}\n",
            "**************************************************\n",
            "***** Suggested tool call (call_68gd): stopwatch *****\n",
            "Arguments: \n",
            "{\"num_seconds\":\"5\"}\n",
            "******************************************************\n",
            "\n",
            "--------------------------------------------------------------------------------\n",
            "Replying as user_proxy. Provide feedback to chatbot. Press enter to skip and use auto-reply, or type 'exit' to end the conversation: exit\n"
          ]
        }
      ],
      "source": [
        "\n",
        "with Cache.disk() as cache:\n",
        "    await user_proxy.a_initiate_chat(  # noqa: F704\n",
        "        coder,\n",
        "        message=\"Create a timer for 5 seconds and then a stopwatch for 5 seconds.\",\n",
        "        cache=cache,\n",
        "    )"
      ]
    },
    {
      "cell_type": "markdown",
      "source": [
        "**Router_tool:**"
      ],
      "metadata": {
        "id": "GVxth7xkqeHG"
      }
    },
    {
      "cell_type": "code",
      "execution_count": null,
      "metadata": {
        "id": "b93Od4U4w5fn"
      },
      "outputs": [],
      "source": [
        "\n",
        "from pydantic import BaseModel, Field\n",
        "from typing_extensions import Annotated\n",
        "# class Keyword(BaseModel):\n",
        "  # keyword: Annotated[str, \"keyword either 'vectorstore' or 'websearch'\"]\n",
        "def router_tool( query: Annotated[str, \"question or query ask by user\"])->str:\n",
        "  \"\"\"Router Function\"\"\"\n",
        "  if 'ESOP' in query:\n",
        "    return 'vectorstore'\n",
        "  else:\n",
        "    return 'websearch'\n"
      ]
    },
    {
      "cell_type": "markdown",
      "source": [
        "**Web Search tool  using tavily api :** Take your api from tavily.com"
      ],
      "metadata": {
        "id": "e1VONP3LqmP5"
      }
    },
    {
      "cell_type": "code",
      "execution_count": null,
      "metadata": {
        "id": "zHx-80c2w5j8"
      },
      "outputs": [],
      "source": [
        "#set your Api keys\n",
        "from langchain_community.tools.tavily_search import TavilySearchResults\n",
        "os.environ[\"TAVILY_API_KEY\"] = userdata.get('TAVILY_API_KEY')\n",
        "\n",
        "search__tool=TavilySearchResults(k=3)"
      ]
    },
    {
      "cell_type": "code",
      "execution_count": null,
      "metadata": {
        "colab": {
          "base_uri": "https://localhost:8080/"
        },
        "id": "Si7E8k0L4nVZ",
        "outputId": "95379efa-1ffc-491e-ebb6-5c29140fa758"
      },
      "outputs": [
        {
          "output_type": "execute_result",
          "data": {
            "text/plain": [
              "[{'url': 'https://www.icsi.edu/media/webmodules/CSJ/January/17.pdf',\n",
              "  'content': 'How does exercise price determine for ESOP? A. Companies are free to decide the exercise price, which may be issued at a discount or premium but the exercise price determined by the Company shall not be less than the par value of the shares. Q. Does it mandatory for the Company to issue and'},\n",
              " {'url': 'https://fi.money/guides/money-matters/how-to-determine-exercise-price-for-esop',\n",
              "  'content': 'Ask Fi GuidesMoney MattersA Guide: How to Determine Exercise Price for ESOP? Make the Most of your Money with Fi Compare the stock’s fair market value to the exercise price as specified in the ESOP agreement. Make the Most of your Money with Fi Fi Money’s in-app AI assistant can help you manage your investments, build better monetary habits, meet all your financial goals & reward you for making noteworthy financial choices. Compare the exercise price in the agreement against the fair market value of your company stock. Ask Fi Contact Fi Money customer care You can do everything from the Fi App, including p2p payments, fund transfers, bill payments, and more, with features to automate every action.'},\n",
              " {'url': 'https://www.vega-equity.com/blog/how-to-calculate-exercise-price-in-esops',\n",
              "  'content': \"2. Compare the Stock's Fair Market Value to the Current Exercise Price. Next, determine the ESOPs' exercise price mentioned in the grant letter. Then, compare this with the stock's current market price. A higher exercise price when compared to the FMV indicates that your company's stock is not performing well.\"},\n",
              " {'url': 'https://nodeflair.com/blog/employee-stock-ownership-plan-esop-101',\n",
              "  'content': 'It applies regardless of where you exercise the ESOP or where the shares vest. Without Selling Restrictions. For example, if your exercise price is $1 per share, the company underwent an IPO at $10 per share, and you exercise your options today: Taxable profit: The difference between the market price ($10) and the exercise price ($1) is $9 per'},\n",
              " {'url': 'https://www.arrowfishconsulting.com/esop-valuation/',\n",
              "  'content': \"Experts use this method to calculate the difference between the market price per share and the exercise price of the option. This is the 'imputed gain' that an employee receives by selling their option. For example. An employee has an option to buy 100 shares of the company at $10 per share, and the current market price of the share is $15.\"}]"
            ]
          },
          "metadata": {},
          "execution_count": 8
        }
      ],
      "source": [
        "search__tool.invoke(\"How does exercise price determine for ESOP?\")"
      ]
    },
    {
      "cell_type": "markdown",
      "source": [
        "**creating web_search_tool**"
      ],
      "metadata": {
        "id": "FtQR38HzquWd"
      }
    },
    {
      "cell_type": "code",
      "execution_count": null,
      "metadata": {
        "id": "vcA2FFp64nZG"
      },
      "outputs": [],
      "source": [
        "def docs2str(docs):\n",
        "    return \"\\n\\n\".join(doc['content'] for doc in docs)\n",
        "def web_search_tool(query: Annotated[str, \"question or query ask by user\"])->str:\n",
        "  \"\"\"Search Function\"\"\"\n",
        "  docs=search__tool.run(query)\n",
        "  return docs2str(docs)\n",
        "\n"
      ]
    },
    {
      "cell_type": "code",
      "source": [
        "web_search_tool(\"who is current president of america?\")"
      ],
      "metadata": {
        "colab": {
          "base_uri": "https://localhost:8080/",
          "height": 157
        },
        "id": "nHH0T69efpB_",
        "outputId": "48a69431-82f4-4b89-8f66-5238e38e6d68"
      },
      "execution_count": null,
      "outputs": [
        {
          "output_type": "execute_result",
          "data": {
            "text/plain": [
              "'National Union[l]\\n1864\\nAndrew Johnson\\nDemocratic\\n1872\\nHenry Wilson[e]\\nVacant\\xa0afterNovember 22, 1875\\nVacant\\xa0afterNovember 25, 1885\\n1900\\nVacant\\xa0afterNovember 21, 1899\\nTheodore Roosevelt\\n1904\\nCharles W. Fairbanks\\nVacant\\xa0afterOctober 30, 1912\\n1916\\n1924\\nCharles G. Dawes\\n1936\\n1940\\n1944\\nHenry A. Wallace\\nHarry S. Truman\\n1948\\nAlben W. Barkley\\n1956\\n1964\\nHubert Humphrey\\n1972\\nVacant:October 10\\xa0– December 6, 1973\\nGerald Ford[t]\\nNelson Rockefeller[t]\\n1984\\n1996\\n2004\\n2012\\nSee also\\nNotes\\nReferences\\nWorks cited\\nGeneral\\nExpert studies\\nPresidential biographies\\nOnline sources\\nExternal links He was, and remains, the only U.S. president never affiliated with a political party.[13]\\nPresidents\\n1792\\n1804\\nGeorge Clinton\\n1812\\nVacant\\xa0afterApril 20, 1812\\nElbridge Gerry[e]\\nVacant\\xa0afterNovember 23, 1814\\n Contents\\nList of presidents of the United States\\nThe president of the United States is the head of state and head of government of the United States,[1] indirectly elected to a four-year term via the Electoral College.[2] Four presidents died in office of natural causes (William Henry Harrison, Zachary Taylor, Warren G. Harding, and Franklin D. Roosevelt), four were assassinated (Abraham Lincoln, James A. Garfield, William McKinley, and John F. Kennedy), and one resigned (Richard Nixon, facing impeachment and removal from office).[10] John Tyler was the first vice president to assume the presidency during a presidential term, and set the precedent that a vice president who does so becomes the fully functioning president with his presidency.[11]\\nThroughout most of its history, American politics has been dominated by political parties. 1820\\nNational Republican\\n1832\\nVacant\\xa0afterDecember 28, 1832\\nMartin Van Buren\\nUnaffiliated\\nVacant\\xa0afterApril 18, 1853\\n\\n\\nAfter leaving the White House, the Bidens continued their efforts to expand opportunity for every American with the creation of the Biden Foundation, the Biden Cancer Initiative, the Penn Biden Center for Diplomacy and Global Engagement, and the Biden Institute at the University of Delaware.\\n Mobile Menu Overlay\\nThe White House\\n1600 Pennsylvania Ave NW\\nWashington, DC 20500\\nJoe\\xa0Biden\\nThe President\\nNavigate this Section\\nDownload Official Portrait\\nPresident Biden represented Delaware for 36 years in the U.S. Senate before becoming the 47th Vice President of the United States. As Chairman or Ranking Member of the Senate Judiciary Committee for 16 years, Biden is widely recognized for his work writing and spearheading the Violence Against Women Act\\xa0 — the landmark legislation that strengthens penalties for violence against women, creates unprecedented resources for survivors of assault, and changes the national dialogue on domestic and sexual assault.\\n Biden helped President Obama pass and then oversaw the implementation of the Recovery Act — the biggest economic recovery plan in the history of the nation and our biggest and strongest commitment to clean energy. Biden’s candidacy was built from the beginning around 3 pillars: the battle for the soul of our nation, the need to rebuild our middle class — the backbone of our country, and a call for unity, to act as One America.\\n\\nThe following decade, Woodrow Wilson led the nation to victory during World War I, although Wilson\\'s proposal for the League of Nations was rejected by the Senate.[42]\\nWarren Harding, while popular in office, would see his legacy tarnished by scandals, especially Teapot Dome,[43] and Herbert Hoover quickly became very unpopular after failing to alleviate the Great Depression.[44]\\nImperial presidency\\nThe ascendancy of Franklin D. Roosevelt in 1933 led further toward what historians now describe as the Imperial presidency.[45] Backed by enormous Democratic majorities in Congress and public support for major change, Roosevelt\\'s New Deal dramatically increased the size and scope of the federal government, including more executive agencies.[46]:\\u200a211–12\\u200a The traditionally small presidential staff was greatly expanded, with the Executive Office of the President being created in 1939, none of whom require Senate confirmation.[46]:\\u200a229–231\\u200a Roosevelt\\'s unprecedented re-election to a third and fourth term, the victory of the United States in World War II, and the nation\\'s growing economy all helped established the office as a position of global leadership.[46]:\\u200a269\\u200a His successors, Harry Truman and Dwight D. Eisenhower, each served two terms as the Cold War led the presidency to be viewed as the \"leader of the free world\",[47] while John F. Kennedy was a youthful and popular leader who benefited from the rise of television in the 1960s.[48][49]\\nAfter Lyndon B. Johnson lost popular support due to the Vietnam War and Richard Nixon\\'s presidency collapsed in the Watergate scandal, Congress enacted a series of reforms intended to reassert itself.[50][51] However, his successor, Martin Van Buren, became unpopular after the Panic of 1837,[31] and the death of William Henry Harrison and subsequent poor relations between John Tyler and Congress led to further weakening of the office.[32] Including Van Buren, in the 24 years between 1837 and 1861, six presidential terms would be filled by eight different men, with none serving two terms.[33] The Senate played an important role during this period, with the Great Triumvirate of Henry Clay, Daniel Webster, and John C. Calhoun playing key roles in shaping national policy in the 1830s and 1840s until debates over slavery began pulling the nation apart in the 1850s.[34][35]\\nAbraham Lincoln\\'s leadership during the Civil War has led historians to regard him as one of the nation\\'s greatest presidents.[D] The circumstances of the war and Republican domination of Congress made the office very powerful,[36][37] and Lincoln\\'s re-election in 1864 was the first time a president had been re-elected since Jackson in 1832. Recent presidents have thus increasingly focused on executive orders, agency regulations, and judicial appointments to implement major policies, at the expense of legislation and congressional power.[60] Presidential elections in the 21st century have reflected this continuing polarization, with no candidate except Obama in 2008 winning by more than five percent of the popular vote and two, George W. Bush and Donald Trump, winning in the Electoral College while losing the popular vote.[E]\\nCritics of presidency\\'s evolution\\nThe nation\\'s Founding Fathers expected the Congress, which was the first branch of government described in the Constitution, to be the dominant branch of government; however, they did not expect a strong executive department.[61] However, presidential power has shifted over time, which has resulted in claims that the modern presidency has become too powerful,[62][63] unchecked, unbalanced,[64] and \"monarchist\" in nature.[65] The mechanism has been used by Ronald Reagan (once), George W. Bush (twice), and Joe Biden (once), each in anticipation of surgery.[155][156]\\nThe Twenty-fifth Amendment also provides that the vice president, together with a majority of certain members of the Cabinet, may transfer the presidential powers and duties to the vice president by transmitting a written declaration, to the speaker of the House and the president pro tempore of the Senate, to the effect that the president is unable to discharge his or her powers and duties. The exact degree of authority that the Constitution grants to the president as commander-in-chief has been the subject of much debate throughout history, with Congress at various times granting the president wide authority and at others attempting to restrict that authority.[86] The framers of the Constitution took care to limit the president\\'s powers regarding the military; Alexander Hamilton explained this in Federalist No. 69:\\nThe President is to be commander-in-chief of the army and navy of the United States.\\xa0...\\n\\nOn November 23, after Michigan certified its results, Murphy issued the letter of ascertainment, granting the Biden transition team access to federal funds and resources for an orderly transition.[29]\\nTwo days after becoming the projected winner of the 2020 election, Biden announced the formation of a task force to advise him on the COVID-19 pandemic during the transition, co-chaired by former Surgeon General Vivek Murthy, former FDA commissioner David A. Kessler, and Yale University\\'s Marcella Nunez-Smith.[30]\\nOn January 5, 2021, the Democratic Party won control of the United States Senate, effective January 20, as a result of electoral victories in Georgia by Jon Ossoff in a runoff election for a six-year term and Raphael Warnock in a special runoff election for a two-year term.[31][32] President-elect Biden had supported and campaigned for both candidates prior to the runoff elections on January 5.[33][34]\\nOn January 6, a mob of thousands of Trump supporters violently stormed the Capitol in the hope of overturning Biden\\'s election, forcing Congress to evacuate during the counting of the Electoral College votes.[35][36] More than 26,000 National Guard members were deployed to the capital for the inauguration, with thousands remaining into the spring.[37]\\nOn January 20, 2021, Biden was sworn in by U.S. Chief Justice John Roberts as the 46th president of the United States, completing the oath of office at 11:49\\xa0am EST, eleven minutes before the legal start of his term.[38][39]\\nInaugural address\\nBiden\\'s inaugural speech laid out his vision to unite the nation, prefaced by the various impacts of the COVID-19 pandemic, economic strife, climate change, political polarization, and racial injustice.[40] The union representing ICE agents signaled that its agents would not accept reversals of Trump policies.[232]\\nIn March 2021, the Biden administration granted temporary protected status to Venezuelans fleeing the country amidst the ongoing political and economic crisis.[234]\\nOn June 1, 2021, the\\xa0DHS officially terminated the\\xa0Trump-era \"Remain in Mexico\" policy, which mandated that all\\xa0asylum seekers\\xa0from\\xa0Central America\\xa0were to wait in\\xa0Mexico\\xa0pending their court cases; however, a health order from March 2020 allowed the border authorities to send migrants back for the duration of the\\xa0COVID-19 pandemic\\xa0have remained in place.[235][236] However, on August 14, 2021, a federal judge in Texas ordered the Biden administration to reimplement the policy; the Supreme Court placed a pause on the ruling to give the administration time for arguments.[237][238] On August 24, 2021, the Supreme Court ruled that the Biden administration must comply with the lower court\\'s ruling to reinstate the policy.[239][240]\\nEarly on in Biden\\'s tenure, a surge in unaccompanied minors at the U.S. border stirred controversy. The administration also expanded ties with West Africa, including support for infrastructure improvements at the Benin seaport of Cotonou, a key part of the West African economy.[372][376] Biden appointed longtime U.S. diplomat Johnnie Carson to coordinate implementation of U.S. actions following up from the summit.[377]\\nDuring the 2022 summit, Biden and senior administration officials also met privately with six African leaders facing elections in 2023, pushing them to ensure free and fair elections in their nations.[377]\\nSenator Bob Menendez, the Democratic chairman of the Senate Foreign Relations Committee, has criticized the Biden administration for hesitating to impose sanctions on the governments of Sudan and Ethiopia, where many atrocities and war crimes were committed in the Tigray War.[378]\\nArmenian genocide\\nOn April 24, 2021, the Biden administration declared that the Turkish killings of Armenians at the start of the 20th century were a genocide. Others criticize the CDC for implementing this change following lobbying by Delta Airlines, leading to social media backlash against the federal government.[117]\\nBiden gave a speech at the John F. Kennedy Presidential Library and Museum on September 12, 2022, the 60th anniversary of Kennedy\\'s We Choose to Go to the Moon speech, promoting his administration\\'s revival of the Beau Biden Cancer Moonshot, including the new Advanced Research Projects Agency for Health.[118]\\nEconomy\\nOn January 22, 2021, Biden signed an executive order that removed schedule F, overturning a number of Trump\\'s policies that limited the collective bargaining power of federal unions.[119][120][121] Biden\\'s executive order also promotes a $15 minimum wage for federal workers and repeals three of Trump\\'s executive orders which made the employee discipline process stricter and restricted union representatives\\' access to office space. Biden partly attributed the lack of early evacuation of Afghan civilians to the Afghan government\\'s opposition of a \"mass exodus\" which they thought would cause a \"crisis of confidence\".[360]\\nOn August 26, a suicide attack was carried out by the Islamic State of Iraq and the Levant - Khorasan Province at the Hamid Karzai International Airport, killing more than 170 people, including at least 62 Afghan civilians, 13 US service members, two British nationals and the child of a third British national.[361][362] Biden made a public address following the attack, in which he honored the American service members who were killed, calling them \"heroes\" and saying they lost their lives \"in the service of liberty\", and stated that the US had evacuated more than 100,000 Americans, Afghans, and others.\\n\\nSignificantly more Democrats voted in the 2020 election than in previous presidential contests, and the Democratic Party not only won the presidential election but also maintained its control of the U.S. House of Representatives and took control of the U.S. Senate from Republicans, though only by the slimmest of margins (the resulting Senate membership was evenly divided between the two parties at 50 senators each, but tie votes could be broken by Vice President Harris, acting in her constitutional role as president of the Senate). Biden supported three significant pieces of voting rights and electoral-reform legislation: the For the People Act, passed by the House in March 2021; the John Lewis Voting Rights Advancement Act, passed by the House in August; and the Freedom to Vote Act, introduced in the Senate in September. The failure of the electoral-reform measures, which Democrats viewed as essential to preserving American democracy, prompted progressive and even some moderate Democrats to urge the elimination of the filibuster, which is not established in the U.S. Constitution and can be ended by the Senate in a simple majority vote.\\n In early November, following important off-year elections in which Democrats suffered several unexpected defeats—signaling a likely loss of the House and Senate to Republicans in the 2022 election—Biden and Democratic House leaders intensified their efforts to reconcile the factions, arguing that some tangible legislative achievement was necessary to retain the support of swing voters. During and after the withdrawal, the Biden administration was criticized by Republican and some Democratic leaders for having misjudged the strength and resolve of both the Taliban and the Afghan government and security forces.'"
            ],
            "application/vnd.google.colaboratory.intrinsic+json": {
              "type": "string"
            }
          },
          "metadata": {},
          "execution_count": 10
        }
      ]
    },
    {
      "cell_type": "code",
      "execution_count": null,
      "metadata": {
        "colab": {
          "base_uri": "https://localhost:8080/",
          "height": 123
        },
        "id": "jwVDLF-S6Otw",
        "outputId": "2d8afc1c-72fe-4b20-9e7e-a42e4cff44f7"
      },
      "outputs": [
        {
          "output_type": "execute_result",
          "data": {
            "text/plain": [
              "\"How does exercise price determine for ESOP? A. Companies are free to decide the exercise price, which may be issued at a discount or premium but the exercise price determined by the Company shall not be less than the par value of the shares. Q. Does it mandatory for the Company to issue and\\n\\nAsk Fi GuidesMoney MattersA Guide: How to Determine Exercise Price for ESOP? Make the Most of your Money with Fi Compare the stock’s fair market value to the exercise price as specified in the ESOP agreement. Make the Most of your Money with Fi Fi Money’s in-app AI assistant can help you manage your investments, build better monetary habits, meet all your financial goals & reward you for making noteworthy financial choices. Compare the exercise price in the agreement against the fair market value of your company stock. Ask Fi Contact Fi Money customer care You can do everything from the Fi App, including p2p payments, fund transfers, bill payments, and more, with features to automate every action.\\n\\n2. Compare the Stock's Fair Market Value to the Current Exercise Price. Next, determine the ESOPs' exercise price mentioned in the grant letter. Then, compare this with the stock's current market price. A higher exercise price when compared to the FMV indicates that your company's stock is not performing well.\\n\\nIt applies regardless of where you exercise the ESOP or where the shares vest. Without Selling Restrictions. For example, if your exercise price is $1 per share, the company underwent an IPO at $10 per share, and you exercise your options today: Taxable profit: The difference between the market price ($10) and the exercise price ($1) is $9 per\\n\\nExperts use this method to calculate the difference between the market price per share and the exercise price of the option. This is the 'imputed gain' that an employee receives by selling their option. For example. An employee has an option to buy 100 shares of the company at $10 per share, and the current market price of the share is $15.\""
            ],
            "application/vnd.google.colaboratory.intrinsic+json": {
              "type": "string"
            }
          },
          "metadata": {},
          "execution_count": 10
        }
      ],
      "source": [
        "web_search_tool(\"How does exercise price determine for ESOP?\")"
      ]
    },
    {
      "cell_type": "markdown",
      "metadata": {
        "id": "jeZfKSqr0lZt"
      },
      "source": [
        "**Model name that we are using for agentic system**"
      ]
    },
    {
      "cell_type": "code",
      "execution_count": null,
      "metadata": {
        "colab": {
          "base_uri": "https://localhost:8080/"
        },
        "id": "u-JylXvGUD8j",
        "outputId": "ef7e9403-64f0-409f-e06d-1c38aac09f36"
      },
      "outputs": [
        {
          "output_type": "stream",
          "name": "stdout",
          "text": [
            "models to use:  ['llama3-8b-8192']\n"
          ]
        }
      ],
      "source": [
        "from autogen.agentchat.contrib.retrieve_user_proxy_agent import RetrieveUserProxyAgent\n",
        "from autogen import AssistantAgent,ConversableAgent\n",
        "# Accepted file formats for that can be stored in\n",
        "# a vector database instance\n",
        "from autogen.retrieve_utils import TEXT_FORMATS\n",
        "\n",
        "# config_list = autogen.config_list_from_json(\"OAI_CONFIG_LIST\")\n",
        "\n",
        "assert len(config_list) > 0\n",
        "print(\"models to use: \", [config_list[i][\"model\"] for i in range(len(config_list))])"
      ]
    },
    {
      "cell_type": "markdown",
      "metadata": {
        "id": "VvWZdGtA145P"
      },
      "source": [
        "**Agentic RAG Agents**"
      ]
    },
    {
      "cell_type": "markdown",
      "source": [
        "**The user sends a query to the UserProxyAgent**"
      ],
      "metadata": {
        "id": "eP4mRp5Rq4aB"
      }
    },
    {
      "cell_type": "code",
      "execution_count": null,
      "metadata": {
        "id": "Frd7GnYb7Hkx"
      },
      "outputs": [],
      "source": [
        "# create a UserProxyAgent instance named \"user_proxy\"\n",
        "user_proxy = autogen.UserProxyAgent(\n",
        "    name=\"user_proxy\",\n",
        "    system_message=\"An intelligent proxy agent designed to bridge user requests and external AI systems seamlessly.\",\n",
        "    is_termination_msg=lambda x: x.get(\"content\", \"\") and x.get(\"content\", \"\").rstrip().endswith(\"TERMINATE\"),\n",
        "    human_input_mode=\"NEVER\",\n",
        "    max_consecutive_auto_reply=10,\n",
        ")"
      ]
    },
    {
      "cell_type": "markdown",
      "source": [
        "**Router Agent:** The RouterAgent decides whether to route the query to the Vectorstore or WebSearch."
      ],
      "metadata": {
        "id": "_cHRIplfq6PO"
      }
    },
    {
      "cell_type": "code",
      "execution_count": null,
      "metadata": {
        "id": "wa11sZmlimvS"
      },
      "outputs": [],
      "source": [
        "from autogen import ConversableAgent\n",
        "\n",
        "router_agent = ConversableAgent(\n",
        "    name=\"Router Agent\",\n",
        "    system_message='''You are an expert at routing a user query to the appropriate source.\n",
        "    Use tool router_tool for the routing descision only in one word  either vectorstore or websearch .\n",
        "    Return 'TERMINATE' when routing is complete.''',\n",
        "    #    Use the provided query inside router_tool for getting keyword vectorstore or webserach\n",
        "    llm_config=llm_config,\n",
        "    code_execution_config=False,\n",
        "    # function_map={\"router_tool\": router_tool},\n",
        "    human_input_mode=\"NEVER\",\n",
        "    is_termination_msg=lambda msg: \"TERMINATE\" in msg.get(\"content\", \"\").upper(),\n",
        ")"
      ]
    },
    {
      "cell_type": "markdown",
      "source": [
        "**Resitering router_tool to Router Agent:**"
      ],
      "metadata": {
        "id": "Byb0oiTJrFw4"
      }
    },
    {
      "cell_type": "code",
      "execution_count": null,
      "metadata": {
        "id": "z_uQRPvzt1BS"
      },
      "outputs": [],
      "source": [
        "\n",
        "\n",
        "autogen.agentchat.register_function(\n",
        "    router_tool,\n",
        "    caller=router_agent,\n",
        "    executor=user_proxy,\n",
        "    description=\"Router Tool use to route the query\",\n",
        ")"
      ]
    },
    {
      "cell_type": "code",
      "execution_count": null,
      "metadata": {
        "colab": {
          "base_uri": "https://localhost:8080/"
        },
        "id": "nG3mTMGO1qqr",
        "outputId": "abbf0af0-1272-4c93-a124-464f3927d61d"
      },
      "outputs": [
        {
          "output_type": "execute_result",
          "data": {
            "text/plain": [
              "[{'type': 'function',\n",
              "  'function': {'description': 'Router Tool use to route the query',\n",
              "   'name': 'router_tool',\n",
              "   'parameters': {'type': 'object',\n",
              "    'properties': {'query': {'type': 'string',\n",
              "      'description': 'question or query ask by user'}},\n",
              "    'required': ['query']}}}]"
            ]
          },
          "metadata": {},
          "execution_count": 74
        }
      ],
      "source": [
        "router_agent.llm_config[\"tools\"]"
      ]
    },
    {
      "cell_type": "code",
      "execution_count": null,
      "metadata": {
        "colab": {
          "base_uri": "https://localhost:8080/"
        },
        "id": "PzwRiA1W7Ott",
        "outputId": "e516a1b3-ea2b-44c6-f637-82e14acf7347"
      },
      "outputs": [
        {
          "output_type": "stream",
          "name": "stdout",
          "text": [
            "user_proxy (to Router Agent):\n",
            "\n",
            "who is the president of America\n",
            "\n",
            "--------------------------------------------------------------------------------\n",
            "[autogen.oai.client: 12-03 01:37:32] {410} WARNING - Model llama3-8b-8192 is not found. The cost will be 0. In your config_list, add field {\"price\" : [prompt_price_per_1k, completion_token_price_per_1k]} for customized pricing.\n"
          ]
        },
        {
          "output_type": "stream",
          "name": "stderr",
          "text": [
            "WARNING:autogen.oai.client:Model llama3-8b-8192 is not found. The cost will be 0. In your config_list, add field {\"price\" : [prompt_price_per_1k, completion_token_price_per_1k]} for customized pricing.\n"
          ]
        },
        {
          "output_type": "stream",
          "name": "stdout",
          "text": [
            "Router Agent (to user_proxy):\n",
            "\n",
            "***** Suggested tool call (call_521a): router_tool *****\n",
            "Arguments: \n",
            "{\"query\":\"Who is the president of America\"}\n",
            "********************************************************\n",
            "\n",
            "--------------------------------------------------------------------------------\n",
            "\n",
            ">>>>>>>> EXECUTING FUNCTION router_tool...\n",
            "user_proxy (to Router Agent):\n",
            "\n",
            "***** Response from calling tool (call_521a) *****\n",
            "websearch\n",
            "**************************************************\n",
            "\n",
            "--------------------------------------------------------------------------------\n",
            "[autogen.oai.client: 12-03 01:37:33] {410} WARNING - Model llama3-8b-8192 is not found. The cost will be 0. In your config_list, add field {\"price\" : [prompt_price_per_1k, completion_token_price_per_1k]} for customized pricing.\n"
          ]
        },
        {
          "output_type": "stream",
          "name": "stderr",
          "text": [
            "WARNING:autogen.oai.client:Model llama3-8b-8192 is not found. The cost will be 0. In your config_list, add field {\"price\" : [prompt_price_per_1k, completion_token_price_per_1k]} for customized pricing.\n"
          ]
        },
        {
          "output_type": "stream",
          "name": "stdout",
          "text": [
            "Router Agent (to user_proxy):\n",
            "\n",
            "***** Suggested tool call (call_bazx): router_tool *****\n",
            "Arguments: \n",
            "{\"query\":\"Who is the current President of the United States\"}\n",
            "********************************************************\n",
            "\n",
            "--------------------------------------------------------------------------------\n",
            "\n",
            ">>>>>>>> EXECUTING FUNCTION router_tool...\n",
            "user_proxy (to Router Agent):\n",
            "\n",
            "***** Response from calling tool (call_bazx) *****\n",
            "websearch\n",
            "**************************************************\n",
            "\n",
            "--------------------------------------------------------------------------------\n",
            "[autogen.oai.client: 12-03 01:37:33] {410} WARNING - Model llama3-8b-8192 is not found. The cost will be 0. In your config_list, add field {\"price\" : [prompt_price_per_1k, completion_token_price_per_1k]} for customized pricing.\n"
          ]
        },
        {
          "output_type": "stream",
          "name": "stderr",
          "text": [
            "WARNING:autogen.oai.client:Model llama3-8b-8192 is not found. The cost will be 0. In your config_list, add field {\"price\" : [prompt_price_per_1k, completion_token_price_per_1k]} for customized pricing.\n"
          ]
        },
        {
          "output_type": "stream",
          "name": "stdout",
          "text": [
            "Router Agent (to user_proxy):\n",
            "\n",
            "***** Suggested tool call (call_zdb3): router_tool *****\n",
            "Arguments: \n",
            "{\"query\":\"It is currently [insert current date] and the President of the United States is [insert current president name]\"}\n",
            "********************************************************\n",
            "***** Suggested tool call (call_z113): router_tool *****\n",
            "Arguments: \n",
            "{\"query\":\"[insert current president name]\"}\n",
            "********************************************************\n",
            "\n",
            "--------------------------------------------------------------------------------\n",
            "\n",
            ">>>>>>>> EXECUTING FUNCTION router_tool...\n",
            "\n",
            ">>>>>>>> EXECUTING FUNCTION router_tool...\n",
            "user_proxy (to Router Agent):\n",
            "\n",
            "***** Response from calling tool (call_zdb3) *****\n",
            "websearch\n",
            "**************************************************\n",
            "\n",
            "--------------------------------------------------------------------------------\n",
            "***** Response from calling tool (call_z113) *****\n",
            "websearch\n",
            "**************************************************\n",
            "\n",
            "--------------------------------------------------------------------------------\n",
            "[autogen.oai.client: 12-03 01:37:33] {410} WARNING - Model llama3-8b-8192 is not found. The cost will be 0. In your config_list, add field {\"price\" : [prompt_price_per_1k, completion_token_price_per_1k]} for customized pricing.\n"
          ]
        },
        {
          "output_type": "stream",
          "name": "stderr",
          "text": [
            "WARNING:autogen.oai.client:Model llama3-8b-8192 is not found. The cost will be 0. In your config_list, add field {\"price\" : [prompt_price_per_1k, completion_token_price_per_1k]} for customized pricing.\n"
          ]
        },
        {
          "output_type": "stream",
          "name": "stdout",
          "text": [
            "Router Agent (to user_proxy):\n",
            "\n",
            "<tool-use>{\"tool_calls\":[]}</tool-use> TERMINATE\n",
            "\n",
            "--------------------------------------------------------------------------------\n",
            "[autogen.oai.client: 12-03 01:37:34] {410} WARNING - Model llama3-8b-8192 is not found. The cost will be 0. In your config_list, add field {\"price\" : [prompt_price_per_1k, completion_token_price_per_1k]} for customized pricing.\n"
          ]
        },
        {
          "output_type": "stream",
          "name": "stderr",
          "text": [
            "WARNING:autogen.oai.client:Model llama3-8b-8192 is not found. The cost will be 0. In your config_list, add field {\"price\" : [prompt_price_per_1k, completion_token_price_per_1k]} for customized pricing.\n"
          ]
        }
      ],
      "source": [
        "with Cache.disk() as cache:\n",
        "    # start the conversation\n",
        "    res = user_proxy.initiate_chat(\n",
        "    router_agent, message=\"who is the president of America\", summary_method=\"reflection_with_llm\", cache=cache\n",
        "    )"
      ]
    },
    {
      "cell_type": "markdown",
      "source": [
        "**Creating pdf_search_tool**"
      ],
      "metadata": {
        "id": "zQdAfIYVrZgE"
      }
    },
    {
      "cell_type": "markdown",
      "source": [
        "**Using langchain  for creating  vectorstore**"
      ],
      "metadata": {
        "id": "twCUvERvrkM-"
      }
    },
    {
      "cell_type": "code",
      "execution_count": null,
      "metadata": {
        "id": "4NMGDhi2IOKH",
        "colab": {
          "base_uri": "https://localhost:8080/",
          "height": 424,
          "referenced_widgets": [
            "66d861a98aec4cc0a69fc52c52c1aaf8",
            "bbbe563ae64c4c858c6ba3abc3581305",
            "c19f5c79a3ff4abf9dbdb52177bb43b3",
            "c4635a4553524331928556ea0ac21ba9",
            "c04ca8ed545e4f20bffbcf2c808de5dc",
            "6607b15af6214b02a3d7eb0840064e12",
            "a3620827dcea400e903aaa92f3012d14",
            "b7c809a5f2f74b90a2aae5be4c33319b",
            "81965217fe034b02b95f39aac52c8be4",
            "b5888ae9e290442185f40c2275007897",
            "c46e7c74159b452ebf0aa2a2837f5a97",
            "d572387950984272a72bc61b90adddb2",
            "8fbf49d0d88b402687e7c99c30324fdf",
            "cc8d4df8527e4577ad1ed12058ae4273",
            "ff4701090d784665b10d9a4e0c4acaf2",
            "68c993df5e5846adb2c3eb0c2334a4f0",
            "03b2fe956fd3480daa1a27f0868ade2c",
            "e1899b919d6d4303919811e236e974d7",
            "e927fc2a718b41bd9a495f1d1ad6d757",
            "aa07bc0b314144548f04eab8492dba12",
            "6884b89a7b154f5c978065eaacece43e",
            "d22cd9177f464e6d9f759e264d3dda15",
            "3168398e5c574b72b33de32b2d491bdd",
            "bd76fa31eb9f4d05bb1e1a85ea9b9d2c",
            "402a9a6c582f422aac1770d93f6f9fdc",
            "345992ff6289448f89361304631966fd",
            "bad22717cc86474e91cb7012bfaf1c75",
            "aa14a7a9863f4fd6b9e5b461d4baa97d",
            "74ec0b5fda564fd5954df2fda6a11767",
            "a539c68b600641c2a7cc5cd38ea8faec",
            "05121b8bbf8d4bc1a53b71720239c1ed",
            "f8255df39c5f40f8a7a2a1015d70b435",
            "ff5565b51e394aa6a293d47521c707dc",
            "5c05b6d39ecf4532a4e39af516a94069",
            "893d28094d2244579d613c10232ae9aa",
            "f765e95e69bf45028796cd039b70d9e6",
            "fba491aedea0468ebea12f64fbddc94a",
            "11bdc2f06f4d4cd891f298dd4802dc78",
            "03e058ea847a426e87fdec59c8b114a2",
            "19ee8ad44f314c45812210a880173e79",
            "ae06f6265f5f4df09e09b82aa04542be",
            "33d0af7a7b1944eb95e4466a1823c611",
            "7242a7a50c1d4373bca0f1544c20ddff",
            "75d08df565284c399fb7a2f1ff9f26e6",
            "37f739d0de46472aa5fbf75d7c428f05",
            "1834e3ea6f294fc3907f6c54ffb5d003",
            "de480e8487f546d6a6c7c1c93b4689cb",
            "3738da0b78644bdb8fe4dc0fe971b263",
            "bb9ccc96f831448592c964c18d4af28b",
            "794cff654f3a4e1abc35b978cbe92c7b",
            "571c8120899b4f15b83bf74323e5fad5",
            "ba937b5fdf3143b5a9725bc143dd457f",
            "68b4f894911847bfba34e5ecf320051d",
            "17d2db57480e4f8a9c1f5f8c6cd5953c",
            "44a9bf45d50144a1b05bf1543c9ffc56",
            "5ec6c3ddb15a4292b01f86619b98a637",
            "0eb5a6635fc248b38a876c6f117d1a78",
            "5675ed361ef24826b24013d34ce77863",
            "7f4543f71d704873ba71fc40366617bf",
            "ac10b2f2a85e49a290237e88c5e9a311",
            "9e799496ef354db697a2b6f8d9f28871",
            "6e1a224397b34e4db41ac4d0f59d8f11",
            "19605e25d84f419bb8728fafd358cffd",
            "7e50d4373bab4ed18604b9f7351251c4",
            "16cc6b5623894828a19f03bcdba6d8c5",
            "8688ddea0c6d434e9d9161ab6fc1aee0",
            "ea4f25efcae947499f1642ae8c4de043",
            "61e0370514364ff394ef11c9e1995119",
            "c85b1dde1de248e8a5d5f149b7076cd9",
            "b3159af7307b458c8b505132e92869de",
            "e5e8c65d77064e40834cac2cdde305a9",
            "525b4b67b2be4feba5a039725d1611fd",
            "af285d9fa1b6431b94e992876ebbdf65",
            "6747dfb46c6f47d49b308d1399c27612",
            "f4abf632178a4b73842a79f7175a1466",
            "c9b64c6c4355442488eb8cee7cf82e3a",
            "320303fd402f4cbcbeb4b105ec90e108",
            "62a3c89a00a04d058101d8c3c793fc43",
            "363cbbc87aa84cf59d2b767ab3852cb7",
            "c1688082a03140a79628176568e9901c",
            "38143580cc62436da337e025ac70906b",
            "766f5c3d7f7d49209fe2da3f1d2b3b04",
            "e19d9c6c5bd047b38a19919929e9d730",
            "a841df91e1e74944b4deebf044d46b96",
            "f517624797e343b891aded945270ec84",
            "1b06fd257d3d494ba4b69798a31929d6",
            "8671be8bc51944bb9609af08c92a160a",
            "6b7220e2570a467a935fb41b8178d6b9",
            "375634db6a1b4bc89a3f4b567389fb8e",
            "56aef6536ff941418cf9519051df5b90",
            "f3fd2de9cc69464cb300a1ee84023f8d",
            "a33c8bd066924b198f7d2995e9efb4c2",
            "3d195367ca5a4a08a63688c746bc6336",
            "3982585f7ca94c35b5a0bb5cb45187c2",
            "65cc31fda1804159aa4d11ac4012f79a",
            "d831de161d6e447d8f274f58640044ac",
            "f04c200913564b8c92066ea92043f21a",
            "6d7ed3454d6540f387e6f69902c4e5c8",
            "e90eb3a0fb3c4a67bd87a4826676f29c",
            "393f9970d8164810b286bcba8dab165c",
            "c82bf66f371843c5a599b117f0c88e37",
            "dde510d23b734c38bf89d5120e8ca365",
            "6f8cf85f074241be9f7f69a316aa7504",
            "54ebaf2016c94d8185d3d98f30a97048",
            "b67d3d42ed7345ed8a64a067836b0ae5",
            "7d534683ad954e2791c67e5870fdee13",
            "01ecebe08f214368a167012e0b6b51f8",
            "0399457fbb094aed9a08c394f8dbf02e",
            "0866ef4cadc945179c02e1f4445154f5",
            "8566f5d858c64272b1074855f5fa10d5",
            "ecfa8b1a2ff34324bae0f513d6d7d5ac",
            "3d65a9e48d6e44d5b9ec750ee1ec7541",
            "9475a15947b143959898620bd225c3db",
            "617ff067ff93464284b977b4b4d8ceee",
            "c0a0576e619c4b278e07cfab94e5810a",
            "e83cdd59d4e3405dbbb9a77e03a1a809",
            "69029446cf7d41b585e3d3a03aa2404c",
            "7f66b3b5186d4149aacecf6b3f32cff5",
            "38d379d949514a2eaf4dce39acab2e52",
            "78d1508ba21d4854a4525478ce023704",
            "5630150a89ad4671b884f3d9559441ab"
          ]
        },
        "outputId": "7a1488c0-a0bd-4054-c0d9-c281bf7d2add"
      },
      "outputs": [
        {
          "output_type": "stream",
          "name": "stderr",
          "text": [
            "<ipython-input-15-88148e43040c>:9: LangChainDeprecationWarning: The class `HuggingFaceEmbeddings` was deprecated in LangChain 0.2.2 and will be removed in 1.0. An updated version of the class exists in the :class:`~langchain-huggingface package and should be used instead. To use it run `pip install -U :class:`~langchain-huggingface` and import as `from :class:`~langchain_huggingface import HuggingFaceEmbeddings``.\n",
            "  embedding_function = SentenceTransformerEmbeddings(model_name=\"all-MiniLM-L6-v2\")\n"
          ]
        },
        {
          "output_type": "display_data",
          "data": {
            "text/plain": [
              "modules.json:   0%|          | 0.00/349 [00:00<?, ?B/s]"
            ],
            "application/vnd.jupyter.widget-view+json": {
              "version_major": 2,
              "version_minor": 0,
              "model_id": "66d861a98aec4cc0a69fc52c52c1aaf8"
            }
          },
          "metadata": {}
        },
        {
          "output_type": "display_data",
          "data": {
            "text/plain": [
              "config_sentence_transformers.json:   0%|          | 0.00/116 [00:00<?, ?B/s]"
            ],
            "application/vnd.jupyter.widget-view+json": {
              "version_major": 2,
              "version_minor": 0,
              "model_id": "d572387950984272a72bc61b90adddb2"
            }
          },
          "metadata": {}
        },
        {
          "output_type": "display_data",
          "data": {
            "text/plain": [
              "README.md:   0%|          | 0.00/10.7k [00:00<?, ?B/s]"
            ],
            "application/vnd.jupyter.widget-view+json": {
              "version_major": 2,
              "version_minor": 0,
              "model_id": "3168398e5c574b72b33de32b2d491bdd"
            }
          },
          "metadata": {}
        },
        {
          "output_type": "display_data",
          "data": {
            "text/plain": [
              "sentence_bert_config.json:   0%|          | 0.00/53.0 [00:00<?, ?B/s]"
            ],
            "application/vnd.jupyter.widget-view+json": {
              "version_major": 2,
              "version_minor": 0,
              "model_id": "5c05b6d39ecf4532a4e39af516a94069"
            }
          },
          "metadata": {}
        },
        {
          "output_type": "display_data",
          "data": {
            "text/plain": [
              "config.json:   0%|          | 0.00/612 [00:00<?, ?B/s]"
            ],
            "application/vnd.jupyter.widget-view+json": {
              "version_major": 2,
              "version_minor": 0,
              "model_id": "37f739d0de46472aa5fbf75d7c428f05"
            }
          },
          "metadata": {}
        },
        {
          "output_type": "display_data",
          "data": {
            "text/plain": [
              "model.safetensors:   0%|          | 0.00/90.9M [00:00<?, ?B/s]"
            ],
            "application/vnd.jupyter.widget-view+json": {
              "version_major": 2,
              "version_minor": 0,
              "model_id": "5ec6c3ddb15a4292b01f86619b98a637"
            }
          },
          "metadata": {}
        },
        {
          "output_type": "display_data",
          "data": {
            "text/plain": [
              "tokenizer_config.json:   0%|          | 0.00/350 [00:00<?, ?B/s]"
            ],
            "application/vnd.jupyter.widget-view+json": {
              "version_major": 2,
              "version_minor": 0,
              "model_id": "ea4f25efcae947499f1642ae8c4de043"
            }
          },
          "metadata": {}
        },
        {
          "output_type": "display_data",
          "data": {
            "text/plain": [
              "vocab.txt:   0%|          | 0.00/232k [00:00<?, ?B/s]"
            ],
            "application/vnd.jupyter.widget-view+json": {
              "version_major": 2,
              "version_minor": 0,
              "model_id": "62a3c89a00a04d058101d8c3c793fc43"
            }
          },
          "metadata": {}
        },
        {
          "output_type": "display_data",
          "data": {
            "text/plain": [
              "tokenizer.json:   0%|          | 0.00/466k [00:00<?, ?B/s]"
            ],
            "application/vnd.jupyter.widget-view+json": {
              "version_major": 2,
              "version_minor": 0,
              "model_id": "375634db6a1b4bc89a3f4b567389fb8e"
            }
          },
          "metadata": {}
        },
        {
          "output_type": "display_data",
          "data": {
            "text/plain": [
              "special_tokens_map.json:   0%|          | 0.00/112 [00:00<?, ?B/s]"
            ],
            "application/vnd.jupyter.widget-view+json": {
              "version_major": 2,
              "version_minor": 0,
              "model_id": "393f9970d8164810b286bcba8dab165c"
            }
          },
          "metadata": {}
        },
        {
          "output_type": "display_data",
          "data": {
            "text/plain": [
              "1_Pooling/config.json:   0%|          | 0.00/190 [00:00<?, ?B/s]"
            ],
            "application/vnd.jupyter.widget-view+json": {
              "version_major": 2,
              "version_minor": 0,
              "model_id": "ecfa8b1a2ff34324bae0f513d6d7d5ac"
            }
          },
          "metadata": {}
        }
      ],
      "source": [
        "import os\n",
        "import shutil\n",
        "from langchain.embeddings import SentenceTransformerEmbeddings\n",
        "from langchain.document_loaders import PyPDFLoader, Docx2txtLoader\n",
        "from langchain.text_splitter import RecursiveCharacterTextSplitter\n",
        "from langchain.vectorstores import Chroma\n",
        "\n",
        "# Initialize the embedding model\n",
        "embedding_function = SentenceTransformerEmbeddings(model_name=\"all-MiniLM-L6-v2\")\n",
        "\n",
        "def pdf_vectorstore(folder_path: str):\n",
        "    if not os.path.isdir(folder_path):\n",
        "        raise ValueError(f\"Provided folder path '{folder_path}' does not exist or is not a directory.\")\n",
        "\n",
        "    documents = []\n",
        "    for filename in os.listdir(folder_path):\n",
        "        file_path = os.path.join(folder_path, filename)\n",
        "        if filename.endswith('.pdf'):\n",
        "            print(f\"Loading PDF file: {filename}\")\n",
        "            loader = PyPDFLoader(file_path)\n",
        "        elif filename.endswith('.docx'):\n",
        "            print(f\"Loading DOCX file: {filename}\")\n",
        "            loader = Docx2txtLoader(file_path)\n",
        "        else:\n",
        "            print(f\"Skipping unsupported file type: {filename}\")\n",
        "            continue\n",
        "        documents.extend(loader.load())\n",
        "\n",
        "    if not documents:\n",
        "        raise ValueError(\"No valid documents found in the folder.\")\n",
        "\n",
        "    print(\"Splitting documents into chunks...\")\n",
        "    text_splitter = RecursiveCharacterTextSplitter(chunk_size=1000, chunk_overlap=200)\n",
        "    splits = text_splitter.split_documents(documents)\n",
        "    print(f\"Total chunks created: {len(splits)}\")\n",
        "\n",
        "    # Define persist directory\n",
        "    persist_directory = \"/tmp/chroma_db\"\n",
        "\n",
        "    # Ensure clean, writable directory\n",
        "    if os.path.exists(persist_directory):\n",
        "        print(\"Resetting persist directory...\")\n",
        "        shutil.rmtree(persist_directory)\n",
        "    os.makedirs(persist_directory, exist_ok=True)\n",
        "\n",
        "    if not os.access(persist_directory, os.W_OK):\n",
        "        raise PermissionError(f\"Directory '{persist_directory}' is not writable.\")\n",
        "\n",
        "    print(\"Initializing the vector store...\")\n",
        "    collection_name = \"my_collection\"\n",
        "    vectorstore = Chroma.from_documents(\n",
        "        collection_name=collection_name,\n",
        "        documents=splits,\n",
        "        embedding=embedding_function,\n",
        "        persist_directory=persist_directory\n",
        "    )\n",
        "    print(\"Vector store successfully created.\")\n",
        "    return vectorstore\n"
      ]
    },
    {
      "cell_type": "code",
      "source": [
        "print(\"https://www.icsi.edu/media/webmodules/CSJ/January/17.pdf\")"
      ],
      "metadata": {
        "colab": {
          "base_uri": "https://localhost:8080/"
        },
        "id": "FaDzchze0XHL",
        "outputId": "1b52c782-3b39-4670-8102-d02dfcb4bccf"
      },
      "execution_count": null,
      "outputs": [
        {
          "output_type": "stream",
          "name": "stdout",
          "text": [
            "https://www.icsi.edu/media/webmodules/CSJ/January/17.pdf\n"
          ]
        }
      ]
    },
    {
      "cell_type": "markdown",
      "source": [
        "**Provide your folder path here**"
      ],
      "metadata": {
        "id": "ldoxz9y-rywM"
      }
    },
    {
      "cell_type": "code",
      "execution_count": null,
      "metadata": {
        "colab": {
          "base_uri": "https://localhost:8080/"
        },
        "collapsed": true,
        "id": "YfH6CqwyJctF",
        "outputId": "112b07c6-8aea-4896-dd32-3f5b66d295d7"
      },
      "outputs": [
        {
          "output_type": "stream",
          "name": "stdout",
          "text": [
            "Skipping unsupported file type: .config\n",
            "Skipping unsupported file type: .cache\n",
            "Loading PDF file: 17.pdf\n",
            "Skipping unsupported file type: sample_data\n",
            "Splitting documents into chunks...\n",
            "Total chunks created: 47\n",
            "Initializing the vector store...\n",
            "Vector store successfully created.\n"
          ]
        }
      ],
      "source": [
        " # Load documents from a folder\n",
        "folder_path = \"/content/\"  # Replace with the actual path to your folder\n",
        "vectorstore=pdf_vectorstore(folder_path)"
      ]
    },
    {
      "cell_type": "code",
      "execution_count": null,
      "metadata": {
        "colab": {
          "base_uri": "https://localhost:8080/",
          "height": 157
        },
        "id": "M85jVDemQ_6E",
        "outputId": "76ef5f0a-ec8d-4d75-f610-c5e203eab5ef"
      },
      "outputs": [
        {
          "output_type": "execute_result",
          "data": {
            "text/plain": [
              "'of a higher salary, and the organization where they are \\nemployed is not growing as per the market standards \\nor in comparison to its competitors, ESOP may result \\nin monetary loss.\\nQ.  How does exercise price determine for ESOP?\\nA. Companies are free to decide the exercise price, \\nwhich may be issued at a discount or premium but the \\nexercise price determined by the Company shall not \\nbe less than the par value of the shares.\\nQ.  Does it mandatory for the Company to issue and \\nallot only fresh shares under ESOP scheme?\\nA. No, it is not mandatory for the company to issue and \\nallot only fresh shares under ESOP scheme, but it may \\nchoose either option:\\n 1.  If Company is willing to issue fresh shares, it \\nshould adopt direct route to issue and allot shares \\nunder the scheme of ESOP.\\n 2. If the Company is willing to channelize its \\nexisting share only, in such case Company should \\nadopt Trust route to issue and allot shares under \\nthe scheme of ESOP.\\nQ.  How are ESOP taxed in India?\\n\\ncompleted.\\nExercise period:  It means the time period which starts \\nafter the completion of vesting period within which an \\nemployee can exercise his/her right to apply for shares \\nagainst the vested options in pursuance of the scheme of \\nESOP approved by the shareholders in general meeting by \\nway of Special Resolution.\\nExercise price: Means the price payable by an employee \\nfor exercising the options granted in pursuance of the \\nscheme of ESOP. \\nARTICLE\\nJANUARY 2024   |   107   CHARTERED SECRETARY\\n\\nissued pursuant to ESOP.\\n\\uf09f Fix time, date and venue to convene the Extra \\nOrdinary General Meeting to pass Special Resolution \\nfor issuing ESOP.\\n\\uf09f Give outcome of Board meeting to Stock Exchange(s) \\nwithin 30 minutes from the conclusion of the meeting.\\nEmployees can exercise his option and \\npurchase shares after the vesting date is \\nover at a pre-determined price, which is \\nusually less than the share’s Fair Market \\nValue (FMV). As a result, the difference \\nbetween the FMV and the exercise price of \\nthe share is considered a perquisite in the \\nemployee’s hands and taxed at his income \\ntax slab rate.\\nARTICLE\\n112    |   JANUARY 2024    CHARTERED SECRETARY\\nEmployee Stock Option Plan (ESOP) : The Finer Nuances\\n\\nFAQs\\nQ.  What is an ESOP?\\nA.  Thus, we can say that ‘ESOP’ stands for ‘Employee \\nStock Option Plan’ which is a kind of employee benefit \\nplan that gives employees the right to purchase shares \\nof their employer company at a pre-determined price \\nafter a certain time period.\\nQ.  Does the ESOP supplement the salary of an \\nemployee?\\nA.  From the point view of monetary benefits, we can say \\nthat ESOPs are often used to supplement the salaries \\nof employees. Instead of paying high salary, employees \\nmay be offered ESOPs, which may generate more \\nwealth for employees if the Company is growing and \\ngenerating good amount of earnings which is over and \\nabove break-even point. \\nQ.  Is ESOP risky and having any possibility of \\nmonetary loss?\\nA. It may be risky, if an employee accepts ESOPs instead \\nof a higher salary, and the organization where they are \\nemployed is not growing as per the market standards \\nor in comparison to its competitors, ESOP may result \\nin monetary loss.'"
            ],
            "application/vnd.google.colaboratory.intrinsic+json": {
              "type": "string"
            }
          },
          "metadata": {},
          "execution_count": 17
        }
      ],
      "source": [
        "\n",
        "from langchain.vectorstores.base import VectorStoreRetriever\n",
        "retriever = VectorStoreRetriever(vectorstore=vectorstore)\n",
        "# retriever.invoke(\" How does exercise price determine for ESOP? \")\n",
        "def docs2str_(docs):\n",
        "    return \"\\n\\n\".join(doc.page_content for doc in docs)\n",
        "\n",
        "def pdf_search_tool(query: Annotated[str, \"question or query ask by user\"])->str:\n",
        "  \"\"\"pdf search\"\"\"\n",
        "  docs=retriever.invoke(query)\n",
        "  return docs2str_(docs)\n",
        "pdf_search_tool(\" How does exercise price determine for ESOP? \")"
      ]
    },
    {
      "cell_type": "markdown",
      "source": [
        "**RetrieverAgent:** The RetrieverAgent processes the retrieved information and generates an answer using the Generator."
      ],
      "metadata": {
        "id": "bFn2VV-er5zH"
      }
    },
    {
      "cell_type": "code",
      "source": [
        "retriever_agent = ConversableAgent(\n",
        "    name=\"Retriever Agent\",\n",
        "    system_message='''You are responsible for retrieving relevant information from the given source.\n",
        "    first modify the query for retrieving the information from vectorstore or websearch.\n",
        "  keyword provide by Router Agent based on that if keyword is vectorstore then use pdf_search_tool(query) otherwise use web_search_tool(query) for retreiving the information related query\n",
        "    Answer questions concisely using the retrieved context.\n",
        "    Return 'TERMINATE' when retrieval is completed.''',\n",
        "    llm_config=llm_config,\n",
        "    code_execution_config=False,\n",
        "    function_map={\"web_search_tool\": web_search_tool,\"pdf_search_tool\":pdf_search_tool},\n",
        "    human_input_mode=\"NEVER\",\n",
        "    is_termination_msg=lambda msg: \"TERMINATE\" in msg.get(\"content\", \"\").upper(),\n",
        "\n",
        ")"
      ],
      "metadata": {
        "id": "hVz1AF81-HsC"
      },
      "execution_count": null,
      "outputs": []
    },
    {
      "cell_type": "markdown",
      "source": [
        "**Resitering pdf_search_tool and  web_search_tool to Retriever Agent:**"
      ],
      "metadata": {
        "id": "yfEyRtmBsM1R"
      }
    },
    {
      "cell_type": "code",
      "execution_count": null,
      "metadata": {
        "colab": {
          "base_uri": "https://localhost:8080/"
        },
        "id": "gVHif8UcSLM3",
        "outputId": "1247c08b-0016-4021-e7e6-3e0c32c785f0"
      },
      "outputs": [
        {
          "output_type": "execute_result",
          "data": {
            "text/plain": [
              "[{'type': 'function',\n",
              "  'function': {'description': 'Retrieve information  from vectorstore ',\n",
              "   'name': 'pdf_search_tool',\n",
              "   'parameters': {'type': 'object',\n",
              "    'properties': {'query': {'type': 'string',\n",
              "      'description': 'question or query ask by user'}},\n",
              "    'required': ['query']}}},\n",
              " {'type': 'function',\n",
              "  'function': {'description': 'Retrieve information  from websearch ',\n",
              "   'name': 'web_search_tool',\n",
              "   'parameters': {'type': 'object',\n",
              "    'properties': {'query': {'type': 'string',\n",
              "      'description': 'question or query ask by user'}},\n",
              "    'required': ['query']}}}]"
            ]
          },
          "metadata": {},
          "execution_count": 19
        }
      ],
      "source": [
        "autogen.agentchat.register_function(\n",
        "    pdf_search_tool,\n",
        "    caller=retriever_agent,\n",
        "    executor=user_proxy,\n",
        "    description=\"Retrieve information  from vectorstore \",\n",
        "\n",
        ")\n",
        "autogen.agentchat.register_function(\n",
        "    web_search_tool,\n",
        "    caller=retriever_agent,\n",
        "    executor=user_proxy,\n",
        "    description=\"Retrieve information  from websearch \",\n",
        "\n",
        ")\n",
        "retriever_agent.llm_config[\"tools\"]"
      ]
    },
    {
      "cell_type": "code",
      "execution_count": null,
      "metadata": {
        "colab": {
          "base_uri": "https://localhost:8080/"
        },
        "id": "ckLYmDj393Li",
        "outputId": "10d7ea0e-fde1-4766-afbb-f5c8359ab020"
      },
      "outputs": [
        {
          "output_type": "stream",
          "name": "stdout",
          "text": [
            "user_proxy (to Retriever Agent):\n",
            "\n",
            "who is presisdent of america? provide clear and consie \n",
            "\n",
            "--------------------------------------------------------------------------------\n",
            "[autogen.oai.client: 12-03 01:38:10] {410} WARNING - Model llama3-8b-8192 is not found. The cost will be 0. In your config_list, add field {\"price\" : [prompt_price_per_1k, completion_token_price_per_1k]} for customized pricing.\n"
          ]
        },
        {
          "output_type": "stream",
          "name": "stderr",
          "text": [
            "WARNING:autogen.oai.client:Model llama3-8b-8192 is not found. The cost will be 0. In your config_list, add field {\"price\" : [prompt_price_per_1k, completion_token_price_per_1k]} for customized pricing.\n"
          ]
        },
        {
          "output_type": "stream",
          "name": "stdout",
          "text": [
            "Retriever Agent (to user_proxy):\n",
            "\n",
            "***** Suggested tool call (call_4mec): web_search_tool *****\n",
            "Arguments: \n",
            "{\"query\":\"who is the president of the america\"}\n",
            "************************************************************\n",
            "\n",
            "--------------------------------------------------------------------------------\n",
            "\n",
            ">>>>>>>> EXECUTING FUNCTION web_search_tool...\n",
            "user_proxy (to Retriever Agent):\n",
            "\n",
            "***** Response from calling tool (call_4mec) *****\n",
            "The president is also the head of the executive branch of the federal government of the United States and is the chairman of the presidential cabinet.[10]\n",
            "Joe Biden is the 46th and current president of the United States, in office since January 2021.[11]\n",
            "Eligibility and requirements[change | change source]\n",
            "Article II, Section 1, Clause 5 of the constitution states for a person to serve as president must:\n",
            "Election process and presidential terms[change | change source]\n",
            "The president is elected by the people through the Electoral College to a four-year term, along with the vice presidential candidate or the incumbent vice president of the United States as their running mate.[12] Contents\n",
            "President of the United States\n",
            "The president of the United States (POTUS)[9] is the head of state and head of government of the United States of America and the commander-in-chief of the United States Armed Forces. Executive Office of the President[change | change source]\n",
            "The Executive Office of the President consists of the offices and agencies that support the work of the president at the center of the executive branch of the United States federal government. President-elect of the United States[change | change source]\n",
            "The president-elect of the United States is the candidate who has won the United States presidential election and is awaiting inauguration to become the president.\n",
            " The office consists of several offices and agencies, such as the White House Office, the staff working directly for and reporting to the president, including White House staff, the National Security Council, and the Office of Management and Budget.\n",
            "\n",
            "\n",
            "List of presidents of the United States | U.S. Presidents, Presidential Terms, Election Results, Timelines | Britannica Ask the Chatbot Games & Quizzes ProCon History & Society Science & Tech Biographies Animals & Nature Geography & Travel Arts & Culture Money Videos list of presidents of the United States list of presidents of the United States https://www.britannica.com/topic/Presidents-of-the-United-States-1846696 As the head of the government of the United States, the president is arguably the most powerful government official in the world. The table below the graphic provides a list of presidents of the United States, their birthplaces, political parties, and terms of office. Presidents of the United States | 4 | James Madison | Virginia | Democratic-Republican | 1809–17 |\n",
            "\n",
            "Presidents | The White House The 4th President of the United States The 5th President of the United States The 6th President of the United States The 7th President of the United States The 8th President of the United States The 9th President of the United States The 10th President of the United States The 11th President of the United States The 12th President of the United States The 13th President of the United States The 14th President of the United States The 15th President of the United States The 16th President of the United States The 17th President of the United States The 18th President of the United States Biden Jr. THE 46TH PRESIDENT OF THE UNITED STATES\n",
            "\n",
            "At his inauguration, Biden addressed the country's challenges and divisions, saying, “Few people in our nation’s history have been more challenged or found a time more challenging or difficult than the time we’re in now...To overcome these challenges, to restore the soul and secure the future of America, requires so much more than words and requires the most elusive of all things in a democracy, unity.”\n",
            " Joe Biden\n",
            "By: History.com Editors\n",
            "Updated: April 25, 2023\n",
            "| Original: December 16, 2009\n",
            "Table of Contents\n",
            "Joe Biden (1942-), a man who spent nearly a half-century in public service as a senator and vice president, and who endured profound family loss, became the 46th president of the United States on January 20, 2021.\n",
            " U.S. Presidents\n",
            "Stream U.S. Presidents documentaries and your favorite HISTORY series, commercial-free\n",
            "COVID-19 and the 2020 Election\n",
            "A looming issue throughout the election was the coronavirus pandemic which had claimed more than 230,000 American lives and infected more than 9 million in the country. Although he had appropriately credited Kinnock in prior speeches, he failed to do so during an appearance at the Iowa State Fair and even borrowed facts from Kinnock’s life, stating inaccurately, for example, that he was the first in his family to go to college and that his ancestors were coal miners. Joe Biden as Vice President\n",
            "Biden kicked off his second attempt at the White House 20 years later, during the 2008 primary, but dropped out after securing only 1 percent of the delegates in the Iowa Democratic caucuses. \n",
            "\n",
            "National Union[l]\n",
            "1864\n",
            "Andrew Johnson\n",
            "Democratic\n",
            "1872\n",
            "Henry Wilson[e]\n",
            "Vacant afterNovember 22, 1875\n",
            "Vacant afterNovember 25, 1885\n",
            "1900\n",
            "Vacant afterNovember 21, 1899\n",
            "Theodore Roosevelt\n",
            "1904\n",
            "Charles W. Fairbanks\n",
            "Vacant afterOctober 30, 1912\n",
            "1916\n",
            "1924\n",
            "Charles G. Dawes\n",
            "1936\n",
            "1940\n",
            "1944\n",
            "Henry A. Wallace\n",
            "Harry S. Truman\n",
            "1948\n",
            "Alben W. Barkley\n",
            "1956\n",
            "1964\n",
            "Hubert Humphrey\n",
            "1972\n",
            "Vacant:October 10 – December 6, 1973\n",
            "Gerald Ford[t]\n",
            "Nelson Rockefeller[t]\n",
            "1984\n",
            "1996\n",
            "2004\n",
            "2012\n",
            "See also\n",
            "Notes\n",
            "References\n",
            "Works cited\n",
            "General\n",
            "Expert studies\n",
            "Presidential biographies\n",
            "Online sources\n",
            "External links He was, and remains, the only U.S. president never affiliated with a political party.[13]\n",
            "Presidents\n",
            "1792\n",
            "1804\n",
            "George Clinton\n",
            "1812\n",
            "Vacant afterApril 20, 1812\n",
            "Elbridge Gerry[e]\n",
            "Vacant afterNovember 23, 1814\n",
            " Contents\n",
            "List of presidents of the United States\n",
            "The president of the United States is the head of state and head of government of the United States,[1] indirectly elected to a four-year term via the Electoral College.[2] Four presidents died in office of natural causes (William Henry Harrison, Zachary Taylor, Warren G. Harding, and Franklin D. Roosevelt), four were assassinated (Abraham Lincoln, James A. Garfield, William McKinley, and John F. Kennedy), and one resigned (Richard Nixon, facing impeachment and removal from office).[10] John Tyler was the first vice president to assume the presidency during a presidential term, and set the precedent that a vice president who does so becomes the fully functioning president with his presidency.[11]\n",
            "Throughout most of its history, American politics has been dominated by political parties. 1820\n",
            "National Republican\n",
            "1832\n",
            "Vacant afterDecember 28, 1832\n",
            "Martin Van Buren\n",
            "Unaffiliated\n",
            "Vacant afterApril 18, 1853\n",
            "\n",
            "**************************************************\n",
            "\n",
            "--------------------------------------------------------------------------------\n",
            "[autogen.oai.client: 12-03 01:38:13] {410} WARNING - Model llama3-8b-8192 is not found. The cost will be 0. In your config_list, add field {\"price\" : [prompt_price_per_1k, completion_token_price_per_1k]} for customized pricing.\n"
          ]
        },
        {
          "output_type": "stream",
          "name": "stderr",
          "text": [
            "WARNING:autogen.oai.client:Model llama3-8b-8192 is not found. The cost will be 0. In your config_list, add field {\"price\" : [prompt_price_per_1k, completion_token_price_per_1k]} for customized pricing.\n"
          ]
        },
        {
          "output_type": "stream",
          "name": "stdout",
          "text": [
            "Retriever Agent (to user_proxy):\n",
            "\n",
            "Joe Biden is the 46th and current President of the United States, in office since January 2021.\n",
            "\n",
            "--------------------------------------------------------------------------------\n",
            "user_proxy (to Retriever Agent):\n",
            "\n",
            "\n",
            "\n",
            "--------------------------------------------------------------------------------\n",
            "[autogen.oai.client: 12-03 01:38:13] {410} WARNING - Model llama3-8b-8192 is not found. The cost will be 0. In your config_list, add field {\"price\" : [prompt_price_per_1k, completion_token_price_per_1k]} for customized pricing.\n"
          ]
        },
        {
          "output_type": "stream",
          "name": "stderr",
          "text": [
            "WARNING:autogen.oai.client:Model llama3-8b-8192 is not found. The cost will be 0. In your config_list, add field {\"price\" : [prompt_price_per_1k, completion_token_price_per_1k]} for customized pricing.\n"
          ]
        },
        {
          "output_type": "stream",
          "name": "stdout",
          "text": [
            "Retriever Agent (to user_proxy):\n",
            "\n",
            "TERMINATE\n",
            "\n",
            "--------------------------------------------------------------------------------\n",
            "[autogen.oai.client: 12-03 01:38:14] {410} WARNING - Model llama3-8b-8192 is not found. The cost will be 0. In your config_list, add field {\"price\" : [prompt_price_per_1k, completion_token_price_per_1k]} for customized pricing.\n"
          ]
        },
        {
          "output_type": "stream",
          "name": "stderr",
          "text": [
            "WARNING:autogen.oai.client:Model llama3-8b-8192 is not found. The cost will be 0. In your config_list, add field {\"price\" : [prompt_price_per_1k, completion_token_price_per_1k]} for customized pricing.\n"
          ]
        }
      ],
      "source": [
        "\n",
        "with Cache.disk() as cache:\n",
        "    # start the conversation\n",
        "    res = user_proxy.initiate_chat(\n",
        "    retriever_agent, message=\"who is presisdent of america? provide clear and consie \", summary_method=\"reflection_with_llm\", cache=cache\n",
        "    )"
      ]
    },
    {
      "cell_type": "code",
      "execution_count": null,
      "metadata": {
        "colab": {
          "base_uri": "https://localhost:8080/"
        },
        "id": "aihobtA1Sj2B",
        "outputId": "242f9cbf-7eda-423c-ab6c-02180131ec60"
      },
      "outputs": [
        {
          "output_type": "stream",
          "name": "stdout",
          "text": [
            "user_proxy (to Retriever Agent):\n",
            "\n",
            "How does exercise price determine for ESOP?\n",
            "    \n",
            "\n",
            "--------------------------------------------------------------------------------\n",
            "[autogen.oai.client: 12-03 01:38:23] {410} WARNING - Model llama3-8b-8192 is not found. The cost will be 0. In your config_list, add field {\"price\" : [prompt_price_per_1k, completion_token_price_per_1k]} for customized pricing.\n"
          ]
        },
        {
          "output_type": "stream",
          "name": "stderr",
          "text": [
            "WARNING:autogen.oai.client:Model llama3-8b-8192 is not found. The cost will be 0. In your config_list, add field {\"price\" : [prompt_price_per_1k, completion_token_price_per_1k]} for customized pricing.\n"
          ]
        },
        {
          "output_type": "stream",
          "name": "stdout",
          "text": [
            "Retriever Agent (to user_proxy):\n",
            "\n",
            "***** Suggested tool call (call_5x50): pdf_search_tool *****\n",
            "Arguments: \n",
            "{\"query\":\"How does exercise price determine for ESOP?\"}\n",
            "************************************************************\n",
            "\n",
            "--------------------------------------------------------------------------------\n",
            "\n",
            ">>>>>>>> EXECUTING FUNCTION pdf_search_tool...\n",
            "user_proxy (to Retriever Agent):\n",
            "\n",
            "***** Response from calling tool (call_5x50) *****\n",
            "of a higher salary, and the organization where they are \n",
            "employed is not growing as per the market standards \n",
            "or in comparison to its competitors, ESOP may result \n",
            "in monetary loss.\n",
            "Q.  How does exercise price determine for ESOP?\n",
            "A. Companies are free to decide the exercise price, \n",
            "which may be issued at a discount or premium but the \n",
            "exercise price determined by the Company shall not \n",
            "be less than the par value of the shares.\n",
            "Q.  Does it mandatory for the Company to issue and \n",
            "allot only fresh shares under ESOP scheme?\n",
            "A. No, it is not mandatory for the company to issue and \n",
            "allot only fresh shares under ESOP scheme, but it may \n",
            "choose either option:\n",
            " 1.  If Company is willing to issue fresh shares, it \n",
            "should adopt direct route to issue and allot shares \n",
            "under the scheme of ESOP.\n",
            " 2. If the Company is willing to channelize its \n",
            "existing share only, in such case Company should \n",
            "adopt Trust route to issue and allot shares under \n",
            "the scheme of ESOP.\n",
            "Q.  How are ESOP taxed in India?\n",
            "\n",
            "completed.\n",
            "Exercise period:  It means the time period which starts \n",
            "after the completion of vesting period within which an \n",
            "employee can exercise his/her right to apply for shares \n",
            "against the vested options in pursuance of the scheme of \n",
            "ESOP approved by the shareholders in general meeting by \n",
            "way of Special Resolution.\n",
            "Exercise price: Means the price payable by an employee \n",
            "for exercising the options granted in pursuance of the \n",
            "scheme of ESOP. \n",
            "ARTICLE\n",
            "JANUARY 2024   |   107   CHARTERED SECRETARY\n",
            "\n",
            "issued pursuant to ESOP.\n",
            " Fix time, date and venue to convene the Extra \n",
            "Ordinary General Meeting to pass Special Resolution \n",
            "for issuing ESOP.\n",
            " Give outcome of Board meeting to Stock Exchange(s) \n",
            "within 30 minutes from the conclusion of the meeting.\n",
            "Employees can exercise his option and \n",
            "purchase shares after the vesting date is \n",
            "over at a pre-determined price, which is \n",
            "usually less than the share’s Fair Market \n",
            "Value (FMV). As a result, the difference \n",
            "between the FMV and the exercise price of \n",
            "the share is considered a perquisite in the \n",
            "employee’s hands and taxed at his income \n",
            "tax slab rate.\n",
            "ARTICLE\n",
            "112    |   JANUARY 2024    CHARTERED SECRETARY\n",
            "Employee Stock Option Plan (ESOP) : The Finer Nuances\n",
            "\n",
            "FAQs\n",
            "Q.  What is an ESOP?\n",
            "A.  Thus, we can say that ‘ESOP’ stands for ‘Employee \n",
            "Stock Option Plan’ which is a kind of employee benefit \n",
            "plan that gives employees the right to purchase shares \n",
            "of their employer company at a pre-determined price \n",
            "after a certain time period.\n",
            "Q.  Does the ESOP supplement the salary of an \n",
            "employee?\n",
            "A.  From the point view of monetary benefits, we can say \n",
            "that ESOPs are often used to supplement the salaries \n",
            "of employees. Instead of paying high salary, employees \n",
            "may be offered ESOPs, which may generate more \n",
            "wealth for employees if the Company is growing and \n",
            "generating good amount of earnings which is over and \n",
            "above break-even point. \n",
            "Q.  Is ESOP risky and having any possibility of \n",
            "monetary loss?\n",
            "A. It may be risky, if an employee accepts ESOPs instead \n",
            "of a higher salary, and the organization where they are \n",
            "employed is not growing as per the market standards \n",
            "or in comparison to its competitors, ESOP may result \n",
            "in monetary loss.\n",
            "**************************************************\n",
            "\n",
            "--------------------------------------------------------------------------------\n",
            "[autogen.oai.client: 12-03 01:38:24] {410} WARNING - Model llama3-8b-8192 is not found. The cost will be 0. In your config_list, add field {\"price\" : [prompt_price_per_1k, completion_token_price_per_1k]} for customized pricing.\n"
          ]
        },
        {
          "output_type": "stream",
          "name": "stderr",
          "text": [
            "WARNING:autogen.oai.client:Model llama3-8b-8192 is not found. The cost will be 0. In your config_list, add field {\"price\" : [prompt_price_per_1k, completion_token_price_per_1k]} for customized pricing.\n"
          ]
        },
        {
          "output_type": "stream",
          "name": "stdout",
          "text": [
            "Retriever Agent (to user_proxy):\n",
            "\n",
            "Based on the output from the tool call, I'll provide the final answer.\n",
            "\n",
            "According to the output, the exercise price determines the price payable by an employee for exercising the options granted in pursuance of the scheme of ESOP. Furthermore, the price is usually less than the share's Fair Market Value (FMV), and the difference between the FMV and the exercise price is considered a perquisite in the employee's hands and taxed at their income tax slab rate.\n",
            "\n",
            "So, in simple terms, the exercise price is the price at which employees can buy the company's shares, and it's usually lower than the current market value.\n",
            "\n",
            "--------------------------------------------------------------------------------\n",
            "user_proxy (to Retriever Agent):\n",
            "\n",
            "\n",
            "\n",
            "--------------------------------------------------------------------------------\n",
            "[autogen.oai.client: 12-03 01:38:24] {410} WARNING - Model llama3-8b-8192 is not found. The cost will be 0. In your config_list, add field {\"price\" : [prompt_price_per_1k, completion_token_price_per_1k]} for customized pricing.\n"
          ]
        },
        {
          "output_type": "stream",
          "name": "stderr",
          "text": [
            "WARNING:autogen.oai.client:Model llama3-8b-8192 is not found. The cost will be 0. In your config_list, add field {\"price\" : [prompt_price_per_1k, completion_token_price_per_1k]} for customized pricing.\n"
          ]
        },
        {
          "output_type": "stream",
          "name": "stdout",
          "text": [
            "Retriever Agent (to user_proxy):\n",
            "\n",
            "TERMINATE\n",
            "\n",
            "--------------------------------------------------------------------------------\n",
            "[autogen.oai.client: 12-03 01:38:25] {410} WARNING - Model llama3-8b-8192 is not found. The cost will be 0. In your config_list, add field {\"price\" : [prompt_price_per_1k, completion_token_price_per_1k]} for customized pricing.\n"
          ]
        },
        {
          "output_type": "stream",
          "name": "stderr",
          "text": [
            "WARNING:autogen.oai.client:Model llama3-8b-8192 is not found. The cost will be 0. In your config_list, add field {\"price\" : [prompt_price_per_1k, completion_token_price_per_1k]} for customized pricing.\n"
          ]
        }
      ],
      "source": [
        "with Cache.disk() as cache:\n",
        "    # start the conversation\n",
        "    res = user_proxy.initiate_chat(\n",
        "    retriever_agent, message=\"\"\"How does exercise price determine for ESOP?\n",
        "    \"\"\", summary_method=\"reflection_with_llm\", cache=cache\n",
        "    )"
      ]
    },
    {
      "cell_type": "markdown",
      "source": [
        "**Answer Grader**: An answer grader agent that evaluates the relevance of the retrieved information"
      ],
      "metadata": {
        "id": "5ncuVazQse5n"
      }
    },
    {
      "cell_type": "code",
      "execution_count": null,
      "metadata": {
        "id": "IU4c3PFXiOMa"
      },
      "outputs": [],
      "source": [
        "answer_grader_agent = ConversableAgent(\n",
        "    name=\"Answer Grader\",\n",
        "    system_message='''You assess whether the retrieved information from Retriever Agent is relevant to the query:(query).\n",
        "    Use retrieved response from retriever_agent and use that information for further process\n",
        "    If relevant, refine it for clarity; if not, suggest additional searches.\n",
        "    Return 'TERMINATE' when grading is complete.''',\n",
        "    llm_config=llm_config,\n",
        "    code_execution_config=False,\n",
        "    human_input_mode=\"NEVER\",\n",
        "    is_termination_msg=lambda msg: \"TERMINATE\" in msg.get(\"content\", \"\").upper(),\n",
        ")"
      ]
    },
    {
      "cell_type": "markdown",
      "source": [
        "**Hallucination Grader:** A hallucination grader agent that checks if the answer is grounded in the retrieved context"
      ],
      "metadata": {
        "id": "aEKGaUHDszGc"
      }
    },
    {
      "cell_type": "code",
      "execution_count": null,
      "metadata": {
        "id": "mKN7UqyTivAh"
      },
      "outputs": [],
      "source": [
        "\n",
        "hallucination_grader_agent = ConversableAgent(\n",
        "    name=\"Hallucination Grader\",\n",
        "    system_message='''You ensure the answer is factually accurate and grounded in the retrieved context.\n",
        "    Return 'TERMINATE' when verification is complete.''',\n",
        "    llm_config=llm_config,\n",
        "    code_execution_config=False,\n",
        "    human_input_mode=\"NEVER\",\n",
        "    is_termination_msg=lambda msg: \"TERMINATE\" in msg.get(\"content\", \"\").upper(),\n",
        ")"
      ]
    },
    {
      "cell_type": "markdown",
      "source": [
        "**Final Answer Generator:** A final answer agent that generates a clear and concise final answer"
      ],
      "metadata": {
        "id": "OpNTlxOXtMLM"
      }
    },
    {
      "cell_type": "code",
      "execution_count": null,
      "metadata": {
        "id": "94k8j4LNWRut"
      },
      "outputs": [],
      "source": [
        "final_answer_agent = ConversableAgent(\n",
        "    name=\"Final Answer Generator\",\n",
        "    system_message='''\"You are a grader assessing whether an answer is useful to resolve a question.\"\n",
        "        \"Make sure you meticulously review the answer and check if it makes sense for the question asked\"\n",
        "        \"If the answer is relevant generate a clear and concise response.\"\n",
        "        \"If the answer gnerated is not relevant then perform a websearch using 'web_search_tool(query)' and based on that provide a response\n",
        "        \"Return 'TERMINATE' when verification is complete.''',\n",
        "    llm_config=llm_config,\n",
        "    code_execution_config=False,\n",
        "    function_map={\"web_search_tool\": web_search_tool},\n",
        "    human_input_mode=\"NEVER\",\n",
        "    is_termination_msg=lambda msg: \"TERMINATE\" in msg.get(\"content\", \"\").upper(),\n",
        ")"
      ]
    },
    {
      "cell_type": "markdown",
      "source": [
        "**Resitering web_search_tool to Final Answer Generator**"
      ],
      "metadata": {
        "id": "aZnPHeuvtrUl"
      }
    },
    {
      "cell_type": "code",
      "source": [
        "\n",
        "autogen.agentchat.register_function(\n",
        "    web_search_tool,\n",
        "    caller=final_answer_agent,\n",
        "    executor=user_proxy,\n",
        "    description=\"Retrieve information from websearch\",\n",
        "\n",
        ")\n",
        "final_answer_agent.llm_config[\"tools\"]"
      ],
      "metadata": {
        "id": "yWJ8j6xrXJPo",
        "colab": {
          "base_uri": "https://localhost:8080/"
        },
        "outputId": "88813ff7-e27b-4bd2-9eae-53b2f3cc3f06"
      },
      "execution_count": null,
      "outputs": [
        {
          "output_type": "execute_result",
          "data": {
            "text/plain": [
              "[{'type': 'function',\n",
              "  'function': {'description': 'Retrieve information from websearch',\n",
              "   'name': 'web_search_tool',\n",
              "   'parameters': {'type': 'object',\n",
              "    'properties': {'query': {'type': 'string',\n",
              "      'description': 'question or query ask by user'}},\n",
              "    'required': ['query']}}}]"
            ]
          },
          "metadata": {},
          "execution_count": 23
        }
      ]
    },
    {
      "cell_type": "code",
      "source": [
        "with Cache.disk() as cache:\n",
        "    # start the conversation\n",
        "    res = user_proxy.initiate_chat(\n",
        "    final_answer_agent, message=\"who is presisdent of america?\", summary_method=\"reflection_with_llm\", cache=cache\n",
        "    )"
      ],
      "metadata": {
        "colab": {
          "base_uri": "https://localhost:8080/"
        },
        "id": "ZvKu5jog1uP-",
        "outputId": "01450bd3-3083-4edc-cd58-85d85bc2479f"
      },
      "execution_count": null,
      "outputs": [
        {
          "output_type": "stream",
          "name": "stdout",
          "text": [
            "user_proxy (to Final Answer Generator):\n",
            "\n",
            "who is presisdent of america?\n",
            "\n",
            "--------------------------------------------------------------------------------\n",
            "[autogen.oai.client: 12-03 13:08:17] {410} WARNING - Model llama3-8b-8192 is not found. The cost will be 0. In your config_list, add field {\"price\" : [prompt_price_per_1k, completion_token_price_per_1k]} for customized pricing.\n"
          ]
        },
        {
          "output_type": "stream",
          "name": "stderr",
          "text": [
            "WARNING:autogen.oai.client:Model llama3-8b-8192 is not found. The cost will be 0. In your config_list, add field {\"price\" : [prompt_price_per_1k, completion_token_price_per_1k]} for customized pricing.\n"
          ]
        },
        {
          "output_type": "stream",
          "name": "stdout",
          "text": [
            "Final Answer Generator (to user_proxy):\n",
            "\n",
            "***** Suggested tool call (call_7r10): web_search_tool *****\n",
            "Arguments: \n",
            "{\"query\":\"who is president of america\"}\n",
            "************************************************************\n",
            "\n",
            "--------------------------------------------------------------------------------\n",
            "\n",
            ">>>>>>>> EXECUTING FUNCTION web_search_tool...\n",
            "user_proxy (to Final Answer Generator):\n",
            "\n",
            "***** Response from calling tool (call_7r10) *****\n",
            "Presidents | The White House The 4th President of the United States The 5th President of the United States The 6th President of the United States The 7th President of the United States The 8th President of the United States The 9th President of the United States The 10th President of the United States The 11th President of the United States The 12th President of the United States The 13th President of the United States The 14th President of the United States The 15th President of the United States The 16th President of the United States The 17th President of the United States The 18th President of the United States Biden Jr. THE 46TH PRESIDENT OF THE UNITED STATES\n",
            "\n",
            "National Union[l]\n",
            "1864\n",
            "Andrew Johnson\n",
            "Democratic\n",
            "1872\n",
            "Henry Wilson[e]\n",
            "Vacant afterNovember 22, 1875\n",
            "Vacant afterNovember 25, 1885\n",
            "1900\n",
            "Vacant afterNovember 21, 1899\n",
            "Theodore Roosevelt\n",
            "1904\n",
            "Charles W. Fairbanks\n",
            "Vacant afterOctober 30, 1912\n",
            "1916\n",
            "1924\n",
            "Charles G. Dawes\n",
            "1936\n",
            "1940\n",
            "1944\n",
            "Henry A. Wallace\n",
            "Harry S. Truman\n",
            "1948\n",
            "Alben W. Barkley\n",
            "1956\n",
            "1964\n",
            "Hubert Humphrey\n",
            "1972\n",
            "Vacant:October 10 – December 6, 1973\n",
            "Gerald Ford[t]\n",
            "Nelson Rockefeller[t]\n",
            "1984\n",
            "1996\n",
            "2004\n",
            "2012\n",
            "See also\n",
            "Notes\n",
            "References\n",
            "Works cited\n",
            "General\n",
            "Expert studies\n",
            "Presidential biographies\n",
            "Online sources\n",
            "External links He was, and remains, the only U.S. president never affiliated with a political party.[13]\n",
            "Presidents\n",
            "1792\n",
            "1804\n",
            "George Clinton\n",
            "1812\n",
            "Vacant afterApril 20, 1812\n",
            "Elbridge Gerry[e]\n",
            "Vacant afterNovember 23, 1814\n",
            " Contents\n",
            "List of presidents of the United States\n",
            "The president of the United States is the head of state and head of government of the United States,[1] indirectly elected to a four-year term via the Electoral College.[2] Four presidents died in office of natural causes (William Henry Harrison, Zachary Taylor, Warren G. Harding, and Franklin D. Roosevelt), four were assassinated (Abraham Lincoln, James A. Garfield, William McKinley, and John F. Kennedy), and one resigned (Richard Nixon, facing impeachment and removal from office).[10] John Tyler was the first vice president to assume the presidency during a presidential term, and set the precedent that a vice president who does so becomes the fully functioning president with his presidency.[11]\n",
            "Throughout most of its history, American politics has been dominated by political parties. 1820\n",
            "National Republican\n",
            "1832\n",
            "Vacant afterDecember 28, 1832\n",
            "Martin Van Buren\n",
            "Unaffiliated\n",
            "Vacant afterApril 18, 1853\n",
            "\n",
            "\n",
            "List of presidents of the United States | U.S. Presidents, Presidential Terms, Election Results, Timelines | Britannica Ask the Chatbot Games & Quizzes ProCon History & Society Science & Tech Biographies Animals & Nature Geography & Travel Arts & Culture Money Videos list of presidents of the United States list of presidents of the United States https://www.britannica.com/topic/Presidents-of-the-United-States-1846696 As the head of the government of the United States, the president is arguably the most powerful government official in the world. The table below the graphic provides a list of presidents of the United States, their birthplaces, political parties, and terms of office. Presidents of the United States | 4 | James Madison | Virginia | Democratic-Republican | 1809–17 |\n",
            "\n",
            "At his inauguration, Biden addressed the country's challenges and divisions, saying, “Few people in our nation’s history have been more challenged or found a time more challenging or difficult than the time we’re in now...To overcome these challenges, to restore the soul and secure the future of America, requires so much more than words and requires the most elusive of all things in a democracy, unity.”\n",
            " Joe Biden\n",
            "By: History.com Editors\n",
            "Updated: April 25, 2023\n",
            "| Original: December 16, 2009\n",
            "Table of Contents\n",
            "Joe Biden (1942-), a man who spent nearly a half-century in public service as a senator and vice president, and who endured profound family loss, became the 46th president of the United States on January 20, 2021.\n",
            " U.S. Presidents\n",
            "Stream U.S. Presidents documentaries and your favorite HISTORY series, commercial-free\n",
            "COVID-19 and the 2020 Election\n",
            "A looming issue throughout the election was the coronavirus pandemic which had claimed more than 230,000 American lives and infected more than 9 million in the country. Although he had appropriately credited Kinnock in prior speeches, he failed to do so during an appearance at the Iowa State Fair and even borrowed facts from Kinnock’s life, stating inaccurately, for example, that he was the first in his family to go to college and that his ancestors were coal miners. Joe Biden as Vice President\n",
            "Biden kicked off his second attempt at the White House 20 years later, during the 2008 primary, but dropped out after securing only 1 percent of the delegates in the Iowa Democratic caucuses. \n",
            "\n",
            "On November 23, after Michigan certified its results, Murphy issued the letter of ascertainment, granting the Biden transition team access to federal funds and resources for an orderly transition.[29]\n",
            "Two days after becoming the projected winner of the 2020 election, Biden announced the formation of a task force to advise him on the COVID-19 pandemic during the transition, co-chaired by former Surgeon General Vivek Murthy, former FDA commissioner David A. Kessler, and Yale University's Marcella Nunez-Smith.[30]\n",
            "On January 5, 2021, the Democratic Party won control of the United States Senate, effective January 20, as a result of electoral victories in Georgia by Jon Ossoff in a runoff election for a six-year term and Raphael Warnock in a special runoff election for a two-year term.[31][32] President-elect Biden had supported and campaigned for both candidates prior to the runoff elections on January 5.[33][34]\n",
            "On January 6, a mob of thousands of Trump supporters violently stormed the Capitol in the hope of overturning Biden's election, forcing Congress to evacuate during the counting of the Electoral College votes.[35][36] More than 26,000 National Guard members were deployed to the capital for the inauguration, with thousands remaining into the spring.[37]\n",
            "On January 20, 2021, Biden was sworn in by U.S. Chief Justice John Roberts as the 46th president of the United States, completing the oath of office at 11:49 am EST, eleven minutes before the legal start of his term.[38][39]\n",
            "Inaugural address\n",
            "Biden's inaugural speech laid out his vision to unite the nation, prefaced by the various impacts of the COVID-19 pandemic, economic strife, climate change, political polarization, and racial injustice.[40] The union representing ICE agents signaled that its agents would not accept reversals of Trump policies.[232]\n",
            "In March 2021, the Biden administration granted temporary protected status to Venezuelans fleeing the country amidst the ongoing political and economic crisis.[234]\n",
            "On June 1, 2021, the DHS officially terminated the Trump-era \"Remain in Mexico\" policy, which mandated that all asylum seekers from Central America were to wait in Mexico pending their court cases; however, a health order from March 2020 allowed the border authorities to send migrants back for the duration of the COVID-19 pandemic have remained in place.[235][236] However, on August 14, 2021, a federal judge in Texas ordered the Biden administration to reimplement the policy; the Supreme Court placed a pause on the ruling to give the administration time for arguments.[237][238] On August 24, 2021, the Supreme Court ruled that the Biden administration must comply with the lower court's ruling to reinstate the policy.[239][240]\n",
            "Early on in Biden's tenure, a surge in unaccompanied minors at the U.S. border stirred controversy. The administration also expanded ties with West Africa, including support for infrastructure improvements at the Benin seaport of Cotonou, a key part of the West African economy.[372][376] Biden appointed longtime U.S. diplomat Johnnie Carson to coordinate implementation of U.S. actions following up from the summit.[377]\n",
            "During the 2022 summit, Biden and senior administration officials also met privately with six African leaders facing elections in 2023, pushing them to ensure free and fair elections in their nations.[377]\n",
            "Senator Bob Menendez, the Democratic chairman of the Senate Foreign Relations Committee, has criticized the Biden administration for hesitating to impose sanctions on the governments of Sudan and Ethiopia, where many atrocities and war crimes were committed in the Tigray War.[378]\n",
            "Armenian genocide\n",
            "On April 24, 2021, the Biden administration declared that the Turkish killings of Armenians at the start of the 20th century were a genocide. Others criticize the CDC for implementing this change following lobbying by Delta Airlines, leading to social media backlash against the federal government.[117]\n",
            "Biden gave a speech at the John F. Kennedy Presidential Library and Museum on September 12, 2022, the 60th anniversary of Kennedy's We Choose to Go to the Moon speech, promoting his administration's revival of the Beau Biden Cancer Moonshot, including the new Advanced Research Projects Agency for Health.[118]\n",
            "Economy\n",
            "On January 22, 2021, Biden signed an executive order that removed schedule F, overturning a number of Trump's policies that limited the collective bargaining power of federal unions.[119][120][121] Biden's executive order also promotes a $15 minimum wage for federal workers and repeals three of Trump's executive orders which made the employee discipline process stricter and restricted union representatives' access to office space. Biden partly attributed the lack of early evacuation of Afghan civilians to the Afghan government's opposition of a \"mass exodus\" which they thought would cause a \"crisis of confidence\".[360]\n",
            "On August 26, a suicide attack was carried out by the Islamic State of Iraq and the Levant - Khorasan Province at the Hamid Karzai International Airport, killing more than 170 people, including at least 62 Afghan civilians, 13 US service members, two British nationals and the child of a third British national.[361][362] Biden made a public address following the attack, in which he honored the American service members who were killed, calling them \"heroes\" and saying they lost their lives \"in the service of liberty\", and stated that the US had evacuated more than 100,000 Americans, Afghans, and others.\n",
            "**************************************************\n",
            "\n",
            "--------------------------------------------------------------------------------\n",
            "[autogen.oai.client: 12-03 13:08:20] {410} WARNING - Model llama3-8b-8192 is not found. The cost will be 0. In your config_list, add field {\"price\" : [prompt_price_per_1k, completion_token_price_per_1k]} for customized pricing.\n"
          ]
        },
        {
          "output_type": "stream",
          "name": "stderr",
          "text": [
            "WARNING:autogen.oai.client:Model llama3-8b-8192 is not found. The cost will be 0. In your config_list, add field {\"price\" : [prompt_price_per_1k, completion_token_price_per_1k]} for customized pricing.\n"
          ]
        }
      ]
    },
    {
      "cell_type": "markdown",
      "source": [
        "**Creating Chat for Conversbale Agents**"
      ],
      "metadata": {
        "id": "F12k-9kvt7p4"
      }
    },
    {
      "cell_type": "code",
      "source": [
        "query=\"who wins election of 2024 of usa?\"\n",
        "chats = [\n",
        "    # Step 1: User Proxy to Router Agent\n",
        "    {\n",
        "        \"sender\": user_proxy,\n",
        "        \"recipient\": router_agent,\n",
        "        \"message\":f\"{query}\",\n",
        "        \"summary_method\": \"last_msg\",\n",
        "\n",
        "        \"max_turns\": 2,\n",
        "        \"clear_history\": True,\n",
        "    },\n",
        "    # Step 2: Router Agent to Retriever Agent\n",
        "    {\n",
        "        \"sender\": user_proxy,\n",
        "        \"recipient\": retriever_agent,\n",
        "        \"message\":f\"\"\"use the sender response as routing decision and query:{query}  for retreiving information \",\n",
        "          Will dynamically choose the tool based on the sender response\n",
        "         Provide a concise and clear response.also do no use python code and brave search for web use provided tools for fuction calling only\"\n",
        "        \"\"\",\n",
        "        \"summary_method\": \"last_msg\",\n",
        "        \"max_turns\": 2,\n",
        "        \"clear_history\": False,\n",
        "        # \"carryover\": \"I want to include a use \"\n",
        "    },\n",
        "    # Step 3: Retriever Agent to Answer Grader\n",
        "    {\n",
        "        \"sender\": user_proxy,\n",
        "        \"recipient\": answer_grader_agent,\n",
        "        \"message\": (\"use the sender response as retrived content\"\n",
        "            f\"Evaluate the relevance of the retrieved content from sender to the given query:{query}. \"\n",
        "            \"Provide a binary response: 'yes' or 'no', indicating whether the document is relevant. \"\n",
        "            \"Do not provide explanations or additional information also do not provides python code \"\n",
        "        ),\n",
        "        \"summary_method\": \"last_msg\",\n",
        "        \"max_turns\": 2,\n",
        "        \"clear_history\": False,\n",
        "    },\n",
        "    # Step 4: Answer Grader Agent to Hallucination Grader Agent\n",
        "    {\n",
        "        \"sender\": user_proxy,\n",
        "        \"recipient\": hallucination_grader_agent,\n",
        "        \"message\": (\n",
        "            \"Evaluate whether the response provided by sender is grounded in the retrieved context. \"\n",
        "            \"Provide a binary score: 'yes' or 'no'. \"\n",
        "            \"Do not include preamble or explanations.\"\n",
        "        ),\n",
        "        \"summary_method\": \"last_msg\",\n",
        "        \"max_turns\": 2,\n",
        "        \"clear_history\": False,\n",
        "    },\n",
        "    # Step 5: Hallucination Grader Agent to Final Answer Agent\n",
        "    {\n",
        "        \"sender\": user_proxy,\n",
        "        \"recipient\": final_answer_agent,\n",
        "        \"message\": (\n",
        "            \"If the response from sender is 'yes', generate a clear and concise final answer. \"\n",
        "            \"If 'no', perform a web search using 'web_search_tool(query)' and provide the response based on the new search.\"\n",
        "        ),\n",
        "        \"summary_method\": \"last_msg\",\n",
        "        \"max_turns\": 3,\n",
        "        \"clear_history\": False,\n",
        "    },\n",
        "    # Step 6: Final Answer Agent to User Proxy\n",
        "    {\n",
        "        \"sender\": final_answer_agent,\n",
        "        \"recipient\": user_proxy,\n",
        "        \"message\": (\n",
        "            \"Here is the finalized answer to your query. I hope this resolves your question effectively.\"\n",
        "        ),\n",
        "        \"summary_method\": \"last_msg\",\n",
        "        \"max_turns\": 1,\n",
        "        \"clear_history\": False,\n",
        "    },\n",
        "]\n"
      ],
      "metadata": {
        "id": "ztwQWeHmMir4"
      },
      "execution_count": null,
      "outputs": []
    },
    {
      "cell_type": "markdown",
      "source": [
        "**Initiate the chats:** for web base question"
      ],
      "metadata": {
        "id": "nHERUeyDuKlR"
      }
    },
    {
      "cell_type": "code",
      "execution_count": null,
      "metadata": {
        "colab": {
          "base_uri": "https://localhost:8080/"
        },
        "id": "sBEOCHBYQKUQ",
        "outputId": "b3fd7416-0b49-47e7-8a2e-82f02e8af3a4"
      },
      "outputs": [
        {
          "output_type": "stream",
          "name": "stdout",
          "text": [
            "\n",
            "********************************************************************************\n",
            "Starting a new chat....\n",
            "\n",
            "********************************************************************************\n",
            "user_proxy (to Router Agent):\n",
            "\n",
            "who wins election of 2024 of usa?\n",
            "\n",
            "--------------------------------------------------------------------------------\n",
            "Router Agent (to user_proxy):\n",
            "\n",
            "***** Suggested tool call (call_vmdk): router_tool *****\n",
            "Arguments: \n",
            "{\"query\":\"who wins election of 2024 of usa? vectorstore\"}\n",
            "********************************************************\n",
            "\n",
            "--------------------------------------------------------------------------------\n",
            "\n",
            ">>>>>>>> EXECUTING FUNCTION router_tool...\n",
            "user_proxy (to Router Agent):\n",
            "\n",
            "***** Response from calling tool (call_vmdk) *****\n",
            "websearch\n",
            "**************************************************\n",
            "\n",
            "--------------------------------------------------------------------------------\n",
            "Router Agent (to user_proxy):\n",
            "\n",
            "***** Suggested tool call (call_09te): router_tool *****\n",
            "Arguments: \n",
            "{\"query\":\"2024 presidential election results\"}\n",
            "********************************************************\n",
            "\n",
            "--------------------------------------------------------------------------------\n",
            "\n",
            "********************************************************************************\n",
            "Starting a new chat....\n",
            "\n",
            "********************************************************************************\n",
            "user_proxy (to Retriever Agent):\n",
            "\n",
            "use the sender response as routing decision and query:who wins election of 2024 of usa?  for retreiving information \",\n",
            "          Will dynamically choose the tool based on the sender response\n",
            "         Provide a concise and clear response.also do no use python code and brave search for web use provided tools for fuction calling only\"\n",
            "        \n",
            "Context: \n",
            "\n",
            "\n",
            "--------------------------------------------------------------------------------\n",
            "[autogen.oai.client: 12-03 13:13:56] {410} WARNING - Model llama3-8b-8192 is not found. The cost will be 0. In your config_list, add field {\"price\" : [prompt_price_per_1k, completion_token_price_per_1k]} for customized pricing.\n"
          ]
        },
        {
          "output_type": "stream",
          "name": "stderr",
          "text": [
            "WARNING:autogen.oai.client:Model llama3-8b-8192 is not found. The cost will be 0. In your config_list, add field {\"price\" : [prompt_price_per_1k, completion_token_price_per_1k]} for customized pricing.\n"
          ]
        },
        {
          "output_type": "stream",
          "name": "stdout",
          "text": [
            "Retriever Agent (to user_proxy):\n",
            "\n",
            "***** Suggested tool call (call_nr2a): web_search_tool *****\n",
            "Arguments: \n",
            "{\"query\":\"who wins election of 2024 of usa\"}\n",
            "************************************************************\n",
            "\n",
            "--------------------------------------------------------------------------------\n",
            "\n",
            ">>>>>>>> EXECUTING FUNCTION web_search_tool...\n",
            "user_proxy (to Retriever Agent):\n",
            "\n",
            "***** Response from calling tool (call_nr2a) *****\n",
            "Trump wins 2024 U.S. presidential election - Los Angeles Times Trump elected 47th president of the United States, defeating Harris to retake White House Nancy Northup, President and CEO of the Center for Reproductive Rights, called Trump’s win “a deadly threat to the democratic values of liberty and equality, the rule of law, and reproductive health, rights, and justice in the United States and around the globe.” “The Democrats thought there were enough people who hated Trump or were willing to fear him to win the race,” Jennings said. 2024 election results: Trump wins second term in historic comeback\n",
            "\n",
            "Donald Trump has won the 2024 Presidential Election. Published Nov. 5, 2024 Note: Vote share percentages exclude write-in candidates.\n",
            "\n",
            "US Presidential Election Results 2024 - BBC News Close menu BBC News Kamala Harris of the Democrat party has 0 electoral college votes. Donald Trump of the Republican party has 0 electoral college votes. Kamala Harris of the Democrat party has 158,810 votes (38.4%) Donald Trump of the Republican party has 249,225 votes (60.2%) US presidential election results 2024 US election 2024 Voting in some states is particularly hard to predict, with polls showing they could be won by the Republicans or the Democratic party. The battleground states that could decide the 2024 presidential election are: Voters in 11 states will also elect a governor. US election polls: Who is ahead - Harris or Trump? US election 2024 About the BBC\n",
            "\n",
            "US election results 2024: Live map and updates Each state is allocated a certain number of Electoral votes based on its population. This election features seven battleground states, totalling 93 Electoral votes: Pennsylvania (19), Georgia (16), North Carolina (16), Michigan (15), Arizona (11), Wisconsin (10), Nevada (6) States where Democrats are expected to win (226 Electoral votes) States where Republicans are expected to win (219 Electoral votes) | State (Electoral votes) | Harris | Trump | Reported | |  North Carolina (16) | - | - | - | | State (Electoral votes) | Harris | Trump | Reported | | State (Electoral votes) | Harris | Trump | Reported | All state-by-state results (34) All state-by-state results (435)\n",
            "\n",
            "The result of all the tumult has been razor-thin polling margins in the Real Clear Politics average of national surveys, Trump led Harris by 0.1 percentage point, well within the margin of error for each of the surveys included. As Americans from coast to coast make their voices heard at the ballot box, keep up with the USA TODAY Network's live coverage of the 2024 presidential election and check back here for results. Election Day 2024 is here, and Harris and Trump are neck-and-neck in the polls. If you're still undecided between the Democratic and Republican nominees, check out USA TODAY's voter guide to see what Trump and Harris have said about major issues, in their own words.\n",
            "**************************************************\n",
            "\n",
            "--------------------------------------------------------------------------------\n",
            "[autogen.oai.client: 12-03 13:13:59] {410} WARNING - Model llama3-8b-8192 is not found. The cost will be 0. In your config_list, add field {\"price\" : [prompt_price_per_1k, completion_token_price_per_1k]} for customized pricing.\n"
          ]
        },
        {
          "output_type": "stream",
          "name": "stderr",
          "text": [
            "WARNING:autogen.oai.client:Model llama3-8b-8192 is not found. The cost will be 0. In your config_list, add field {\"price\" : [prompt_price_per_1k, completion_token_price_per_1k]} for customized pricing.\n"
          ]
        },
        {
          "output_type": "stream",
          "name": "stdout",
          "text": [
            "Retriever Agent (to user_proxy):\n",
            "\n",
            "<tool-use>{\"tool_calls\":[],\"output\":\"Donald Trump has won the 2024 Presidential Election.\"}</tool-use>\n",
            "\n",
            "Note: The conversation has ended. The final output is a concise answer based on the retrieved information.\n",
            "\n",
            "--------------------------------------------------------------------------------\n",
            "\n",
            "********************************************************************************\n",
            "Starting a new chat....\n",
            "\n",
            "********************************************************************************\n",
            "user_proxy (to Answer Grader):\n",
            "\n",
            "use the sender response as retrived contentEvaluate the relevance of the retrieved content from sender to the given query:who wins election of 2024 of usa?. Provide a binary response: 'yes' or 'no', indicating whether the document is relevant. Do not provide explanations or additional information also do not provides python code \n",
            "Context: \n",
            "\n",
            "<tool-use>{\"tool_calls\":[],\"output\":\"Donald Trump has won the 2024 Presidential Election.\"}</tool-use>\n",
            "\n",
            "Note: The conversation has ended. The final output is a concise answer based on the retrieved information.\n",
            "\n",
            "--------------------------------------------------------------------------------\n",
            "[autogen.oai.client: 12-03 13:13:59] {410} WARNING - Model llama3-8b-8192 is not found. The cost will be 0. In your config_list, add field {\"price\" : [prompt_price_per_1k, completion_token_price_per_1k]} for customized pricing.\n"
          ]
        },
        {
          "output_type": "stream",
          "name": "stderr",
          "text": [
            "WARNING:autogen.oai.client:Model llama3-8b-8192 is not found. The cost will be 0. In your config_list, add field {\"price\" : [prompt_price_per_1k, completion_token_price_per_1k]} for customized pricing.\n"
          ]
        },
        {
          "output_type": "stream",
          "name": "stdout",
          "text": [
            "Answer Grader (to user_proxy):\n",
            "\n",
            "yes\n",
            "\n",
            "--------------------------------------------------------------------------------\n",
            "user_proxy (to Answer Grader):\n",
            "\n",
            "\n",
            "\n",
            "--------------------------------------------------------------------------------\n",
            "[autogen.oai.client: 12-03 13:13:59] {410} WARNING - Model llama3-8b-8192 is not found. The cost will be 0. In your config_list, add field {\"price\" : [prompt_price_per_1k, completion_token_price_per_1k]} for customized pricing.\n"
          ]
        },
        {
          "output_type": "stream",
          "name": "stderr",
          "text": [
            "WARNING:autogen.oai.client:Model llama3-8b-8192 is not found. The cost will be 0. In your config_list, add field {\"price\" : [prompt_price_per_1k, completion_token_price_per_1k]} for customized pricing.\n"
          ]
        },
        {
          "output_type": "stream",
          "name": "stdout",
          "text": [
            "Answer Grader (to user_proxy):\n",
            "\n",
            "TERMINATE\n",
            "\n",
            "--------------------------------------------------------------------------------\n",
            "\n",
            "********************************************************************************\n",
            "Starting a new chat....\n",
            "\n",
            "********************************************************************************\n",
            "user_proxy (to Hallucination Grader):\n",
            "\n",
            "Evaluate whether the response provided by sender is grounded in the retrieved context. Provide a binary score: 'yes' or 'no'. Do not include preamble or explanations.\n",
            "Context: \n",
            "\n",
            "<tool-use>{\"tool_calls\":[],\"output\":\"Donald Trump has won the 2024 Presidential Election.\"}</tool-use>\n",
            "\n",
            "Note: The conversation has ended. The final output is a concise answer based on the retrieved information.\n",
            "\n",
            "\n",
            "--------------------------------------------------------------------------------\n",
            "[autogen.oai.client: 12-03 13:14:00] {410} WARNING - Model llama3-8b-8192 is not found. The cost will be 0. In your config_list, add field {\"price\" : [prompt_price_per_1k, completion_token_price_per_1k]} for customized pricing.\n"
          ]
        },
        {
          "output_type": "stream",
          "name": "stderr",
          "text": [
            "WARNING:autogen.oai.client:Model llama3-8b-8192 is not found. The cost will be 0. In your config_list, add field {\"price\" : [prompt_price_per_1k, completion_token_price_per_1k]} for customized pricing.\n"
          ]
        },
        {
          "output_type": "stream",
          "name": "stdout",
          "text": [
            "Hallucination Grader (to user_proxy):\n",
            "\n",
            "no\n",
            "\n",
            "--------------------------------------------------------------------------------\n",
            "user_proxy (to Hallucination Grader):\n",
            "\n",
            "\n",
            "\n",
            "--------------------------------------------------------------------------------\n",
            "[autogen.oai.client: 12-03 13:14:00] {410} WARNING - Model llama3-8b-8192 is not found. The cost will be 0. In your config_list, add field {\"price\" : [prompt_price_per_1k, completion_token_price_per_1k]} for customized pricing.\n"
          ]
        },
        {
          "output_type": "stream",
          "name": "stderr",
          "text": [
            "WARNING:autogen.oai.client:Model llama3-8b-8192 is not found. The cost will be 0. In your config_list, add field {\"price\" : [prompt_price_per_1k, completion_token_price_per_1k]} for customized pricing.\n"
          ]
        },
        {
          "output_type": "stream",
          "name": "stdout",
          "text": [
            "Hallucination Grader (to user_proxy):\n",
            "\n",
            "TERMINATE\n",
            "\n",
            "--------------------------------------------------------------------------------\n",
            "\n",
            "********************************************************************************\n",
            "Starting a new chat....\n",
            "\n",
            "********************************************************************************\n",
            "user_proxy (to Final Answer Generator):\n",
            "\n",
            "If the response from sender is 'yes', generate a clear and concise final answer. If 'no', perform a web search using 'web_search_tool(query)' and provide the response based on the new search.\n",
            "Context: \n",
            "\n",
            "<tool-use>{\"tool_calls\":[],\"output\":\"Donald Trump has won the 2024 Presidential Election.\"}</tool-use>\n",
            "\n",
            "Note: The conversation has ended. The final output is a concise answer based on the retrieved information.\n",
            "\n",
            "\n",
            "\n",
            "--------------------------------------------------------------------------------\n",
            "[autogen.oai.client: 12-03 13:14:00] {410} WARNING - Model llama3-8b-8192 is not found. The cost will be 0. In your config_list, add field {\"price\" : [prompt_price_per_1k, completion_token_price_per_1k]} for customized pricing.\n"
          ]
        },
        {
          "output_type": "stream",
          "name": "stderr",
          "text": [
            "WARNING:autogen.oai.client:Model llama3-8b-8192 is not found. The cost will be 0. In your config_list, add field {\"price\" : [prompt_price_per_1k, completion_token_price_per_1k]} for customized pricing.\n"
          ]
        },
        {
          "output_type": "stream",
          "name": "stdout",
          "text": [
            "Final Answer Generator (to user_proxy):\n",
            "\n",
            "TERMINATE\n",
            "\n",
            "--------------------------------------------------------------------------------\n",
            "\n",
            "********************************************************************************\n",
            "Starting a new chat....\n",
            "\n",
            "********************************************************************************\n",
            "Final Answer Generator (to user_proxy):\n",
            "\n",
            "Here is the finalized answer to your query. I hope this resolves your question effectively.\n",
            "Context: \n",
            "\n",
            "<tool-use>{\"tool_calls\":[],\"output\":\"Donald Trump has won the 2024 Presidential Election.\"}</tool-use>\n",
            "\n",
            "Note: The conversation has ended. The final output is a concise answer based on the retrieved information.\n",
            "\n",
            "\n",
            "\n",
            "\n",
            "--------------------------------------------------------------------------------\n",
            "user_proxy (to Final Answer Generator):\n",
            "\n",
            "\n",
            "\n",
            "--------------------------------------------------------------------------------\n"
          ]
        }
      ],
      "source": [
        "\n",
        "from autogen import initiate_chats\n",
        "\n",
        "chat_results = initiate_chats(chats)"
      ]
    },
    {
      "cell_type": "markdown",
      "source": [
        "**Initiate the chats:** for knowledge base question"
      ],
      "metadata": {
        "id": "ahQUNlR9uZm2"
      }
    },
    {
      "cell_type": "code",
      "source": [
        "query=\"How does exercise price determine for ESOP?\"\n",
        "chats = [\n",
        "    # Step 1: User Proxy to Router Agent\n",
        "    {\n",
        "        \"sender\": user_proxy,\n",
        "        \"recipient\": router_agent,\n",
        "        \"message\":f\"{query}\",\n",
        "        \"summary_method\": \"last_msg\",\n",
        "\n",
        "        \"max_turns\": 2,\n",
        "        \"clear_history\": True,\n",
        "    },\n",
        "    # Step 2: Router Agent to Retriever Agent\n",
        "    {\n",
        "        \"sender\": user_proxy,\n",
        "        \"recipient\": retriever_agent,\n",
        "        \"message\":f\"\"\"use the sender response as routing decision and query:{query}  for retreiving information \",\n",
        "          Will dynamically choose the tool based on the sender response\n",
        "         Provide a concise and clear response.also do no use python code and brave search for web use provided tools for fuction calling only\"\n",
        "        \"\"\",\n",
        "        \"summary_method\": \"last_msg\",\n",
        "        \"max_turns\": 2,\n",
        "        \"clear_history\": False,\n",
        "        # \"carryover\": \"I want to include a use \"\n",
        "    },\n",
        "    # Step 3: Retriever Agent to Answer Grader\n",
        "    {\n",
        "        \"sender\": user_proxy,\n",
        "        \"recipient\": answer_grader_agent,\n",
        "        \"message\": (\"use the sender response as retrived content\"\n",
        "            f\"Evaluate the relevance of the retrieved content from sender to the given query:{query}. \"\n",
        "            \"Provide a binary response: 'yes' or 'no', indicating whether the document is relevant. \"\n",
        "            \"Do not provide explanations or additional information also do not provides python code \"\n",
        "        ),\n",
        "        \"summary_method\": \"last_msg\",\n",
        "        \"max_turns\": 2,\n",
        "        \"clear_history\": False,\n",
        "    },\n",
        "    # Step 4: Answer Grader Agent to Hallucination Grader Agent\n",
        "    {\n",
        "        \"sender\": user_proxy,\n",
        "        \"recipient\": hallucination_grader_agent,\n",
        "        \"message\": (\n",
        "            \"Evaluate whether the response provided by sender is grounded in the retrieved context. \"\n",
        "            \"Provide a binary score: 'yes' or 'no'. \"\n",
        "            \"Do not include preamble or explanations.\"\n",
        "        ),\n",
        "        \"summary_method\": \"last_msg\",\n",
        "        \"max_turns\": 2,\n",
        "        \"clear_history\": False,\n",
        "    },\n",
        "    # Step 5: Hallucination Grader Agent to Final Answer Agent\n",
        "    {\n",
        "        \"sender\": user_proxy,\n",
        "        \"recipient\": final_answer_agent,\n",
        "        \"message\": (\n",
        "            \"If the response from sender is 'yes', generate a clear and concise final answer. \"\n",
        "            \"If 'no', perform a web search using 'web_search_tool(query)' and provide the response based on the new search.\"\n",
        "        ),\n",
        "        \"summary_method\": \"last_msg\",\n",
        "        \"max_turns\": 3,\n",
        "        \"clear_history\": False,\n",
        "    },\n",
        "    # Step 6: Final Answer Agent to User Proxy\n",
        "    {\n",
        "        \"sender\": final_answer_agent,\n",
        "        \"recipient\": user_proxy,\n",
        "        \"message\": (\n",
        "            \"Here is the finalized answer to your query. I hope this resolves your question effectively.\"\n",
        "        ),\n",
        "        \"summary_method\": \"last_msg\",\n",
        "        \"max_turns\": 1,\n",
        "        \"clear_history\": False,\n",
        "    },\n",
        "]\n"
      ],
      "metadata": {
        "id": "10oTOrGSC87e"
      },
      "execution_count": null,
      "outputs": []
    },
    {
      "cell_type": "code",
      "execution_count": null,
      "metadata": {
        "colab": {
          "base_uri": "https://localhost:8080/"
        },
        "id": "EenxzuDwosET",
        "outputId": "c4157c1e-a9b6-44d2-c7fd-d316ad4513c3"
      },
      "outputs": [
        {
          "output_type": "stream",
          "name": "stdout",
          "text": [
            "\n",
            "********************************************************************************\n",
            "Starting a new chat....\n",
            "\n",
            "********************************************************************************\n",
            "user_proxy (to Router Agent):\n",
            "\n",
            "How does exercise price determine for ESOP?\n",
            "\n",
            "--------------------------------------------------------------------------------\n",
            "[autogen.oai.client: 12-03 13:12:49] {410} WARNING - Model llama3-8b-8192 is not found. The cost will be 0. In your config_list, add field {\"price\" : [prompt_price_per_1k, completion_token_price_per_1k]} for customized pricing.\n"
          ]
        },
        {
          "output_type": "stream",
          "name": "stderr",
          "text": [
            "WARNING:autogen.oai.client:Model llama3-8b-8192 is not found. The cost will be 0. In your config_list, add field {\"price\" : [prompt_price_per_1k, completion_token_price_per_1k]} for customized pricing.\n"
          ]
        },
        {
          "output_type": "stream",
          "name": "stdout",
          "text": [
            "Router Agent (to user_proxy):\n",
            "\n",
            "***** Suggested tool call (call_3mpb): router_tool *****\n",
            "Arguments: \n",
            "{\"query\":\"How does exercise price determine for ESOP?\"}\n",
            "********************************************************\n",
            "\n",
            "--------------------------------------------------------------------------------\n",
            "\n",
            ">>>>>>>> EXECUTING FUNCTION router_tool...\n",
            "user_proxy (to Router Agent):\n",
            "\n",
            "***** Response from calling tool (call_3mpb) *****\n",
            "vectorstore\n",
            "**************************************************\n",
            "\n",
            "--------------------------------------------------------------------------------\n",
            "[autogen.oai.client: 12-03 13:12:49] {410} WARNING - Model llama3-8b-8192 is not found. The cost will be 0. In your config_list, add field {\"price\" : [prompt_price_per_1k, completion_token_price_per_1k]} for customized pricing.\n"
          ]
        },
        {
          "output_type": "stream",
          "name": "stderr",
          "text": [
            "WARNING:autogen.oai.client:Model llama3-8b-8192 is not found. The cost will be 0. In your config_list, add field {\"price\" : [prompt_price_per_1k, completion_token_price_per_1k]} for customized pricing.\n"
          ]
        },
        {
          "output_type": "stream",
          "name": "stdout",
          "text": [
            "Router Agent (to user_proxy):\n",
            "\n",
            "***** Suggested tool call (call_jspq): router_tool *****\n",
            "Arguments: \n",
            "{\"query\":\"What is exercise price in ESOP context?\"}\n",
            "********************************************************\n",
            "\n",
            "--------------------------------------------------------------------------------\n",
            "\n",
            "********************************************************************************\n",
            "Starting a new chat....\n",
            "\n",
            "********************************************************************************\n",
            "user_proxy (to Retriever Agent):\n",
            "\n",
            "use the sender response as routing decision and query:How does exercise price determine for ESOP?  for retreiving information \",\n",
            "          Will dynamically choose the tool based on the sender response\n",
            "         Provide a concise and clear response.also do no use python code and brave search for web use provided tools for fuction calling only\"\n",
            "        \n",
            "Context: \n",
            "\n",
            "\n",
            "--------------------------------------------------------------------------------\n",
            "[autogen.oai.client: 12-03 13:12:51] {410} WARNING - Model llama3-8b-8192 is not found. The cost will be 0. In your config_list, add field {\"price\" : [prompt_price_per_1k, completion_token_price_per_1k]} for customized pricing.\n"
          ]
        },
        {
          "output_type": "stream",
          "name": "stderr",
          "text": [
            "WARNING:autogen.oai.client:Model llama3-8b-8192 is not found. The cost will be 0. In your config_list, add field {\"price\" : [prompt_price_per_1k, completion_token_price_per_1k]} for customized pricing.\n"
          ]
        },
        {
          "output_type": "stream",
          "name": "stdout",
          "text": [
            "Retriever Agent (to user_proxy):\n",
            "\n",
            "***** Suggested tool call (call_pbvy): pdf_search_tool *****\n",
            "Arguments: \n",
            "{\"query\":\"How does exercise price determine for ESOP?\"}\n",
            "************************************************************\n",
            "\n",
            "--------------------------------------------------------------------------------\n",
            "\n",
            ">>>>>>>> EXECUTING FUNCTION pdf_search_tool...\n",
            "user_proxy (to Retriever Agent):\n",
            "\n",
            "***** Response from calling tool (call_pbvy) *****\n",
            "of a higher salary, and the organization where they are \n",
            "employed is not growing as per the market standards \n",
            "or in comparison to its competitors, ESOP may result \n",
            "in monetary loss.\n",
            "Q.  How does exercise price determine for ESOP?\n",
            "A. Companies are free to decide the exercise price, \n",
            "which may be issued at a discount or premium but the \n",
            "exercise price determined by the Company shall not \n",
            "be less than the par value of the shares.\n",
            "Q.  Does it mandatory for the Company to issue and \n",
            "allot only fresh shares under ESOP scheme?\n",
            "A. No, it is not mandatory for the company to issue and \n",
            "allot only fresh shares under ESOP scheme, but it may \n",
            "choose either option:\n",
            " 1.  If Company is willing to issue fresh shares, it \n",
            "should adopt direct route to issue and allot shares \n",
            "under the scheme of ESOP.\n",
            " 2. If the Company is willing to channelize its \n",
            "existing share only, in such case Company should \n",
            "adopt Trust route to issue and allot shares under \n",
            "the scheme of ESOP.\n",
            "Q.  How are ESOP taxed in India?\n",
            "\n",
            "completed.\n",
            "Exercise period:  It means the time period which starts \n",
            "after the completion of vesting period within which an \n",
            "employee can exercise his/her right to apply for shares \n",
            "against the vested options in pursuance of the scheme of \n",
            "ESOP approved by the shareholders in general meeting by \n",
            "way of Special Resolution.\n",
            "Exercise price: Means the price payable by an employee \n",
            "for exercising the options granted in pursuance of the \n",
            "scheme of ESOP. \n",
            "ARTICLE\n",
            "JANUARY 2024   |   107   CHARTERED SECRETARY\n",
            "\n",
            "issued pursuant to ESOP.\n",
            " Fix time, date and venue to convene the Extra \n",
            "Ordinary General Meeting to pass Special Resolution \n",
            "for issuing ESOP.\n",
            " Give outcome of Board meeting to Stock Exchange(s) \n",
            "within 30 minutes from the conclusion of the meeting.\n",
            "Employees can exercise his option and \n",
            "purchase shares after the vesting date is \n",
            "over at a pre-determined price, which is \n",
            "usually less than the share’s Fair Market \n",
            "Value (FMV). As a result, the difference \n",
            "between the FMV and the exercise price of \n",
            "the share is considered a perquisite in the \n",
            "employee’s hands and taxed at his income \n",
            "tax slab rate.\n",
            "ARTICLE\n",
            "112    |   JANUARY 2024    CHARTERED SECRETARY\n",
            "Employee Stock Option Plan (ESOP) : The Finer Nuances\n",
            "\n",
            "FAQs\n",
            "Q.  What is an ESOP?\n",
            "A.  Thus, we can say that ‘ESOP’ stands for ‘Employee \n",
            "Stock Option Plan’ which is a kind of employee benefit \n",
            "plan that gives employees the right to purchase shares \n",
            "of their employer company at a pre-determined price \n",
            "after a certain time period.\n",
            "Q.  Does the ESOP supplement the salary of an \n",
            "employee?\n",
            "A.  From the point view of monetary benefits, we can say \n",
            "that ESOPs are often used to supplement the salaries \n",
            "of employees. Instead of paying high salary, employees \n",
            "may be offered ESOPs, which may generate more \n",
            "wealth for employees if the Company is growing and \n",
            "generating good amount of earnings which is over and \n",
            "above break-even point. \n",
            "Q.  Is ESOP risky and having any possibility of \n",
            "monetary loss?\n",
            "A. It may be risky, if an employee accepts ESOPs instead \n",
            "of a higher salary, and the organization where they are \n",
            "employed is not growing as per the market standards \n",
            "or in comparison to its competitors, ESOP may result \n",
            "in monetary loss.\n",
            "**************************************************\n",
            "\n",
            "--------------------------------------------------------------------------------\n",
            "[autogen.oai.client: 12-03 13:12:52] {410} WARNING - Model llama3-8b-8192 is not found. The cost will be 0. In your config_list, add field {\"price\" : [prompt_price_per_1k, completion_token_price_per_1k]} for customized pricing.\n"
          ]
        },
        {
          "output_type": "stream",
          "name": "stderr",
          "text": [
            "WARNING:autogen.oai.client:Model llama3-8b-8192 is not found. The cost will be 0. In your config_list, add field {\"price\" : [prompt_price_per_1k, completion_token_price_per_1k]} for customized pricing.\n"
          ]
        },
        {
          "output_type": "stream",
          "name": "stdout",
          "text": [
            "Retriever Agent (to user_proxy):\n",
            "\n",
            "<tool-use>{\"tool_calls\":[],\"output\":\"The exercise price is determined by the company and shall not be less than the par value of the shares. It is also not mandatory for the company to issue and allot only fresh shares under ESOP scheme.\"}</tool-use>\n",
            "\n",
            "Note: The conversation has ended. The final output is a concise answer based on the retrieved information.\n",
            "\n",
            "--------------------------------------------------------------------------------\n",
            "\n",
            "********************************************************************************\n",
            "Starting a new chat....\n",
            "\n",
            "********************************************************************************\n",
            "user_proxy (to Answer Grader):\n",
            "\n",
            "use the sender response as retrived contentEvaluate the relevance of the retrieved content from sender to the given query:How does exercise price determine for ESOP?. Provide a binary response: 'yes' or 'no', indicating whether the document is relevant. Do not provide explanations or additional information also do not provides python code \n",
            "Context: \n",
            "\n",
            "<tool-use>{\"tool_calls\":[],\"output\":\"The exercise price is determined by the company and shall not be less than the par value of the shares. It is also not mandatory for the company to issue and allot only fresh shares under ESOP scheme.\"}</tool-use>\n",
            "\n",
            "Note: The conversation has ended. The final output is a concise answer based on the retrieved information.\n",
            "\n",
            "--------------------------------------------------------------------------------\n",
            "[autogen.oai.client: 12-03 13:12:52] {410} WARNING - Model llama3-8b-8192 is not found. The cost will be 0. In your config_list, add field {\"price\" : [prompt_price_per_1k, completion_token_price_per_1k]} for customized pricing.\n"
          ]
        },
        {
          "output_type": "stream",
          "name": "stderr",
          "text": [
            "WARNING:autogen.oai.client:Model llama3-8b-8192 is not found. The cost will be 0. In your config_list, add field {\"price\" : [prompt_price_per_1k, completion_token_price_per_1k]} for customized pricing.\n"
          ]
        },
        {
          "output_type": "stream",
          "name": "stdout",
          "text": [
            "Answer Grader (to user_proxy):\n",
            "\n",
            "yes\n",
            "\n",
            "--------------------------------------------------------------------------------\n",
            "user_proxy (to Answer Grader):\n",
            "\n",
            "\n",
            "\n",
            "--------------------------------------------------------------------------------\n",
            "[autogen.oai.client: 12-03 13:12:53] {410} WARNING - Model llama3-8b-8192 is not found. The cost will be 0. In your config_list, add field {\"price\" : [prompt_price_per_1k, completion_token_price_per_1k]} for customized pricing.\n"
          ]
        },
        {
          "output_type": "stream",
          "name": "stderr",
          "text": [
            "WARNING:autogen.oai.client:Model llama3-8b-8192 is not found. The cost will be 0. In your config_list, add field {\"price\" : [prompt_price_per_1k, completion_token_price_per_1k]} for customized pricing.\n"
          ]
        },
        {
          "output_type": "stream",
          "name": "stdout",
          "text": [
            "Answer Grader (to user_proxy):\n",
            "\n",
            "TERMINATE\n",
            "\n",
            "--------------------------------------------------------------------------------\n",
            "\n",
            "********************************************************************************\n",
            "Starting a new chat....\n",
            "\n",
            "********************************************************************************\n",
            "user_proxy (to Hallucination Grader):\n",
            "\n",
            "Evaluate whether the response provided by sender is grounded in the retrieved context. Provide a binary score: 'yes' or 'no'. Do not include preamble or explanations.\n",
            "Context: \n",
            "\n",
            "<tool-use>{\"tool_calls\":[],\"output\":\"The exercise price is determined by the company and shall not be less than the par value of the shares. It is also not mandatory for the company to issue and allot only fresh shares under ESOP scheme.\"}</tool-use>\n",
            "\n",
            "Note: The conversation has ended. The final output is a concise answer based on the retrieved information.\n",
            "\n",
            "\n",
            "--------------------------------------------------------------------------------\n",
            "[autogen.oai.client: 12-03 13:12:53] {410} WARNING - Model llama3-8b-8192 is not found. The cost will be 0. In your config_list, add field {\"price\" : [prompt_price_per_1k, completion_token_price_per_1k]} for customized pricing.\n"
          ]
        },
        {
          "output_type": "stream",
          "name": "stderr",
          "text": [
            "WARNING:autogen.oai.client:Model llama3-8b-8192 is not found. The cost will be 0. In your config_list, add field {\"price\" : [prompt_price_per_1k, completion_token_price_per_1k]} for customized pricing.\n"
          ]
        },
        {
          "output_type": "stream",
          "name": "stdout",
          "text": [
            "Hallucination Grader (to user_proxy):\n",
            "\n",
            "yes\n",
            "\n",
            "--------------------------------------------------------------------------------\n",
            "user_proxy (to Hallucination Grader):\n",
            "\n",
            "\n",
            "\n",
            "--------------------------------------------------------------------------------\n",
            "[autogen.oai.client: 12-03 13:12:53] {410} WARNING - Model llama3-8b-8192 is not found. The cost will be 0. In your config_list, add field {\"price\" : [prompt_price_per_1k, completion_token_price_per_1k]} for customized pricing.\n"
          ]
        },
        {
          "output_type": "stream",
          "name": "stderr",
          "text": [
            "WARNING:autogen.oai.client:Model llama3-8b-8192 is not found. The cost will be 0. In your config_list, add field {\"price\" : [prompt_price_per_1k, completion_token_price_per_1k]} for customized pricing.\n"
          ]
        },
        {
          "output_type": "stream",
          "name": "stdout",
          "text": [
            "Hallucination Grader (to user_proxy):\n",
            "\n",
            "TERMINATE\n",
            "\n",
            "--------------------------------------------------------------------------------\n",
            "\n",
            "********************************************************************************\n",
            "Starting a new chat....\n",
            "\n",
            "********************************************************************************\n",
            "user_proxy (to Final Answer Generator):\n",
            "\n",
            "If the response from sender is 'yes', generate a clear and concise final answer. If 'no', perform a web search using 'web_search_tool(query)' and provide the response based on the new search.\n",
            "Context: \n",
            "\n",
            "<tool-use>{\"tool_calls\":[],\"output\":\"The exercise price is determined by the company and shall not be less than the par value of the shares. It is also not mandatory for the company to issue and allot only fresh shares under ESOP scheme.\"}</tool-use>\n",
            "\n",
            "Note: The conversation has ended. The final output is a concise answer based on the retrieved information.\n",
            "\n",
            "\n",
            "\n",
            "--------------------------------------------------------------------------------\n",
            "[autogen.oai.client: 12-03 13:12:54] {410} WARNING - Model llama3-8b-8192 is not found. The cost will be 0. In your config_list, add field {\"price\" : [prompt_price_per_1k, completion_token_price_per_1k]} for customized pricing.\n"
          ]
        },
        {
          "output_type": "stream",
          "name": "stderr",
          "text": [
            "WARNING:autogen.oai.client:Model llama3-8b-8192 is not found. The cost will be 0. In your config_list, add field {\"price\" : [prompt_price_per_1k, completion_token_price_per_1k]} for customized pricing.\n"
          ]
        },
        {
          "output_type": "stream",
          "name": "stdout",
          "text": [
            "Final Answer Generator (to user_proxy):\n",
            "\n",
            "The current President of the United States is Joe Biden.\n",
            "\n",
            "--------------------------------------------------------------------------------\n",
            "user_proxy (to Final Answer Generator):\n",
            "\n",
            "\n",
            "\n",
            "--------------------------------------------------------------------------------\n",
            "[autogen.oai.client: 12-03 13:12:55] {410} WARNING - Model llama3-8b-8192 is not found. The cost will be 0. In your config_list, add field {\"price\" : [prompt_price_per_1k, completion_token_price_per_1k]} for customized pricing.\n"
          ]
        },
        {
          "output_type": "stream",
          "name": "stderr",
          "text": [
            "WARNING:autogen.oai.client:Model llama3-8b-8192 is not found. The cost will be 0. In your config_list, add field {\"price\" : [prompt_price_per_1k, completion_token_price_per_1k]} for customized pricing.\n"
          ]
        },
        {
          "output_type": "stream",
          "name": "stdout",
          "text": [
            "Final Answer Generator (to user_proxy):\n",
            "\n",
            "TERMINATE\n",
            "\n",
            "--------------------------------------------------------------------------------\n",
            "\n",
            "********************************************************************************\n",
            "Starting a new chat....\n",
            "\n",
            "********************************************************************************\n",
            "Final Answer Generator (to user_proxy):\n",
            "\n",
            "Here is the finalized answer to your query. I hope this resolves your question effectively.\n",
            "Context: \n",
            "\n",
            "<tool-use>{\"tool_calls\":[],\"output\":\"The exercise price is determined by the company and shall not be less than the par value of the shares. It is also not mandatory for the company to issue and allot only fresh shares under ESOP scheme.\"}</tool-use>\n",
            "\n",
            "Note: The conversation has ended. The final output is a concise answer based on the retrieved information.\n",
            "\n",
            "\n",
            "\n",
            "\n",
            "--------------------------------------------------------------------------------\n",
            "user_proxy (to Final Answer Generator):\n",
            "\n",
            "\n",
            "\n",
            "--------------------------------------------------------------------------------\n"
          ]
        }
      ],
      "source": [
        "from autogen import initiate_chats\n",
        "\n",
        "chat_results = initiate_chats(chats)"
      ]
    },
    {
      "cell_type": "code",
      "source": [],
      "metadata": {
        "id": "JUHgGULdhOA6"
      },
      "execution_count": null,
      "outputs": []
    }
  ],
  "metadata": {
    "colab": {
      "provenance": []
    },
    "kernelspec": {
      "display_name": "Python 3",
      "name": "python3"
    },
    "language_info": {
      "name": "python"
    },
    "widgets": {
      "application/vnd.jupyter.widget-state+json": {
        "66d861a98aec4cc0a69fc52c52c1aaf8": {
          "model_module": "@jupyter-widgets/controls",
          "model_name": "HBoxModel",
          "model_module_version": "1.5.0",
          "state": {
            "_dom_classes": [],
            "_model_module": "@jupyter-widgets/controls",
            "_model_module_version": "1.5.0",
            "_model_name": "HBoxModel",
            "_view_count": null,
            "_view_module": "@jupyter-widgets/controls",
            "_view_module_version": "1.5.0",
            "_view_name": "HBoxView",
            "box_style": "",
            "children": [
              "IPY_MODEL_bbbe563ae64c4c858c6ba3abc3581305",
              "IPY_MODEL_c19f5c79a3ff4abf9dbdb52177bb43b3",
              "IPY_MODEL_c4635a4553524331928556ea0ac21ba9"
            ],
            "layout": "IPY_MODEL_c04ca8ed545e4f20bffbcf2c808de5dc"
          }
        },
        "bbbe563ae64c4c858c6ba3abc3581305": {
          "model_module": "@jupyter-widgets/controls",
          "model_name": "HTMLModel",
          "model_module_version": "1.5.0",
          "state": {
            "_dom_classes": [],
            "_model_module": "@jupyter-widgets/controls",
            "_model_module_version": "1.5.0",
            "_model_name": "HTMLModel",
            "_view_count": null,
            "_view_module": "@jupyter-widgets/controls",
            "_view_module_version": "1.5.0",
            "_view_name": "HTMLView",
            "description": "",
            "description_tooltip": null,
            "layout": "IPY_MODEL_6607b15af6214b02a3d7eb0840064e12",
            "placeholder": "​",
            "style": "IPY_MODEL_a3620827dcea400e903aaa92f3012d14",
            "value": "modules.json: 100%"
          }
        },
        "c19f5c79a3ff4abf9dbdb52177bb43b3": {
          "model_module": "@jupyter-widgets/controls",
          "model_name": "FloatProgressModel",
          "model_module_version": "1.5.0",
          "state": {
            "_dom_classes": [],
            "_model_module": "@jupyter-widgets/controls",
            "_model_module_version": "1.5.0",
            "_model_name": "FloatProgressModel",
            "_view_count": null,
            "_view_module": "@jupyter-widgets/controls",
            "_view_module_version": "1.5.0",
            "_view_name": "ProgressView",
            "bar_style": "success",
            "description": "",
            "description_tooltip": null,
            "layout": "IPY_MODEL_b7c809a5f2f74b90a2aae5be4c33319b",
            "max": 349,
            "min": 0,
            "orientation": "horizontal",
            "style": "IPY_MODEL_81965217fe034b02b95f39aac52c8be4",
            "value": 349
          }
        },
        "c4635a4553524331928556ea0ac21ba9": {
          "model_module": "@jupyter-widgets/controls",
          "model_name": "HTMLModel",
          "model_module_version": "1.5.0",
          "state": {
            "_dom_classes": [],
            "_model_module": "@jupyter-widgets/controls",
            "_model_module_version": "1.5.0",
            "_model_name": "HTMLModel",
            "_view_count": null,
            "_view_module": "@jupyter-widgets/controls",
            "_view_module_version": "1.5.0",
            "_view_name": "HTMLView",
            "description": "",
            "description_tooltip": null,
            "layout": "IPY_MODEL_b5888ae9e290442185f40c2275007897",
            "placeholder": "​",
            "style": "IPY_MODEL_c46e7c74159b452ebf0aa2a2837f5a97",
            "value": " 349/349 [00:00&lt;00:00, 27.6kB/s]"
          }
        },
        "c04ca8ed545e4f20bffbcf2c808de5dc": {
          "model_module": "@jupyter-widgets/base",
          "model_name": "LayoutModel",
          "model_module_version": "1.2.0",
          "state": {
            "_model_module": "@jupyter-widgets/base",
            "_model_module_version": "1.2.0",
            "_model_name": "LayoutModel",
            "_view_count": null,
            "_view_module": "@jupyter-widgets/base",
            "_view_module_version": "1.2.0",
            "_view_name": "LayoutView",
            "align_content": null,
            "align_items": null,
            "align_self": null,
            "border": null,
            "bottom": null,
            "display": null,
            "flex": null,
            "flex_flow": null,
            "grid_area": null,
            "grid_auto_columns": null,
            "grid_auto_flow": null,
            "grid_auto_rows": null,
            "grid_column": null,
            "grid_gap": null,
            "grid_row": null,
            "grid_template_areas": null,
            "grid_template_columns": null,
            "grid_template_rows": null,
            "height": null,
            "justify_content": null,
            "justify_items": null,
            "left": null,
            "margin": null,
            "max_height": null,
            "max_width": null,
            "min_height": null,
            "min_width": null,
            "object_fit": null,
            "object_position": null,
            "order": null,
            "overflow": null,
            "overflow_x": null,
            "overflow_y": null,
            "padding": null,
            "right": null,
            "top": null,
            "visibility": null,
            "width": null
          }
        },
        "6607b15af6214b02a3d7eb0840064e12": {
          "model_module": "@jupyter-widgets/base",
          "model_name": "LayoutModel",
          "model_module_version": "1.2.0",
          "state": {
            "_model_module": "@jupyter-widgets/base",
            "_model_module_version": "1.2.0",
            "_model_name": "LayoutModel",
            "_view_count": null,
            "_view_module": "@jupyter-widgets/base",
            "_view_module_version": "1.2.0",
            "_view_name": "LayoutView",
            "align_content": null,
            "align_items": null,
            "align_self": null,
            "border": null,
            "bottom": null,
            "display": null,
            "flex": null,
            "flex_flow": null,
            "grid_area": null,
            "grid_auto_columns": null,
            "grid_auto_flow": null,
            "grid_auto_rows": null,
            "grid_column": null,
            "grid_gap": null,
            "grid_row": null,
            "grid_template_areas": null,
            "grid_template_columns": null,
            "grid_template_rows": null,
            "height": null,
            "justify_content": null,
            "justify_items": null,
            "left": null,
            "margin": null,
            "max_height": null,
            "max_width": null,
            "min_height": null,
            "min_width": null,
            "object_fit": null,
            "object_position": null,
            "order": null,
            "overflow": null,
            "overflow_x": null,
            "overflow_y": null,
            "padding": null,
            "right": null,
            "top": null,
            "visibility": null,
            "width": null
          }
        },
        "a3620827dcea400e903aaa92f3012d14": {
          "model_module": "@jupyter-widgets/controls",
          "model_name": "DescriptionStyleModel",
          "model_module_version": "1.5.0",
          "state": {
            "_model_module": "@jupyter-widgets/controls",
            "_model_module_version": "1.5.0",
            "_model_name": "DescriptionStyleModel",
            "_view_count": null,
            "_view_module": "@jupyter-widgets/base",
            "_view_module_version": "1.2.0",
            "_view_name": "StyleView",
            "description_width": ""
          }
        },
        "b7c809a5f2f74b90a2aae5be4c33319b": {
          "model_module": "@jupyter-widgets/base",
          "model_name": "LayoutModel",
          "model_module_version": "1.2.0",
          "state": {
            "_model_module": "@jupyter-widgets/base",
            "_model_module_version": "1.2.0",
            "_model_name": "LayoutModel",
            "_view_count": null,
            "_view_module": "@jupyter-widgets/base",
            "_view_module_version": "1.2.0",
            "_view_name": "LayoutView",
            "align_content": null,
            "align_items": null,
            "align_self": null,
            "border": null,
            "bottom": null,
            "display": null,
            "flex": null,
            "flex_flow": null,
            "grid_area": null,
            "grid_auto_columns": null,
            "grid_auto_flow": null,
            "grid_auto_rows": null,
            "grid_column": null,
            "grid_gap": null,
            "grid_row": null,
            "grid_template_areas": null,
            "grid_template_columns": null,
            "grid_template_rows": null,
            "height": null,
            "justify_content": null,
            "justify_items": null,
            "left": null,
            "margin": null,
            "max_height": null,
            "max_width": null,
            "min_height": null,
            "min_width": null,
            "object_fit": null,
            "object_position": null,
            "order": null,
            "overflow": null,
            "overflow_x": null,
            "overflow_y": null,
            "padding": null,
            "right": null,
            "top": null,
            "visibility": null,
            "width": null
          }
        },
        "81965217fe034b02b95f39aac52c8be4": {
          "model_module": "@jupyter-widgets/controls",
          "model_name": "ProgressStyleModel",
          "model_module_version": "1.5.0",
          "state": {
            "_model_module": "@jupyter-widgets/controls",
            "_model_module_version": "1.5.0",
            "_model_name": "ProgressStyleModel",
            "_view_count": null,
            "_view_module": "@jupyter-widgets/base",
            "_view_module_version": "1.2.0",
            "_view_name": "StyleView",
            "bar_color": null,
            "description_width": ""
          }
        },
        "b5888ae9e290442185f40c2275007897": {
          "model_module": "@jupyter-widgets/base",
          "model_name": "LayoutModel",
          "model_module_version": "1.2.0",
          "state": {
            "_model_module": "@jupyter-widgets/base",
            "_model_module_version": "1.2.0",
            "_model_name": "LayoutModel",
            "_view_count": null,
            "_view_module": "@jupyter-widgets/base",
            "_view_module_version": "1.2.0",
            "_view_name": "LayoutView",
            "align_content": null,
            "align_items": null,
            "align_self": null,
            "border": null,
            "bottom": null,
            "display": null,
            "flex": null,
            "flex_flow": null,
            "grid_area": null,
            "grid_auto_columns": null,
            "grid_auto_flow": null,
            "grid_auto_rows": null,
            "grid_column": null,
            "grid_gap": null,
            "grid_row": null,
            "grid_template_areas": null,
            "grid_template_columns": null,
            "grid_template_rows": null,
            "height": null,
            "justify_content": null,
            "justify_items": null,
            "left": null,
            "margin": null,
            "max_height": null,
            "max_width": null,
            "min_height": null,
            "min_width": null,
            "object_fit": null,
            "object_position": null,
            "order": null,
            "overflow": null,
            "overflow_x": null,
            "overflow_y": null,
            "padding": null,
            "right": null,
            "top": null,
            "visibility": null,
            "width": null
          }
        },
        "c46e7c74159b452ebf0aa2a2837f5a97": {
          "model_module": "@jupyter-widgets/controls",
          "model_name": "DescriptionStyleModel",
          "model_module_version": "1.5.0",
          "state": {
            "_model_module": "@jupyter-widgets/controls",
            "_model_module_version": "1.5.0",
            "_model_name": "DescriptionStyleModel",
            "_view_count": null,
            "_view_module": "@jupyter-widgets/base",
            "_view_module_version": "1.2.0",
            "_view_name": "StyleView",
            "description_width": ""
          }
        },
        "d572387950984272a72bc61b90adddb2": {
          "model_module": "@jupyter-widgets/controls",
          "model_name": "HBoxModel",
          "model_module_version": "1.5.0",
          "state": {
            "_dom_classes": [],
            "_model_module": "@jupyter-widgets/controls",
            "_model_module_version": "1.5.0",
            "_model_name": "HBoxModel",
            "_view_count": null,
            "_view_module": "@jupyter-widgets/controls",
            "_view_module_version": "1.5.0",
            "_view_name": "HBoxView",
            "box_style": "",
            "children": [
              "IPY_MODEL_8fbf49d0d88b402687e7c99c30324fdf",
              "IPY_MODEL_cc8d4df8527e4577ad1ed12058ae4273",
              "IPY_MODEL_ff4701090d784665b10d9a4e0c4acaf2"
            ],
            "layout": "IPY_MODEL_68c993df5e5846adb2c3eb0c2334a4f0"
          }
        },
        "8fbf49d0d88b402687e7c99c30324fdf": {
          "model_module": "@jupyter-widgets/controls",
          "model_name": "HTMLModel",
          "model_module_version": "1.5.0",
          "state": {
            "_dom_classes": [],
            "_model_module": "@jupyter-widgets/controls",
            "_model_module_version": "1.5.0",
            "_model_name": "HTMLModel",
            "_view_count": null,
            "_view_module": "@jupyter-widgets/controls",
            "_view_module_version": "1.5.0",
            "_view_name": "HTMLView",
            "description": "",
            "description_tooltip": null,
            "layout": "IPY_MODEL_03b2fe956fd3480daa1a27f0868ade2c",
            "placeholder": "​",
            "style": "IPY_MODEL_e1899b919d6d4303919811e236e974d7",
            "value": "config_sentence_transformers.json: 100%"
          }
        },
        "cc8d4df8527e4577ad1ed12058ae4273": {
          "model_module": "@jupyter-widgets/controls",
          "model_name": "FloatProgressModel",
          "model_module_version": "1.5.0",
          "state": {
            "_dom_classes": [],
            "_model_module": "@jupyter-widgets/controls",
            "_model_module_version": "1.5.0",
            "_model_name": "FloatProgressModel",
            "_view_count": null,
            "_view_module": "@jupyter-widgets/controls",
            "_view_module_version": "1.5.0",
            "_view_name": "ProgressView",
            "bar_style": "success",
            "description": "",
            "description_tooltip": null,
            "layout": "IPY_MODEL_e927fc2a718b41bd9a495f1d1ad6d757",
            "max": 116,
            "min": 0,
            "orientation": "horizontal",
            "style": "IPY_MODEL_aa07bc0b314144548f04eab8492dba12",
            "value": 116
          }
        },
        "ff4701090d784665b10d9a4e0c4acaf2": {
          "model_module": "@jupyter-widgets/controls",
          "model_name": "HTMLModel",
          "model_module_version": "1.5.0",
          "state": {
            "_dom_classes": [],
            "_model_module": "@jupyter-widgets/controls",
            "_model_module_version": "1.5.0",
            "_model_name": "HTMLModel",
            "_view_count": null,
            "_view_module": "@jupyter-widgets/controls",
            "_view_module_version": "1.5.0",
            "_view_name": "HTMLView",
            "description": "",
            "description_tooltip": null,
            "layout": "IPY_MODEL_6884b89a7b154f5c978065eaacece43e",
            "placeholder": "​",
            "style": "IPY_MODEL_d22cd9177f464e6d9f759e264d3dda15",
            "value": " 116/116 [00:00&lt;00:00, 9.73kB/s]"
          }
        },
        "68c993df5e5846adb2c3eb0c2334a4f0": {
          "model_module": "@jupyter-widgets/base",
          "model_name": "LayoutModel",
          "model_module_version": "1.2.0",
          "state": {
            "_model_module": "@jupyter-widgets/base",
            "_model_module_version": "1.2.0",
            "_model_name": "LayoutModel",
            "_view_count": null,
            "_view_module": "@jupyter-widgets/base",
            "_view_module_version": "1.2.0",
            "_view_name": "LayoutView",
            "align_content": null,
            "align_items": null,
            "align_self": null,
            "border": null,
            "bottom": null,
            "display": null,
            "flex": null,
            "flex_flow": null,
            "grid_area": null,
            "grid_auto_columns": null,
            "grid_auto_flow": null,
            "grid_auto_rows": null,
            "grid_column": null,
            "grid_gap": null,
            "grid_row": null,
            "grid_template_areas": null,
            "grid_template_columns": null,
            "grid_template_rows": null,
            "height": null,
            "justify_content": null,
            "justify_items": null,
            "left": null,
            "margin": null,
            "max_height": null,
            "max_width": null,
            "min_height": null,
            "min_width": null,
            "object_fit": null,
            "object_position": null,
            "order": null,
            "overflow": null,
            "overflow_x": null,
            "overflow_y": null,
            "padding": null,
            "right": null,
            "top": null,
            "visibility": null,
            "width": null
          }
        },
        "03b2fe956fd3480daa1a27f0868ade2c": {
          "model_module": "@jupyter-widgets/base",
          "model_name": "LayoutModel",
          "model_module_version": "1.2.0",
          "state": {
            "_model_module": "@jupyter-widgets/base",
            "_model_module_version": "1.2.0",
            "_model_name": "LayoutModel",
            "_view_count": null,
            "_view_module": "@jupyter-widgets/base",
            "_view_module_version": "1.2.0",
            "_view_name": "LayoutView",
            "align_content": null,
            "align_items": null,
            "align_self": null,
            "border": null,
            "bottom": null,
            "display": null,
            "flex": null,
            "flex_flow": null,
            "grid_area": null,
            "grid_auto_columns": null,
            "grid_auto_flow": null,
            "grid_auto_rows": null,
            "grid_column": null,
            "grid_gap": null,
            "grid_row": null,
            "grid_template_areas": null,
            "grid_template_columns": null,
            "grid_template_rows": null,
            "height": null,
            "justify_content": null,
            "justify_items": null,
            "left": null,
            "margin": null,
            "max_height": null,
            "max_width": null,
            "min_height": null,
            "min_width": null,
            "object_fit": null,
            "object_position": null,
            "order": null,
            "overflow": null,
            "overflow_x": null,
            "overflow_y": null,
            "padding": null,
            "right": null,
            "top": null,
            "visibility": null,
            "width": null
          }
        },
        "e1899b919d6d4303919811e236e974d7": {
          "model_module": "@jupyter-widgets/controls",
          "model_name": "DescriptionStyleModel",
          "model_module_version": "1.5.0",
          "state": {
            "_model_module": "@jupyter-widgets/controls",
            "_model_module_version": "1.5.0",
            "_model_name": "DescriptionStyleModel",
            "_view_count": null,
            "_view_module": "@jupyter-widgets/base",
            "_view_module_version": "1.2.0",
            "_view_name": "StyleView",
            "description_width": ""
          }
        },
        "e927fc2a718b41bd9a495f1d1ad6d757": {
          "model_module": "@jupyter-widgets/base",
          "model_name": "LayoutModel",
          "model_module_version": "1.2.0",
          "state": {
            "_model_module": "@jupyter-widgets/base",
            "_model_module_version": "1.2.0",
            "_model_name": "LayoutModel",
            "_view_count": null,
            "_view_module": "@jupyter-widgets/base",
            "_view_module_version": "1.2.0",
            "_view_name": "LayoutView",
            "align_content": null,
            "align_items": null,
            "align_self": null,
            "border": null,
            "bottom": null,
            "display": null,
            "flex": null,
            "flex_flow": null,
            "grid_area": null,
            "grid_auto_columns": null,
            "grid_auto_flow": null,
            "grid_auto_rows": null,
            "grid_column": null,
            "grid_gap": null,
            "grid_row": null,
            "grid_template_areas": null,
            "grid_template_columns": null,
            "grid_template_rows": null,
            "height": null,
            "justify_content": null,
            "justify_items": null,
            "left": null,
            "margin": null,
            "max_height": null,
            "max_width": null,
            "min_height": null,
            "min_width": null,
            "object_fit": null,
            "object_position": null,
            "order": null,
            "overflow": null,
            "overflow_x": null,
            "overflow_y": null,
            "padding": null,
            "right": null,
            "top": null,
            "visibility": null,
            "width": null
          }
        },
        "aa07bc0b314144548f04eab8492dba12": {
          "model_module": "@jupyter-widgets/controls",
          "model_name": "ProgressStyleModel",
          "model_module_version": "1.5.0",
          "state": {
            "_model_module": "@jupyter-widgets/controls",
            "_model_module_version": "1.5.0",
            "_model_name": "ProgressStyleModel",
            "_view_count": null,
            "_view_module": "@jupyter-widgets/base",
            "_view_module_version": "1.2.0",
            "_view_name": "StyleView",
            "bar_color": null,
            "description_width": ""
          }
        },
        "6884b89a7b154f5c978065eaacece43e": {
          "model_module": "@jupyter-widgets/base",
          "model_name": "LayoutModel",
          "model_module_version": "1.2.0",
          "state": {
            "_model_module": "@jupyter-widgets/base",
            "_model_module_version": "1.2.0",
            "_model_name": "LayoutModel",
            "_view_count": null,
            "_view_module": "@jupyter-widgets/base",
            "_view_module_version": "1.2.0",
            "_view_name": "LayoutView",
            "align_content": null,
            "align_items": null,
            "align_self": null,
            "border": null,
            "bottom": null,
            "display": null,
            "flex": null,
            "flex_flow": null,
            "grid_area": null,
            "grid_auto_columns": null,
            "grid_auto_flow": null,
            "grid_auto_rows": null,
            "grid_column": null,
            "grid_gap": null,
            "grid_row": null,
            "grid_template_areas": null,
            "grid_template_columns": null,
            "grid_template_rows": null,
            "height": null,
            "justify_content": null,
            "justify_items": null,
            "left": null,
            "margin": null,
            "max_height": null,
            "max_width": null,
            "min_height": null,
            "min_width": null,
            "object_fit": null,
            "object_position": null,
            "order": null,
            "overflow": null,
            "overflow_x": null,
            "overflow_y": null,
            "padding": null,
            "right": null,
            "top": null,
            "visibility": null,
            "width": null
          }
        },
        "d22cd9177f464e6d9f759e264d3dda15": {
          "model_module": "@jupyter-widgets/controls",
          "model_name": "DescriptionStyleModel",
          "model_module_version": "1.5.0",
          "state": {
            "_model_module": "@jupyter-widgets/controls",
            "_model_module_version": "1.5.0",
            "_model_name": "DescriptionStyleModel",
            "_view_count": null,
            "_view_module": "@jupyter-widgets/base",
            "_view_module_version": "1.2.0",
            "_view_name": "StyleView",
            "description_width": ""
          }
        },
        "3168398e5c574b72b33de32b2d491bdd": {
          "model_module": "@jupyter-widgets/controls",
          "model_name": "HBoxModel",
          "model_module_version": "1.5.0",
          "state": {
            "_dom_classes": [],
            "_model_module": "@jupyter-widgets/controls",
            "_model_module_version": "1.5.0",
            "_model_name": "HBoxModel",
            "_view_count": null,
            "_view_module": "@jupyter-widgets/controls",
            "_view_module_version": "1.5.0",
            "_view_name": "HBoxView",
            "box_style": "",
            "children": [
              "IPY_MODEL_bd76fa31eb9f4d05bb1e1a85ea9b9d2c",
              "IPY_MODEL_402a9a6c582f422aac1770d93f6f9fdc",
              "IPY_MODEL_345992ff6289448f89361304631966fd"
            ],
            "layout": "IPY_MODEL_bad22717cc86474e91cb7012bfaf1c75"
          }
        },
        "bd76fa31eb9f4d05bb1e1a85ea9b9d2c": {
          "model_module": "@jupyter-widgets/controls",
          "model_name": "HTMLModel",
          "model_module_version": "1.5.0",
          "state": {
            "_dom_classes": [],
            "_model_module": "@jupyter-widgets/controls",
            "_model_module_version": "1.5.0",
            "_model_name": "HTMLModel",
            "_view_count": null,
            "_view_module": "@jupyter-widgets/controls",
            "_view_module_version": "1.5.0",
            "_view_name": "HTMLView",
            "description": "",
            "description_tooltip": null,
            "layout": "IPY_MODEL_aa14a7a9863f4fd6b9e5b461d4baa97d",
            "placeholder": "​",
            "style": "IPY_MODEL_74ec0b5fda564fd5954df2fda6a11767",
            "value": "README.md: 100%"
          }
        },
        "402a9a6c582f422aac1770d93f6f9fdc": {
          "model_module": "@jupyter-widgets/controls",
          "model_name": "FloatProgressModel",
          "model_module_version": "1.5.0",
          "state": {
            "_dom_classes": [],
            "_model_module": "@jupyter-widgets/controls",
            "_model_module_version": "1.5.0",
            "_model_name": "FloatProgressModel",
            "_view_count": null,
            "_view_module": "@jupyter-widgets/controls",
            "_view_module_version": "1.5.0",
            "_view_name": "ProgressView",
            "bar_style": "success",
            "description": "",
            "description_tooltip": null,
            "layout": "IPY_MODEL_a539c68b600641c2a7cc5cd38ea8faec",
            "max": 10659,
            "min": 0,
            "orientation": "horizontal",
            "style": "IPY_MODEL_05121b8bbf8d4bc1a53b71720239c1ed",
            "value": 10659
          }
        },
        "345992ff6289448f89361304631966fd": {
          "model_module": "@jupyter-widgets/controls",
          "model_name": "HTMLModel",
          "model_module_version": "1.5.0",
          "state": {
            "_dom_classes": [],
            "_model_module": "@jupyter-widgets/controls",
            "_model_module_version": "1.5.0",
            "_model_name": "HTMLModel",
            "_view_count": null,
            "_view_module": "@jupyter-widgets/controls",
            "_view_module_version": "1.5.0",
            "_view_name": "HTMLView",
            "description": "",
            "description_tooltip": null,
            "layout": "IPY_MODEL_f8255df39c5f40f8a7a2a1015d70b435",
            "placeholder": "​",
            "style": "IPY_MODEL_ff5565b51e394aa6a293d47521c707dc",
            "value": " 10.7k/10.7k [00:00&lt;00:00, 512kB/s]"
          }
        },
        "bad22717cc86474e91cb7012bfaf1c75": {
          "model_module": "@jupyter-widgets/base",
          "model_name": "LayoutModel",
          "model_module_version": "1.2.0",
          "state": {
            "_model_module": "@jupyter-widgets/base",
            "_model_module_version": "1.2.0",
            "_model_name": "LayoutModel",
            "_view_count": null,
            "_view_module": "@jupyter-widgets/base",
            "_view_module_version": "1.2.0",
            "_view_name": "LayoutView",
            "align_content": null,
            "align_items": null,
            "align_self": null,
            "border": null,
            "bottom": null,
            "display": null,
            "flex": null,
            "flex_flow": null,
            "grid_area": null,
            "grid_auto_columns": null,
            "grid_auto_flow": null,
            "grid_auto_rows": null,
            "grid_column": null,
            "grid_gap": null,
            "grid_row": null,
            "grid_template_areas": null,
            "grid_template_columns": null,
            "grid_template_rows": null,
            "height": null,
            "justify_content": null,
            "justify_items": null,
            "left": null,
            "margin": null,
            "max_height": null,
            "max_width": null,
            "min_height": null,
            "min_width": null,
            "object_fit": null,
            "object_position": null,
            "order": null,
            "overflow": null,
            "overflow_x": null,
            "overflow_y": null,
            "padding": null,
            "right": null,
            "top": null,
            "visibility": null,
            "width": null
          }
        },
        "aa14a7a9863f4fd6b9e5b461d4baa97d": {
          "model_module": "@jupyter-widgets/base",
          "model_name": "LayoutModel",
          "model_module_version": "1.2.0",
          "state": {
            "_model_module": "@jupyter-widgets/base",
            "_model_module_version": "1.2.0",
            "_model_name": "LayoutModel",
            "_view_count": null,
            "_view_module": "@jupyter-widgets/base",
            "_view_module_version": "1.2.0",
            "_view_name": "LayoutView",
            "align_content": null,
            "align_items": null,
            "align_self": null,
            "border": null,
            "bottom": null,
            "display": null,
            "flex": null,
            "flex_flow": null,
            "grid_area": null,
            "grid_auto_columns": null,
            "grid_auto_flow": null,
            "grid_auto_rows": null,
            "grid_column": null,
            "grid_gap": null,
            "grid_row": null,
            "grid_template_areas": null,
            "grid_template_columns": null,
            "grid_template_rows": null,
            "height": null,
            "justify_content": null,
            "justify_items": null,
            "left": null,
            "margin": null,
            "max_height": null,
            "max_width": null,
            "min_height": null,
            "min_width": null,
            "object_fit": null,
            "object_position": null,
            "order": null,
            "overflow": null,
            "overflow_x": null,
            "overflow_y": null,
            "padding": null,
            "right": null,
            "top": null,
            "visibility": null,
            "width": null
          }
        },
        "74ec0b5fda564fd5954df2fda6a11767": {
          "model_module": "@jupyter-widgets/controls",
          "model_name": "DescriptionStyleModel",
          "model_module_version": "1.5.0",
          "state": {
            "_model_module": "@jupyter-widgets/controls",
            "_model_module_version": "1.5.0",
            "_model_name": "DescriptionStyleModel",
            "_view_count": null,
            "_view_module": "@jupyter-widgets/base",
            "_view_module_version": "1.2.0",
            "_view_name": "StyleView",
            "description_width": ""
          }
        },
        "a539c68b600641c2a7cc5cd38ea8faec": {
          "model_module": "@jupyter-widgets/base",
          "model_name": "LayoutModel",
          "model_module_version": "1.2.0",
          "state": {
            "_model_module": "@jupyter-widgets/base",
            "_model_module_version": "1.2.0",
            "_model_name": "LayoutModel",
            "_view_count": null,
            "_view_module": "@jupyter-widgets/base",
            "_view_module_version": "1.2.0",
            "_view_name": "LayoutView",
            "align_content": null,
            "align_items": null,
            "align_self": null,
            "border": null,
            "bottom": null,
            "display": null,
            "flex": null,
            "flex_flow": null,
            "grid_area": null,
            "grid_auto_columns": null,
            "grid_auto_flow": null,
            "grid_auto_rows": null,
            "grid_column": null,
            "grid_gap": null,
            "grid_row": null,
            "grid_template_areas": null,
            "grid_template_columns": null,
            "grid_template_rows": null,
            "height": null,
            "justify_content": null,
            "justify_items": null,
            "left": null,
            "margin": null,
            "max_height": null,
            "max_width": null,
            "min_height": null,
            "min_width": null,
            "object_fit": null,
            "object_position": null,
            "order": null,
            "overflow": null,
            "overflow_x": null,
            "overflow_y": null,
            "padding": null,
            "right": null,
            "top": null,
            "visibility": null,
            "width": null
          }
        },
        "05121b8bbf8d4bc1a53b71720239c1ed": {
          "model_module": "@jupyter-widgets/controls",
          "model_name": "ProgressStyleModel",
          "model_module_version": "1.5.0",
          "state": {
            "_model_module": "@jupyter-widgets/controls",
            "_model_module_version": "1.5.0",
            "_model_name": "ProgressStyleModel",
            "_view_count": null,
            "_view_module": "@jupyter-widgets/base",
            "_view_module_version": "1.2.0",
            "_view_name": "StyleView",
            "bar_color": null,
            "description_width": ""
          }
        },
        "f8255df39c5f40f8a7a2a1015d70b435": {
          "model_module": "@jupyter-widgets/base",
          "model_name": "LayoutModel",
          "model_module_version": "1.2.0",
          "state": {
            "_model_module": "@jupyter-widgets/base",
            "_model_module_version": "1.2.0",
            "_model_name": "LayoutModel",
            "_view_count": null,
            "_view_module": "@jupyter-widgets/base",
            "_view_module_version": "1.2.0",
            "_view_name": "LayoutView",
            "align_content": null,
            "align_items": null,
            "align_self": null,
            "border": null,
            "bottom": null,
            "display": null,
            "flex": null,
            "flex_flow": null,
            "grid_area": null,
            "grid_auto_columns": null,
            "grid_auto_flow": null,
            "grid_auto_rows": null,
            "grid_column": null,
            "grid_gap": null,
            "grid_row": null,
            "grid_template_areas": null,
            "grid_template_columns": null,
            "grid_template_rows": null,
            "height": null,
            "justify_content": null,
            "justify_items": null,
            "left": null,
            "margin": null,
            "max_height": null,
            "max_width": null,
            "min_height": null,
            "min_width": null,
            "object_fit": null,
            "object_position": null,
            "order": null,
            "overflow": null,
            "overflow_x": null,
            "overflow_y": null,
            "padding": null,
            "right": null,
            "top": null,
            "visibility": null,
            "width": null
          }
        },
        "ff5565b51e394aa6a293d47521c707dc": {
          "model_module": "@jupyter-widgets/controls",
          "model_name": "DescriptionStyleModel",
          "model_module_version": "1.5.0",
          "state": {
            "_model_module": "@jupyter-widgets/controls",
            "_model_module_version": "1.5.0",
            "_model_name": "DescriptionStyleModel",
            "_view_count": null,
            "_view_module": "@jupyter-widgets/base",
            "_view_module_version": "1.2.0",
            "_view_name": "StyleView",
            "description_width": ""
          }
        },
        "5c05b6d39ecf4532a4e39af516a94069": {
          "model_module": "@jupyter-widgets/controls",
          "model_name": "HBoxModel",
          "model_module_version": "1.5.0",
          "state": {
            "_dom_classes": [],
            "_model_module": "@jupyter-widgets/controls",
            "_model_module_version": "1.5.0",
            "_model_name": "HBoxModel",
            "_view_count": null,
            "_view_module": "@jupyter-widgets/controls",
            "_view_module_version": "1.5.0",
            "_view_name": "HBoxView",
            "box_style": "",
            "children": [
              "IPY_MODEL_893d28094d2244579d613c10232ae9aa",
              "IPY_MODEL_f765e95e69bf45028796cd039b70d9e6",
              "IPY_MODEL_fba491aedea0468ebea12f64fbddc94a"
            ],
            "layout": "IPY_MODEL_11bdc2f06f4d4cd891f298dd4802dc78"
          }
        },
        "893d28094d2244579d613c10232ae9aa": {
          "model_module": "@jupyter-widgets/controls",
          "model_name": "HTMLModel",
          "model_module_version": "1.5.0",
          "state": {
            "_dom_classes": [],
            "_model_module": "@jupyter-widgets/controls",
            "_model_module_version": "1.5.0",
            "_model_name": "HTMLModel",
            "_view_count": null,
            "_view_module": "@jupyter-widgets/controls",
            "_view_module_version": "1.5.0",
            "_view_name": "HTMLView",
            "description": "",
            "description_tooltip": null,
            "layout": "IPY_MODEL_03e058ea847a426e87fdec59c8b114a2",
            "placeholder": "​",
            "style": "IPY_MODEL_19ee8ad44f314c45812210a880173e79",
            "value": "sentence_bert_config.json: 100%"
          }
        },
        "f765e95e69bf45028796cd039b70d9e6": {
          "model_module": "@jupyter-widgets/controls",
          "model_name": "FloatProgressModel",
          "model_module_version": "1.5.0",
          "state": {
            "_dom_classes": [],
            "_model_module": "@jupyter-widgets/controls",
            "_model_module_version": "1.5.0",
            "_model_name": "FloatProgressModel",
            "_view_count": null,
            "_view_module": "@jupyter-widgets/controls",
            "_view_module_version": "1.5.0",
            "_view_name": "ProgressView",
            "bar_style": "success",
            "description": "",
            "description_tooltip": null,
            "layout": "IPY_MODEL_ae06f6265f5f4df09e09b82aa04542be",
            "max": 53,
            "min": 0,
            "orientation": "horizontal",
            "style": "IPY_MODEL_33d0af7a7b1944eb95e4466a1823c611",
            "value": 53
          }
        },
        "fba491aedea0468ebea12f64fbddc94a": {
          "model_module": "@jupyter-widgets/controls",
          "model_name": "HTMLModel",
          "model_module_version": "1.5.0",
          "state": {
            "_dom_classes": [],
            "_model_module": "@jupyter-widgets/controls",
            "_model_module_version": "1.5.0",
            "_model_name": "HTMLModel",
            "_view_count": null,
            "_view_module": "@jupyter-widgets/controls",
            "_view_module_version": "1.5.0",
            "_view_name": "HTMLView",
            "description": "",
            "description_tooltip": null,
            "layout": "IPY_MODEL_7242a7a50c1d4373bca0f1544c20ddff",
            "placeholder": "​",
            "style": "IPY_MODEL_75d08df565284c399fb7a2f1ff9f26e6",
            "value": " 53.0/53.0 [00:00&lt;00:00, 4.01kB/s]"
          }
        },
        "11bdc2f06f4d4cd891f298dd4802dc78": {
          "model_module": "@jupyter-widgets/base",
          "model_name": "LayoutModel",
          "model_module_version": "1.2.0",
          "state": {
            "_model_module": "@jupyter-widgets/base",
            "_model_module_version": "1.2.0",
            "_model_name": "LayoutModel",
            "_view_count": null,
            "_view_module": "@jupyter-widgets/base",
            "_view_module_version": "1.2.0",
            "_view_name": "LayoutView",
            "align_content": null,
            "align_items": null,
            "align_self": null,
            "border": null,
            "bottom": null,
            "display": null,
            "flex": null,
            "flex_flow": null,
            "grid_area": null,
            "grid_auto_columns": null,
            "grid_auto_flow": null,
            "grid_auto_rows": null,
            "grid_column": null,
            "grid_gap": null,
            "grid_row": null,
            "grid_template_areas": null,
            "grid_template_columns": null,
            "grid_template_rows": null,
            "height": null,
            "justify_content": null,
            "justify_items": null,
            "left": null,
            "margin": null,
            "max_height": null,
            "max_width": null,
            "min_height": null,
            "min_width": null,
            "object_fit": null,
            "object_position": null,
            "order": null,
            "overflow": null,
            "overflow_x": null,
            "overflow_y": null,
            "padding": null,
            "right": null,
            "top": null,
            "visibility": null,
            "width": null
          }
        },
        "03e058ea847a426e87fdec59c8b114a2": {
          "model_module": "@jupyter-widgets/base",
          "model_name": "LayoutModel",
          "model_module_version": "1.2.0",
          "state": {
            "_model_module": "@jupyter-widgets/base",
            "_model_module_version": "1.2.0",
            "_model_name": "LayoutModel",
            "_view_count": null,
            "_view_module": "@jupyter-widgets/base",
            "_view_module_version": "1.2.0",
            "_view_name": "LayoutView",
            "align_content": null,
            "align_items": null,
            "align_self": null,
            "border": null,
            "bottom": null,
            "display": null,
            "flex": null,
            "flex_flow": null,
            "grid_area": null,
            "grid_auto_columns": null,
            "grid_auto_flow": null,
            "grid_auto_rows": null,
            "grid_column": null,
            "grid_gap": null,
            "grid_row": null,
            "grid_template_areas": null,
            "grid_template_columns": null,
            "grid_template_rows": null,
            "height": null,
            "justify_content": null,
            "justify_items": null,
            "left": null,
            "margin": null,
            "max_height": null,
            "max_width": null,
            "min_height": null,
            "min_width": null,
            "object_fit": null,
            "object_position": null,
            "order": null,
            "overflow": null,
            "overflow_x": null,
            "overflow_y": null,
            "padding": null,
            "right": null,
            "top": null,
            "visibility": null,
            "width": null
          }
        },
        "19ee8ad44f314c45812210a880173e79": {
          "model_module": "@jupyter-widgets/controls",
          "model_name": "DescriptionStyleModel",
          "model_module_version": "1.5.0",
          "state": {
            "_model_module": "@jupyter-widgets/controls",
            "_model_module_version": "1.5.0",
            "_model_name": "DescriptionStyleModel",
            "_view_count": null,
            "_view_module": "@jupyter-widgets/base",
            "_view_module_version": "1.2.0",
            "_view_name": "StyleView",
            "description_width": ""
          }
        },
        "ae06f6265f5f4df09e09b82aa04542be": {
          "model_module": "@jupyter-widgets/base",
          "model_name": "LayoutModel",
          "model_module_version": "1.2.0",
          "state": {
            "_model_module": "@jupyter-widgets/base",
            "_model_module_version": "1.2.0",
            "_model_name": "LayoutModel",
            "_view_count": null,
            "_view_module": "@jupyter-widgets/base",
            "_view_module_version": "1.2.0",
            "_view_name": "LayoutView",
            "align_content": null,
            "align_items": null,
            "align_self": null,
            "border": null,
            "bottom": null,
            "display": null,
            "flex": null,
            "flex_flow": null,
            "grid_area": null,
            "grid_auto_columns": null,
            "grid_auto_flow": null,
            "grid_auto_rows": null,
            "grid_column": null,
            "grid_gap": null,
            "grid_row": null,
            "grid_template_areas": null,
            "grid_template_columns": null,
            "grid_template_rows": null,
            "height": null,
            "justify_content": null,
            "justify_items": null,
            "left": null,
            "margin": null,
            "max_height": null,
            "max_width": null,
            "min_height": null,
            "min_width": null,
            "object_fit": null,
            "object_position": null,
            "order": null,
            "overflow": null,
            "overflow_x": null,
            "overflow_y": null,
            "padding": null,
            "right": null,
            "top": null,
            "visibility": null,
            "width": null
          }
        },
        "33d0af7a7b1944eb95e4466a1823c611": {
          "model_module": "@jupyter-widgets/controls",
          "model_name": "ProgressStyleModel",
          "model_module_version": "1.5.0",
          "state": {
            "_model_module": "@jupyter-widgets/controls",
            "_model_module_version": "1.5.0",
            "_model_name": "ProgressStyleModel",
            "_view_count": null,
            "_view_module": "@jupyter-widgets/base",
            "_view_module_version": "1.2.0",
            "_view_name": "StyleView",
            "bar_color": null,
            "description_width": ""
          }
        },
        "7242a7a50c1d4373bca0f1544c20ddff": {
          "model_module": "@jupyter-widgets/base",
          "model_name": "LayoutModel",
          "model_module_version": "1.2.0",
          "state": {
            "_model_module": "@jupyter-widgets/base",
            "_model_module_version": "1.2.0",
            "_model_name": "LayoutModel",
            "_view_count": null,
            "_view_module": "@jupyter-widgets/base",
            "_view_module_version": "1.2.0",
            "_view_name": "LayoutView",
            "align_content": null,
            "align_items": null,
            "align_self": null,
            "border": null,
            "bottom": null,
            "display": null,
            "flex": null,
            "flex_flow": null,
            "grid_area": null,
            "grid_auto_columns": null,
            "grid_auto_flow": null,
            "grid_auto_rows": null,
            "grid_column": null,
            "grid_gap": null,
            "grid_row": null,
            "grid_template_areas": null,
            "grid_template_columns": null,
            "grid_template_rows": null,
            "height": null,
            "justify_content": null,
            "justify_items": null,
            "left": null,
            "margin": null,
            "max_height": null,
            "max_width": null,
            "min_height": null,
            "min_width": null,
            "object_fit": null,
            "object_position": null,
            "order": null,
            "overflow": null,
            "overflow_x": null,
            "overflow_y": null,
            "padding": null,
            "right": null,
            "top": null,
            "visibility": null,
            "width": null
          }
        },
        "75d08df565284c399fb7a2f1ff9f26e6": {
          "model_module": "@jupyter-widgets/controls",
          "model_name": "DescriptionStyleModel",
          "model_module_version": "1.5.0",
          "state": {
            "_model_module": "@jupyter-widgets/controls",
            "_model_module_version": "1.5.0",
            "_model_name": "DescriptionStyleModel",
            "_view_count": null,
            "_view_module": "@jupyter-widgets/base",
            "_view_module_version": "1.2.0",
            "_view_name": "StyleView",
            "description_width": ""
          }
        },
        "37f739d0de46472aa5fbf75d7c428f05": {
          "model_module": "@jupyter-widgets/controls",
          "model_name": "HBoxModel",
          "model_module_version": "1.5.0",
          "state": {
            "_dom_classes": [],
            "_model_module": "@jupyter-widgets/controls",
            "_model_module_version": "1.5.0",
            "_model_name": "HBoxModel",
            "_view_count": null,
            "_view_module": "@jupyter-widgets/controls",
            "_view_module_version": "1.5.0",
            "_view_name": "HBoxView",
            "box_style": "",
            "children": [
              "IPY_MODEL_1834e3ea6f294fc3907f6c54ffb5d003",
              "IPY_MODEL_de480e8487f546d6a6c7c1c93b4689cb",
              "IPY_MODEL_3738da0b78644bdb8fe4dc0fe971b263"
            ],
            "layout": "IPY_MODEL_bb9ccc96f831448592c964c18d4af28b"
          }
        },
        "1834e3ea6f294fc3907f6c54ffb5d003": {
          "model_module": "@jupyter-widgets/controls",
          "model_name": "HTMLModel",
          "model_module_version": "1.5.0",
          "state": {
            "_dom_classes": [],
            "_model_module": "@jupyter-widgets/controls",
            "_model_module_version": "1.5.0",
            "_model_name": "HTMLModel",
            "_view_count": null,
            "_view_module": "@jupyter-widgets/controls",
            "_view_module_version": "1.5.0",
            "_view_name": "HTMLView",
            "description": "",
            "description_tooltip": null,
            "layout": "IPY_MODEL_794cff654f3a4e1abc35b978cbe92c7b",
            "placeholder": "​",
            "style": "IPY_MODEL_571c8120899b4f15b83bf74323e5fad5",
            "value": "config.json: 100%"
          }
        },
        "de480e8487f546d6a6c7c1c93b4689cb": {
          "model_module": "@jupyter-widgets/controls",
          "model_name": "FloatProgressModel",
          "model_module_version": "1.5.0",
          "state": {
            "_dom_classes": [],
            "_model_module": "@jupyter-widgets/controls",
            "_model_module_version": "1.5.0",
            "_model_name": "FloatProgressModel",
            "_view_count": null,
            "_view_module": "@jupyter-widgets/controls",
            "_view_module_version": "1.5.0",
            "_view_name": "ProgressView",
            "bar_style": "success",
            "description": "",
            "description_tooltip": null,
            "layout": "IPY_MODEL_ba937b5fdf3143b5a9725bc143dd457f",
            "max": 612,
            "min": 0,
            "orientation": "horizontal",
            "style": "IPY_MODEL_68b4f894911847bfba34e5ecf320051d",
            "value": 612
          }
        },
        "3738da0b78644bdb8fe4dc0fe971b263": {
          "model_module": "@jupyter-widgets/controls",
          "model_name": "HTMLModel",
          "model_module_version": "1.5.0",
          "state": {
            "_dom_classes": [],
            "_model_module": "@jupyter-widgets/controls",
            "_model_module_version": "1.5.0",
            "_model_name": "HTMLModel",
            "_view_count": null,
            "_view_module": "@jupyter-widgets/controls",
            "_view_module_version": "1.5.0",
            "_view_name": "HTMLView",
            "description": "",
            "description_tooltip": null,
            "layout": "IPY_MODEL_17d2db57480e4f8a9c1f5f8c6cd5953c",
            "placeholder": "​",
            "style": "IPY_MODEL_44a9bf45d50144a1b05bf1543c9ffc56",
            "value": " 612/612 [00:00&lt;00:00, 51.1kB/s]"
          }
        },
        "bb9ccc96f831448592c964c18d4af28b": {
          "model_module": "@jupyter-widgets/base",
          "model_name": "LayoutModel",
          "model_module_version": "1.2.0",
          "state": {
            "_model_module": "@jupyter-widgets/base",
            "_model_module_version": "1.2.0",
            "_model_name": "LayoutModel",
            "_view_count": null,
            "_view_module": "@jupyter-widgets/base",
            "_view_module_version": "1.2.0",
            "_view_name": "LayoutView",
            "align_content": null,
            "align_items": null,
            "align_self": null,
            "border": null,
            "bottom": null,
            "display": null,
            "flex": null,
            "flex_flow": null,
            "grid_area": null,
            "grid_auto_columns": null,
            "grid_auto_flow": null,
            "grid_auto_rows": null,
            "grid_column": null,
            "grid_gap": null,
            "grid_row": null,
            "grid_template_areas": null,
            "grid_template_columns": null,
            "grid_template_rows": null,
            "height": null,
            "justify_content": null,
            "justify_items": null,
            "left": null,
            "margin": null,
            "max_height": null,
            "max_width": null,
            "min_height": null,
            "min_width": null,
            "object_fit": null,
            "object_position": null,
            "order": null,
            "overflow": null,
            "overflow_x": null,
            "overflow_y": null,
            "padding": null,
            "right": null,
            "top": null,
            "visibility": null,
            "width": null
          }
        },
        "794cff654f3a4e1abc35b978cbe92c7b": {
          "model_module": "@jupyter-widgets/base",
          "model_name": "LayoutModel",
          "model_module_version": "1.2.0",
          "state": {
            "_model_module": "@jupyter-widgets/base",
            "_model_module_version": "1.2.0",
            "_model_name": "LayoutModel",
            "_view_count": null,
            "_view_module": "@jupyter-widgets/base",
            "_view_module_version": "1.2.0",
            "_view_name": "LayoutView",
            "align_content": null,
            "align_items": null,
            "align_self": null,
            "border": null,
            "bottom": null,
            "display": null,
            "flex": null,
            "flex_flow": null,
            "grid_area": null,
            "grid_auto_columns": null,
            "grid_auto_flow": null,
            "grid_auto_rows": null,
            "grid_column": null,
            "grid_gap": null,
            "grid_row": null,
            "grid_template_areas": null,
            "grid_template_columns": null,
            "grid_template_rows": null,
            "height": null,
            "justify_content": null,
            "justify_items": null,
            "left": null,
            "margin": null,
            "max_height": null,
            "max_width": null,
            "min_height": null,
            "min_width": null,
            "object_fit": null,
            "object_position": null,
            "order": null,
            "overflow": null,
            "overflow_x": null,
            "overflow_y": null,
            "padding": null,
            "right": null,
            "top": null,
            "visibility": null,
            "width": null
          }
        },
        "571c8120899b4f15b83bf74323e5fad5": {
          "model_module": "@jupyter-widgets/controls",
          "model_name": "DescriptionStyleModel",
          "model_module_version": "1.5.0",
          "state": {
            "_model_module": "@jupyter-widgets/controls",
            "_model_module_version": "1.5.0",
            "_model_name": "DescriptionStyleModel",
            "_view_count": null,
            "_view_module": "@jupyter-widgets/base",
            "_view_module_version": "1.2.0",
            "_view_name": "StyleView",
            "description_width": ""
          }
        },
        "ba937b5fdf3143b5a9725bc143dd457f": {
          "model_module": "@jupyter-widgets/base",
          "model_name": "LayoutModel",
          "model_module_version": "1.2.0",
          "state": {
            "_model_module": "@jupyter-widgets/base",
            "_model_module_version": "1.2.0",
            "_model_name": "LayoutModel",
            "_view_count": null,
            "_view_module": "@jupyter-widgets/base",
            "_view_module_version": "1.2.0",
            "_view_name": "LayoutView",
            "align_content": null,
            "align_items": null,
            "align_self": null,
            "border": null,
            "bottom": null,
            "display": null,
            "flex": null,
            "flex_flow": null,
            "grid_area": null,
            "grid_auto_columns": null,
            "grid_auto_flow": null,
            "grid_auto_rows": null,
            "grid_column": null,
            "grid_gap": null,
            "grid_row": null,
            "grid_template_areas": null,
            "grid_template_columns": null,
            "grid_template_rows": null,
            "height": null,
            "justify_content": null,
            "justify_items": null,
            "left": null,
            "margin": null,
            "max_height": null,
            "max_width": null,
            "min_height": null,
            "min_width": null,
            "object_fit": null,
            "object_position": null,
            "order": null,
            "overflow": null,
            "overflow_x": null,
            "overflow_y": null,
            "padding": null,
            "right": null,
            "top": null,
            "visibility": null,
            "width": null
          }
        },
        "68b4f894911847bfba34e5ecf320051d": {
          "model_module": "@jupyter-widgets/controls",
          "model_name": "ProgressStyleModel",
          "model_module_version": "1.5.0",
          "state": {
            "_model_module": "@jupyter-widgets/controls",
            "_model_module_version": "1.5.0",
            "_model_name": "ProgressStyleModel",
            "_view_count": null,
            "_view_module": "@jupyter-widgets/base",
            "_view_module_version": "1.2.0",
            "_view_name": "StyleView",
            "bar_color": null,
            "description_width": ""
          }
        },
        "17d2db57480e4f8a9c1f5f8c6cd5953c": {
          "model_module": "@jupyter-widgets/base",
          "model_name": "LayoutModel",
          "model_module_version": "1.2.0",
          "state": {
            "_model_module": "@jupyter-widgets/base",
            "_model_module_version": "1.2.0",
            "_model_name": "LayoutModel",
            "_view_count": null,
            "_view_module": "@jupyter-widgets/base",
            "_view_module_version": "1.2.0",
            "_view_name": "LayoutView",
            "align_content": null,
            "align_items": null,
            "align_self": null,
            "border": null,
            "bottom": null,
            "display": null,
            "flex": null,
            "flex_flow": null,
            "grid_area": null,
            "grid_auto_columns": null,
            "grid_auto_flow": null,
            "grid_auto_rows": null,
            "grid_column": null,
            "grid_gap": null,
            "grid_row": null,
            "grid_template_areas": null,
            "grid_template_columns": null,
            "grid_template_rows": null,
            "height": null,
            "justify_content": null,
            "justify_items": null,
            "left": null,
            "margin": null,
            "max_height": null,
            "max_width": null,
            "min_height": null,
            "min_width": null,
            "object_fit": null,
            "object_position": null,
            "order": null,
            "overflow": null,
            "overflow_x": null,
            "overflow_y": null,
            "padding": null,
            "right": null,
            "top": null,
            "visibility": null,
            "width": null
          }
        },
        "44a9bf45d50144a1b05bf1543c9ffc56": {
          "model_module": "@jupyter-widgets/controls",
          "model_name": "DescriptionStyleModel",
          "model_module_version": "1.5.0",
          "state": {
            "_model_module": "@jupyter-widgets/controls",
            "_model_module_version": "1.5.0",
            "_model_name": "DescriptionStyleModel",
            "_view_count": null,
            "_view_module": "@jupyter-widgets/base",
            "_view_module_version": "1.2.0",
            "_view_name": "StyleView",
            "description_width": ""
          }
        },
        "5ec6c3ddb15a4292b01f86619b98a637": {
          "model_module": "@jupyter-widgets/controls",
          "model_name": "HBoxModel",
          "model_module_version": "1.5.0",
          "state": {
            "_dom_classes": [],
            "_model_module": "@jupyter-widgets/controls",
            "_model_module_version": "1.5.0",
            "_model_name": "HBoxModel",
            "_view_count": null,
            "_view_module": "@jupyter-widgets/controls",
            "_view_module_version": "1.5.0",
            "_view_name": "HBoxView",
            "box_style": "",
            "children": [
              "IPY_MODEL_0eb5a6635fc248b38a876c6f117d1a78",
              "IPY_MODEL_5675ed361ef24826b24013d34ce77863",
              "IPY_MODEL_7f4543f71d704873ba71fc40366617bf"
            ],
            "layout": "IPY_MODEL_ac10b2f2a85e49a290237e88c5e9a311"
          }
        },
        "0eb5a6635fc248b38a876c6f117d1a78": {
          "model_module": "@jupyter-widgets/controls",
          "model_name": "HTMLModel",
          "model_module_version": "1.5.0",
          "state": {
            "_dom_classes": [],
            "_model_module": "@jupyter-widgets/controls",
            "_model_module_version": "1.5.0",
            "_model_name": "HTMLModel",
            "_view_count": null,
            "_view_module": "@jupyter-widgets/controls",
            "_view_module_version": "1.5.0",
            "_view_name": "HTMLView",
            "description": "",
            "description_tooltip": null,
            "layout": "IPY_MODEL_9e799496ef354db697a2b6f8d9f28871",
            "placeholder": "​",
            "style": "IPY_MODEL_6e1a224397b34e4db41ac4d0f59d8f11",
            "value": "model.safetensors: 100%"
          }
        },
        "5675ed361ef24826b24013d34ce77863": {
          "model_module": "@jupyter-widgets/controls",
          "model_name": "FloatProgressModel",
          "model_module_version": "1.5.0",
          "state": {
            "_dom_classes": [],
            "_model_module": "@jupyter-widgets/controls",
            "_model_module_version": "1.5.0",
            "_model_name": "FloatProgressModel",
            "_view_count": null,
            "_view_module": "@jupyter-widgets/controls",
            "_view_module_version": "1.5.0",
            "_view_name": "ProgressView",
            "bar_style": "success",
            "description": "",
            "description_tooltip": null,
            "layout": "IPY_MODEL_19605e25d84f419bb8728fafd358cffd",
            "max": 90868376,
            "min": 0,
            "orientation": "horizontal",
            "style": "IPY_MODEL_7e50d4373bab4ed18604b9f7351251c4",
            "value": 90868376
          }
        },
        "7f4543f71d704873ba71fc40366617bf": {
          "model_module": "@jupyter-widgets/controls",
          "model_name": "HTMLModel",
          "model_module_version": "1.5.0",
          "state": {
            "_dom_classes": [],
            "_model_module": "@jupyter-widgets/controls",
            "_model_module_version": "1.5.0",
            "_model_name": "HTMLModel",
            "_view_count": null,
            "_view_module": "@jupyter-widgets/controls",
            "_view_module_version": "1.5.0",
            "_view_name": "HTMLView",
            "description": "",
            "description_tooltip": null,
            "layout": "IPY_MODEL_16cc6b5623894828a19f03bcdba6d8c5",
            "placeholder": "​",
            "style": "IPY_MODEL_8688ddea0c6d434e9d9161ab6fc1aee0",
            "value": " 90.9M/90.9M [00:00&lt;00:00, 206MB/s]"
          }
        },
        "ac10b2f2a85e49a290237e88c5e9a311": {
          "model_module": "@jupyter-widgets/base",
          "model_name": "LayoutModel",
          "model_module_version": "1.2.0",
          "state": {
            "_model_module": "@jupyter-widgets/base",
            "_model_module_version": "1.2.0",
            "_model_name": "LayoutModel",
            "_view_count": null,
            "_view_module": "@jupyter-widgets/base",
            "_view_module_version": "1.2.0",
            "_view_name": "LayoutView",
            "align_content": null,
            "align_items": null,
            "align_self": null,
            "border": null,
            "bottom": null,
            "display": null,
            "flex": null,
            "flex_flow": null,
            "grid_area": null,
            "grid_auto_columns": null,
            "grid_auto_flow": null,
            "grid_auto_rows": null,
            "grid_column": null,
            "grid_gap": null,
            "grid_row": null,
            "grid_template_areas": null,
            "grid_template_columns": null,
            "grid_template_rows": null,
            "height": null,
            "justify_content": null,
            "justify_items": null,
            "left": null,
            "margin": null,
            "max_height": null,
            "max_width": null,
            "min_height": null,
            "min_width": null,
            "object_fit": null,
            "object_position": null,
            "order": null,
            "overflow": null,
            "overflow_x": null,
            "overflow_y": null,
            "padding": null,
            "right": null,
            "top": null,
            "visibility": null,
            "width": null
          }
        },
        "9e799496ef354db697a2b6f8d9f28871": {
          "model_module": "@jupyter-widgets/base",
          "model_name": "LayoutModel",
          "model_module_version": "1.2.0",
          "state": {
            "_model_module": "@jupyter-widgets/base",
            "_model_module_version": "1.2.0",
            "_model_name": "LayoutModel",
            "_view_count": null,
            "_view_module": "@jupyter-widgets/base",
            "_view_module_version": "1.2.0",
            "_view_name": "LayoutView",
            "align_content": null,
            "align_items": null,
            "align_self": null,
            "border": null,
            "bottom": null,
            "display": null,
            "flex": null,
            "flex_flow": null,
            "grid_area": null,
            "grid_auto_columns": null,
            "grid_auto_flow": null,
            "grid_auto_rows": null,
            "grid_column": null,
            "grid_gap": null,
            "grid_row": null,
            "grid_template_areas": null,
            "grid_template_columns": null,
            "grid_template_rows": null,
            "height": null,
            "justify_content": null,
            "justify_items": null,
            "left": null,
            "margin": null,
            "max_height": null,
            "max_width": null,
            "min_height": null,
            "min_width": null,
            "object_fit": null,
            "object_position": null,
            "order": null,
            "overflow": null,
            "overflow_x": null,
            "overflow_y": null,
            "padding": null,
            "right": null,
            "top": null,
            "visibility": null,
            "width": null
          }
        },
        "6e1a224397b34e4db41ac4d0f59d8f11": {
          "model_module": "@jupyter-widgets/controls",
          "model_name": "DescriptionStyleModel",
          "model_module_version": "1.5.0",
          "state": {
            "_model_module": "@jupyter-widgets/controls",
            "_model_module_version": "1.5.0",
            "_model_name": "DescriptionStyleModel",
            "_view_count": null,
            "_view_module": "@jupyter-widgets/base",
            "_view_module_version": "1.2.0",
            "_view_name": "StyleView",
            "description_width": ""
          }
        },
        "19605e25d84f419bb8728fafd358cffd": {
          "model_module": "@jupyter-widgets/base",
          "model_name": "LayoutModel",
          "model_module_version": "1.2.0",
          "state": {
            "_model_module": "@jupyter-widgets/base",
            "_model_module_version": "1.2.0",
            "_model_name": "LayoutModel",
            "_view_count": null,
            "_view_module": "@jupyter-widgets/base",
            "_view_module_version": "1.2.0",
            "_view_name": "LayoutView",
            "align_content": null,
            "align_items": null,
            "align_self": null,
            "border": null,
            "bottom": null,
            "display": null,
            "flex": null,
            "flex_flow": null,
            "grid_area": null,
            "grid_auto_columns": null,
            "grid_auto_flow": null,
            "grid_auto_rows": null,
            "grid_column": null,
            "grid_gap": null,
            "grid_row": null,
            "grid_template_areas": null,
            "grid_template_columns": null,
            "grid_template_rows": null,
            "height": null,
            "justify_content": null,
            "justify_items": null,
            "left": null,
            "margin": null,
            "max_height": null,
            "max_width": null,
            "min_height": null,
            "min_width": null,
            "object_fit": null,
            "object_position": null,
            "order": null,
            "overflow": null,
            "overflow_x": null,
            "overflow_y": null,
            "padding": null,
            "right": null,
            "top": null,
            "visibility": null,
            "width": null
          }
        },
        "7e50d4373bab4ed18604b9f7351251c4": {
          "model_module": "@jupyter-widgets/controls",
          "model_name": "ProgressStyleModel",
          "model_module_version": "1.5.0",
          "state": {
            "_model_module": "@jupyter-widgets/controls",
            "_model_module_version": "1.5.0",
            "_model_name": "ProgressStyleModel",
            "_view_count": null,
            "_view_module": "@jupyter-widgets/base",
            "_view_module_version": "1.2.0",
            "_view_name": "StyleView",
            "bar_color": null,
            "description_width": ""
          }
        },
        "16cc6b5623894828a19f03bcdba6d8c5": {
          "model_module": "@jupyter-widgets/base",
          "model_name": "LayoutModel",
          "model_module_version": "1.2.0",
          "state": {
            "_model_module": "@jupyter-widgets/base",
            "_model_module_version": "1.2.0",
            "_model_name": "LayoutModel",
            "_view_count": null,
            "_view_module": "@jupyter-widgets/base",
            "_view_module_version": "1.2.0",
            "_view_name": "LayoutView",
            "align_content": null,
            "align_items": null,
            "align_self": null,
            "border": null,
            "bottom": null,
            "display": null,
            "flex": null,
            "flex_flow": null,
            "grid_area": null,
            "grid_auto_columns": null,
            "grid_auto_flow": null,
            "grid_auto_rows": null,
            "grid_column": null,
            "grid_gap": null,
            "grid_row": null,
            "grid_template_areas": null,
            "grid_template_columns": null,
            "grid_template_rows": null,
            "height": null,
            "justify_content": null,
            "justify_items": null,
            "left": null,
            "margin": null,
            "max_height": null,
            "max_width": null,
            "min_height": null,
            "min_width": null,
            "object_fit": null,
            "object_position": null,
            "order": null,
            "overflow": null,
            "overflow_x": null,
            "overflow_y": null,
            "padding": null,
            "right": null,
            "top": null,
            "visibility": null,
            "width": null
          }
        },
        "8688ddea0c6d434e9d9161ab6fc1aee0": {
          "model_module": "@jupyter-widgets/controls",
          "model_name": "DescriptionStyleModel",
          "model_module_version": "1.5.0",
          "state": {
            "_model_module": "@jupyter-widgets/controls",
            "_model_module_version": "1.5.0",
            "_model_name": "DescriptionStyleModel",
            "_view_count": null,
            "_view_module": "@jupyter-widgets/base",
            "_view_module_version": "1.2.0",
            "_view_name": "StyleView",
            "description_width": ""
          }
        },
        "ea4f25efcae947499f1642ae8c4de043": {
          "model_module": "@jupyter-widgets/controls",
          "model_name": "HBoxModel",
          "model_module_version": "1.5.0",
          "state": {
            "_dom_classes": [],
            "_model_module": "@jupyter-widgets/controls",
            "_model_module_version": "1.5.0",
            "_model_name": "HBoxModel",
            "_view_count": null,
            "_view_module": "@jupyter-widgets/controls",
            "_view_module_version": "1.5.0",
            "_view_name": "HBoxView",
            "box_style": "",
            "children": [
              "IPY_MODEL_61e0370514364ff394ef11c9e1995119",
              "IPY_MODEL_c85b1dde1de248e8a5d5f149b7076cd9",
              "IPY_MODEL_b3159af7307b458c8b505132e92869de"
            ],
            "layout": "IPY_MODEL_e5e8c65d77064e40834cac2cdde305a9"
          }
        },
        "61e0370514364ff394ef11c9e1995119": {
          "model_module": "@jupyter-widgets/controls",
          "model_name": "HTMLModel",
          "model_module_version": "1.5.0",
          "state": {
            "_dom_classes": [],
            "_model_module": "@jupyter-widgets/controls",
            "_model_module_version": "1.5.0",
            "_model_name": "HTMLModel",
            "_view_count": null,
            "_view_module": "@jupyter-widgets/controls",
            "_view_module_version": "1.5.0",
            "_view_name": "HTMLView",
            "description": "",
            "description_tooltip": null,
            "layout": "IPY_MODEL_525b4b67b2be4feba5a039725d1611fd",
            "placeholder": "​",
            "style": "IPY_MODEL_af285d9fa1b6431b94e992876ebbdf65",
            "value": "tokenizer_config.json: 100%"
          }
        },
        "c85b1dde1de248e8a5d5f149b7076cd9": {
          "model_module": "@jupyter-widgets/controls",
          "model_name": "FloatProgressModel",
          "model_module_version": "1.5.0",
          "state": {
            "_dom_classes": [],
            "_model_module": "@jupyter-widgets/controls",
            "_model_module_version": "1.5.0",
            "_model_name": "FloatProgressModel",
            "_view_count": null,
            "_view_module": "@jupyter-widgets/controls",
            "_view_module_version": "1.5.0",
            "_view_name": "ProgressView",
            "bar_style": "success",
            "description": "",
            "description_tooltip": null,
            "layout": "IPY_MODEL_6747dfb46c6f47d49b308d1399c27612",
            "max": 350,
            "min": 0,
            "orientation": "horizontal",
            "style": "IPY_MODEL_f4abf632178a4b73842a79f7175a1466",
            "value": 350
          }
        },
        "b3159af7307b458c8b505132e92869de": {
          "model_module": "@jupyter-widgets/controls",
          "model_name": "HTMLModel",
          "model_module_version": "1.5.0",
          "state": {
            "_dom_classes": [],
            "_model_module": "@jupyter-widgets/controls",
            "_model_module_version": "1.5.0",
            "_model_name": "HTMLModel",
            "_view_count": null,
            "_view_module": "@jupyter-widgets/controls",
            "_view_module_version": "1.5.0",
            "_view_name": "HTMLView",
            "description": "",
            "description_tooltip": null,
            "layout": "IPY_MODEL_c9b64c6c4355442488eb8cee7cf82e3a",
            "placeholder": "​",
            "style": "IPY_MODEL_320303fd402f4cbcbeb4b105ec90e108",
            "value": " 350/350 [00:00&lt;00:00, 21.5kB/s]"
          }
        },
        "e5e8c65d77064e40834cac2cdde305a9": {
          "model_module": "@jupyter-widgets/base",
          "model_name": "LayoutModel",
          "model_module_version": "1.2.0",
          "state": {
            "_model_module": "@jupyter-widgets/base",
            "_model_module_version": "1.2.0",
            "_model_name": "LayoutModel",
            "_view_count": null,
            "_view_module": "@jupyter-widgets/base",
            "_view_module_version": "1.2.0",
            "_view_name": "LayoutView",
            "align_content": null,
            "align_items": null,
            "align_self": null,
            "border": null,
            "bottom": null,
            "display": null,
            "flex": null,
            "flex_flow": null,
            "grid_area": null,
            "grid_auto_columns": null,
            "grid_auto_flow": null,
            "grid_auto_rows": null,
            "grid_column": null,
            "grid_gap": null,
            "grid_row": null,
            "grid_template_areas": null,
            "grid_template_columns": null,
            "grid_template_rows": null,
            "height": null,
            "justify_content": null,
            "justify_items": null,
            "left": null,
            "margin": null,
            "max_height": null,
            "max_width": null,
            "min_height": null,
            "min_width": null,
            "object_fit": null,
            "object_position": null,
            "order": null,
            "overflow": null,
            "overflow_x": null,
            "overflow_y": null,
            "padding": null,
            "right": null,
            "top": null,
            "visibility": null,
            "width": null
          }
        },
        "525b4b67b2be4feba5a039725d1611fd": {
          "model_module": "@jupyter-widgets/base",
          "model_name": "LayoutModel",
          "model_module_version": "1.2.0",
          "state": {
            "_model_module": "@jupyter-widgets/base",
            "_model_module_version": "1.2.0",
            "_model_name": "LayoutModel",
            "_view_count": null,
            "_view_module": "@jupyter-widgets/base",
            "_view_module_version": "1.2.0",
            "_view_name": "LayoutView",
            "align_content": null,
            "align_items": null,
            "align_self": null,
            "border": null,
            "bottom": null,
            "display": null,
            "flex": null,
            "flex_flow": null,
            "grid_area": null,
            "grid_auto_columns": null,
            "grid_auto_flow": null,
            "grid_auto_rows": null,
            "grid_column": null,
            "grid_gap": null,
            "grid_row": null,
            "grid_template_areas": null,
            "grid_template_columns": null,
            "grid_template_rows": null,
            "height": null,
            "justify_content": null,
            "justify_items": null,
            "left": null,
            "margin": null,
            "max_height": null,
            "max_width": null,
            "min_height": null,
            "min_width": null,
            "object_fit": null,
            "object_position": null,
            "order": null,
            "overflow": null,
            "overflow_x": null,
            "overflow_y": null,
            "padding": null,
            "right": null,
            "top": null,
            "visibility": null,
            "width": null
          }
        },
        "af285d9fa1b6431b94e992876ebbdf65": {
          "model_module": "@jupyter-widgets/controls",
          "model_name": "DescriptionStyleModel",
          "model_module_version": "1.5.0",
          "state": {
            "_model_module": "@jupyter-widgets/controls",
            "_model_module_version": "1.5.0",
            "_model_name": "DescriptionStyleModel",
            "_view_count": null,
            "_view_module": "@jupyter-widgets/base",
            "_view_module_version": "1.2.0",
            "_view_name": "StyleView",
            "description_width": ""
          }
        },
        "6747dfb46c6f47d49b308d1399c27612": {
          "model_module": "@jupyter-widgets/base",
          "model_name": "LayoutModel",
          "model_module_version": "1.2.0",
          "state": {
            "_model_module": "@jupyter-widgets/base",
            "_model_module_version": "1.2.0",
            "_model_name": "LayoutModel",
            "_view_count": null,
            "_view_module": "@jupyter-widgets/base",
            "_view_module_version": "1.2.0",
            "_view_name": "LayoutView",
            "align_content": null,
            "align_items": null,
            "align_self": null,
            "border": null,
            "bottom": null,
            "display": null,
            "flex": null,
            "flex_flow": null,
            "grid_area": null,
            "grid_auto_columns": null,
            "grid_auto_flow": null,
            "grid_auto_rows": null,
            "grid_column": null,
            "grid_gap": null,
            "grid_row": null,
            "grid_template_areas": null,
            "grid_template_columns": null,
            "grid_template_rows": null,
            "height": null,
            "justify_content": null,
            "justify_items": null,
            "left": null,
            "margin": null,
            "max_height": null,
            "max_width": null,
            "min_height": null,
            "min_width": null,
            "object_fit": null,
            "object_position": null,
            "order": null,
            "overflow": null,
            "overflow_x": null,
            "overflow_y": null,
            "padding": null,
            "right": null,
            "top": null,
            "visibility": null,
            "width": null
          }
        },
        "f4abf632178a4b73842a79f7175a1466": {
          "model_module": "@jupyter-widgets/controls",
          "model_name": "ProgressStyleModel",
          "model_module_version": "1.5.0",
          "state": {
            "_model_module": "@jupyter-widgets/controls",
            "_model_module_version": "1.5.0",
            "_model_name": "ProgressStyleModel",
            "_view_count": null,
            "_view_module": "@jupyter-widgets/base",
            "_view_module_version": "1.2.0",
            "_view_name": "StyleView",
            "bar_color": null,
            "description_width": ""
          }
        },
        "c9b64c6c4355442488eb8cee7cf82e3a": {
          "model_module": "@jupyter-widgets/base",
          "model_name": "LayoutModel",
          "model_module_version": "1.2.0",
          "state": {
            "_model_module": "@jupyter-widgets/base",
            "_model_module_version": "1.2.0",
            "_model_name": "LayoutModel",
            "_view_count": null,
            "_view_module": "@jupyter-widgets/base",
            "_view_module_version": "1.2.0",
            "_view_name": "LayoutView",
            "align_content": null,
            "align_items": null,
            "align_self": null,
            "border": null,
            "bottom": null,
            "display": null,
            "flex": null,
            "flex_flow": null,
            "grid_area": null,
            "grid_auto_columns": null,
            "grid_auto_flow": null,
            "grid_auto_rows": null,
            "grid_column": null,
            "grid_gap": null,
            "grid_row": null,
            "grid_template_areas": null,
            "grid_template_columns": null,
            "grid_template_rows": null,
            "height": null,
            "justify_content": null,
            "justify_items": null,
            "left": null,
            "margin": null,
            "max_height": null,
            "max_width": null,
            "min_height": null,
            "min_width": null,
            "object_fit": null,
            "object_position": null,
            "order": null,
            "overflow": null,
            "overflow_x": null,
            "overflow_y": null,
            "padding": null,
            "right": null,
            "top": null,
            "visibility": null,
            "width": null
          }
        },
        "320303fd402f4cbcbeb4b105ec90e108": {
          "model_module": "@jupyter-widgets/controls",
          "model_name": "DescriptionStyleModel",
          "model_module_version": "1.5.0",
          "state": {
            "_model_module": "@jupyter-widgets/controls",
            "_model_module_version": "1.5.0",
            "_model_name": "DescriptionStyleModel",
            "_view_count": null,
            "_view_module": "@jupyter-widgets/base",
            "_view_module_version": "1.2.0",
            "_view_name": "StyleView",
            "description_width": ""
          }
        },
        "62a3c89a00a04d058101d8c3c793fc43": {
          "model_module": "@jupyter-widgets/controls",
          "model_name": "HBoxModel",
          "model_module_version": "1.5.0",
          "state": {
            "_dom_classes": [],
            "_model_module": "@jupyter-widgets/controls",
            "_model_module_version": "1.5.0",
            "_model_name": "HBoxModel",
            "_view_count": null,
            "_view_module": "@jupyter-widgets/controls",
            "_view_module_version": "1.5.0",
            "_view_name": "HBoxView",
            "box_style": "",
            "children": [
              "IPY_MODEL_363cbbc87aa84cf59d2b767ab3852cb7",
              "IPY_MODEL_c1688082a03140a79628176568e9901c",
              "IPY_MODEL_38143580cc62436da337e025ac70906b"
            ],
            "layout": "IPY_MODEL_766f5c3d7f7d49209fe2da3f1d2b3b04"
          }
        },
        "363cbbc87aa84cf59d2b767ab3852cb7": {
          "model_module": "@jupyter-widgets/controls",
          "model_name": "HTMLModel",
          "model_module_version": "1.5.0",
          "state": {
            "_dom_classes": [],
            "_model_module": "@jupyter-widgets/controls",
            "_model_module_version": "1.5.0",
            "_model_name": "HTMLModel",
            "_view_count": null,
            "_view_module": "@jupyter-widgets/controls",
            "_view_module_version": "1.5.0",
            "_view_name": "HTMLView",
            "description": "",
            "description_tooltip": null,
            "layout": "IPY_MODEL_e19d9c6c5bd047b38a19919929e9d730",
            "placeholder": "​",
            "style": "IPY_MODEL_a841df91e1e74944b4deebf044d46b96",
            "value": "vocab.txt: 100%"
          }
        },
        "c1688082a03140a79628176568e9901c": {
          "model_module": "@jupyter-widgets/controls",
          "model_name": "FloatProgressModel",
          "model_module_version": "1.5.0",
          "state": {
            "_dom_classes": [],
            "_model_module": "@jupyter-widgets/controls",
            "_model_module_version": "1.5.0",
            "_model_name": "FloatProgressModel",
            "_view_count": null,
            "_view_module": "@jupyter-widgets/controls",
            "_view_module_version": "1.5.0",
            "_view_name": "ProgressView",
            "bar_style": "success",
            "description": "",
            "description_tooltip": null,
            "layout": "IPY_MODEL_f517624797e343b891aded945270ec84",
            "max": 231508,
            "min": 0,
            "orientation": "horizontal",
            "style": "IPY_MODEL_1b06fd257d3d494ba4b69798a31929d6",
            "value": 231508
          }
        },
        "38143580cc62436da337e025ac70906b": {
          "model_module": "@jupyter-widgets/controls",
          "model_name": "HTMLModel",
          "model_module_version": "1.5.0",
          "state": {
            "_dom_classes": [],
            "_model_module": "@jupyter-widgets/controls",
            "_model_module_version": "1.5.0",
            "_model_name": "HTMLModel",
            "_view_count": null,
            "_view_module": "@jupyter-widgets/controls",
            "_view_module_version": "1.5.0",
            "_view_name": "HTMLView",
            "description": "",
            "description_tooltip": null,
            "layout": "IPY_MODEL_8671be8bc51944bb9609af08c92a160a",
            "placeholder": "​",
            "style": "IPY_MODEL_6b7220e2570a467a935fb41b8178d6b9",
            "value": " 232k/232k [00:00&lt;00:00, 5.66MB/s]"
          }
        },
        "766f5c3d7f7d49209fe2da3f1d2b3b04": {
          "model_module": "@jupyter-widgets/base",
          "model_name": "LayoutModel",
          "model_module_version": "1.2.0",
          "state": {
            "_model_module": "@jupyter-widgets/base",
            "_model_module_version": "1.2.0",
            "_model_name": "LayoutModel",
            "_view_count": null,
            "_view_module": "@jupyter-widgets/base",
            "_view_module_version": "1.2.0",
            "_view_name": "LayoutView",
            "align_content": null,
            "align_items": null,
            "align_self": null,
            "border": null,
            "bottom": null,
            "display": null,
            "flex": null,
            "flex_flow": null,
            "grid_area": null,
            "grid_auto_columns": null,
            "grid_auto_flow": null,
            "grid_auto_rows": null,
            "grid_column": null,
            "grid_gap": null,
            "grid_row": null,
            "grid_template_areas": null,
            "grid_template_columns": null,
            "grid_template_rows": null,
            "height": null,
            "justify_content": null,
            "justify_items": null,
            "left": null,
            "margin": null,
            "max_height": null,
            "max_width": null,
            "min_height": null,
            "min_width": null,
            "object_fit": null,
            "object_position": null,
            "order": null,
            "overflow": null,
            "overflow_x": null,
            "overflow_y": null,
            "padding": null,
            "right": null,
            "top": null,
            "visibility": null,
            "width": null
          }
        },
        "e19d9c6c5bd047b38a19919929e9d730": {
          "model_module": "@jupyter-widgets/base",
          "model_name": "LayoutModel",
          "model_module_version": "1.2.0",
          "state": {
            "_model_module": "@jupyter-widgets/base",
            "_model_module_version": "1.2.0",
            "_model_name": "LayoutModel",
            "_view_count": null,
            "_view_module": "@jupyter-widgets/base",
            "_view_module_version": "1.2.0",
            "_view_name": "LayoutView",
            "align_content": null,
            "align_items": null,
            "align_self": null,
            "border": null,
            "bottom": null,
            "display": null,
            "flex": null,
            "flex_flow": null,
            "grid_area": null,
            "grid_auto_columns": null,
            "grid_auto_flow": null,
            "grid_auto_rows": null,
            "grid_column": null,
            "grid_gap": null,
            "grid_row": null,
            "grid_template_areas": null,
            "grid_template_columns": null,
            "grid_template_rows": null,
            "height": null,
            "justify_content": null,
            "justify_items": null,
            "left": null,
            "margin": null,
            "max_height": null,
            "max_width": null,
            "min_height": null,
            "min_width": null,
            "object_fit": null,
            "object_position": null,
            "order": null,
            "overflow": null,
            "overflow_x": null,
            "overflow_y": null,
            "padding": null,
            "right": null,
            "top": null,
            "visibility": null,
            "width": null
          }
        },
        "a841df91e1e74944b4deebf044d46b96": {
          "model_module": "@jupyter-widgets/controls",
          "model_name": "DescriptionStyleModel",
          "model_module_version": "1.5.0",
          "state": {
            "_model_module": "@jupyter-widgets/controls",
            "_model_module_version": "1.5.0",
            "_model_name": "DescriptionStyleModel",
            "_view_count": null,
            "_view_module": "@jupyter-widgets/base",
            "_view_module_version": "1.2.0",
            "_view_name": "StyleView",
            "description_width": ""
          }
        },
        "f517624797e343b891aded945270ec84": {
          "model_module": "@jupyter-widgets/base",
          "model_name": "LayoutModel",
          "model_module_version": "1.2.0",
          "state": {
            "_model_module": "@jupyter-widgets/base",
            "_model_module_version": "1.2.0",
            "_model_name": "LayoutModel",
            "_view_count": null,
            "_view_module": "@jupyter-widgets/base",
            "_view_module_version": "1.2.0",
            "_view_name": "LayoutView",
            "align_content": null,
            "align_items": null,
            "align_self": null,
            "border": null,
            "bottom": null,
            "display": null,
            "flex": null,
            "flex_flow": null,
            "grid_area": null,
            "grid_auto_columns": null,
            "grid_auto_flow": null,
            "grid_auto_rows": null,
            "grid_column": null,
            "grid_gap": null,
            "grid_row": null,
            "grid_template_areas": null,
            "grid_template_columns": null,
            "grid_template_rows": null,
            "height": null,
            "justify_content": null,
            "justify_items": null,
            "left": null,
            "margin": null,
            "max_height": null,
            "max_width": null,
            "min_height": null,
            "min_width": null,
            "object_fit": null,
            "object_position": null,
            "order": null,
            "overflow": null,
            "overflow_x": null,
            "overflow_y": null,
            "padding": null,
            "right": null,
            "top": null,
            "visibility": null,
            "width": null
          }
        },
        "1b06fd257d3d494ba4b69798a31929d6": {
          "model_module": "@jupyter-widgets/controls",
          "model_name": "ProgressStyleModel",
          "model_module_version": "1.5.0",
          "state": {
            "_model_module": "@jupyter-widgets/controls",
            "_model_module_version": "1.5.0",
            "_model_name": "ProgressStyleModel",
            "_view_count": null,
            "_view_module": "@jupyter-widgets/base",
            "_view_module_version": "1.2.0",
            "_view_name": "StyleView",
            "bar_color": null,
            "description_width": ""
          }
        },
        "8671be8bc51944bb9609af08c92a160a": {
          "model_module": "@jupyter-widgets/base",
          "model_name": "LayoutModel",
          "model_module_version": "1.2.0",
          "state": {
            "_model_module": "@jupyter-widgets/base",
            "_model_module_version": "1.2.0",
            "_model_name": "LayoutModel",
            "_view_count": null,
            "_view_module": "@jupyter-widgets/base",
            "_view_module_version": "1.2.0",
            "_view_name": "LayoutView",
            "align_content": null,
            "align_items": null,
            "align_self": null,
            "border": null,
            "bottom": null,
            "display": null,
            "flex": null,
            "flex_flow": null,
            "grid_area": null,
            "grid_auto_columns": null,
            "grid_auto_flow": null,
            "grid_auto_rows": null,
            "grid_column": null,
            "grid_gap": null,
            "grid_row": null,
            "grid_template_areas": null,
            "grid_template_columns": null,
            "grid_template_rows": null,
            "height": null,
            "justify_content": null,
            "justify_items": null,
            "left": null,
            "margin": null,
            "max_height": null,
            "max_width": null,
            "min_height": null,
            "min_width": null,
            "object_fit": null,
            "object_position": null,
            "order": null,
            "overflow": null,
            "overflow_x": null,
            "overflow_y": null,
            "padding": null,
            "right": null,
            "top": null,
            "visibility": null,
            "width": null
          }
        },
        "6b7220e2570a467a935fb41b8178d6b9": {
          "model_module": "@jupyter-widgets/controls",
          "model_name": "DescriptionStyleModel",
          "model_module_version": "1.5.0",
          "state": {
            "_model_module": "@jupyter-widgets/controls",
            "_model_module_version": "1.5.0",
            "_model_name": "DescriptionStyleModel",
            "_view_count": null,
            "_view_module": "@jupyter-widgets/base",
            "_view_module_version": "1.2.0",
            "_view_name": "StyleView",
            "description_width": ""
          }
        },
        "375634db6a1b4bc89a3f4b567389fb8e": {
          "model_module": "@jupyter-widgets/controls",
          "model_name": "HBoxModel",
          "model_module_version": "1.5.0",
          "state": {
            "_dom_classes": [],
            "_model_module": "@jupyter-widgets/controls",
            "_model_module_version": "1.5.0",
            "_model_name": "HBoxModel",
            "_view_count": null,
            "_view_module": "@jupyter-widgets/controls",
            "_view_module_version": "1.5.0",
            "_view_name": "HBoxView",
            "box_style": "",
            "children": [
              "IPY_MODEL_56aef6536ff941418cf9519051df5b90",
              "IPY_MODEL_f3fd2de9cc69464cb300a1ee84023f8d",
              "IPY_MODEL_a33c8bd066924b198f7d2995e9efb4c2"
            ],
            "layout": "IPY_MODEL_3d195367ca5a4a08a63688c746bc6336"
          }
        },
        "56aef6536ff941418cf9519051df5b90": {
          "model_module": "@jupyter-widgets/controls",
          "model_name": "HTMLModel",
          "model_module_version": "1.5.0",
          "state": {
            "_dom_classes": [],
            "_model_module": "@jupyter-widgets/controls",
            "_model_module_version": "1.5.0",
            "_model_name": "HTMLModel",
            "_view_count": null,
            "_view_module": "@jupyter-widgets/controls",
            "_view_module_version": "1.5.0",
            "_view_name": "HTMLView",
            "description": "",
            "description_tooltip": null,
            "layout": "IPY_MODEL_3982585f7ca94c35b5a0bb5cb45187c2",
            "placeholder": "​",
            "style": "IPY_MODEL_65cc31fda1804159aa4d11ac4012f79a",
            "value": "tokenizer.json: 100%"
          }
        },
        "f3fd2de9cc69464cb300a1ee84023f8d": {
          "model_module": "@jupyter-widgets/controls",
          "model_name": "FloatProgressModel",
          "model_module_version": "1.5.0",
          "state": {
            "_dom_classes": [],
            "_model_module": "@jupyter-widgets/controls",
            "_model_module_version": "1.5.0",
            "_model_name": "FloatProgressModel",
            "_view_count": null,
            "_view_module": "@jupyter-widgets/controls",
            "_view_module_version": "1.5.0",
            "_view_name": "ProgressView",
            "bar_style": "success",
            "description": "",
            "description_tooltip": null,
            "layout": "IPY_MODEL_d831de161d6e447d8f274f58640044ac",
            "max": 466247,
            "min": 0,
            "orientation": "horizontal",
            "style": "IPY_MODEL_f04c200913564b8c92066ea92043f21a",
            "value": 466247
          }
        },
        "a33c8bd066924b198f7d2995e9efb4c2": {
          "model_module": "@jupyter-widgets/controls",
          "model_name": "HTMLModel",
          "model_module_version": "1.5.0",
          "state": {
            "_dom_classes": [],
            "_model_module": "@jupyter-widgets/controls",
            "_model_module_version": "1.5.0",
            "_model_name": "HTMLModel",
            "_view_count": null,
            "_view_module": "@jupyter-widgets/controls",
            "_view_module_version": "1.5.0",
            "_view_name": "HTMLView",
            "description": "",
            "description_tooltip": null,
            "layout": "IPY_MODEL_6d7ed3454d6540f387e6f69902c4e5c8",
            "placeholder": "​",
            "style": "IPY_MODEL_e90eb3a0fb3c4a67bd87a4826676f29c",
            "value": " 466k/466k [00:00&lt;00:00, 12.4MB/s]"
          }
        },
        "3d195367ca5a4a08a63688c746bc6336": {
          "model_module": "@jupyter-widgets/base",
          "model_name": "LayoutModel",
          "model_module_version": "1.2.0",
          "state": {
            "_model_module": "@jupyter-widgets/base",
            "_model_module_version": "1.2.0",
            "_model_name": "LayoutModel",
            "_view_count": null,
            "_view_module": "@jupyter-widgets/base",
            "_view_module_version": "1.2.0",
            "_view_name": "LayoutView",
            "align_content": null,
            "align_items": null,
            "align_self": null,
            "border": null,
            "bottom": null,
            "display": null,
            "flex": null,
            "flex_flow": null,
            "grid_area": null,
            "grid_auto_columns": null,
            "grid_auto_flow": null,
            "grid_auto_rows": null,
            "grid_column": null,
            "grid_gap": null,
            "grid_row": null,
            "grid_template_areas": null,
            "grid_template_columns": null,
            "grid_template_rows": null,
            "height": null,
            "justify_content": null,
            "justify_items": null,
            "left": null,
            "margin": null,
            "max_height": null,
            "max_width": null,
            "min_height": null,
            "min_width": null,
            "object_fit": null,
            "object_position": null,
            "order": null,
            "overflow": null,
            "overflow_x": null,
            "overflow_y": null,
            "padding": null,
            "right": null,
            "top": null,
            "visibility": null,
            "width": null
          }
        },
        "3982585f7ca94c35b5a0bb5cb45187c2": {
          "model_module": "@jupyter-widgets/base",
          "model_name": "LayoutModel",
          "model_module_version": "1.2.0",
          "state": {
            "_model_module": "@jupyter-widgets/base",
            "_model_module_version": "1.2.0",
            "_model_name": "LayoutModel",
            "_view_count": null,
            "_view_module": "@jupyter-widgets/base",
            "_view_module_version": "1.2.0",
            "_view_name": "LayoutView",
            "align_content": null,
            "align_items": null,
            "align_self": null,
            "border": null,
            "bottom": null,
            "display": null,
            "flex": null,
            "flex_flow": null,
            "grid_area": null,
            "grid_auto_columns": null,
            "grid_auto_flow": null,
            "grid_auto_rows": null,
            "grid_column": null,
            "grid_gap": null,
            "grid_row": null,
            "grid_template_areas": null,
            "grid_template_columns": null,
            "grid_template_rows": null,
            "height": null,
            "justify_content": null,
            "justify_items": null,
            "left": null,
            "margin": null,
            "max_height": null,
            "max_width": null,
            "min_height": null,
            "min_width": null,
            "object_fit": null,
            "object_position": null,
            "order": null,
            "overflow": null,
            "overflow_x": null,
            "overflow_y": null,
            "padding": null,
            "right": null,
            "top": null,
            "visibility": null,
            "width": null
          }
        },
        "65cc31fda1804159aa4d11ac4012f79a": {
          "model_module": "@jupyter-widgets/controls",
          "model_name": "DescriptionStyleModel",
          "model_module_version": "1.5.0",
          "state": {
            "_model_module": "@jupyter-widgets/controls",
            "_model_module_version": "1.5.0",
            "_model_name": "DescriptionStyleModel",
            "_view_count": null,
            "_view_module": "@jupyter-widgets/base",
            "_view_module_version": "1.2.0",
            "_view_name": "StyleView",
            "description_width": ""
          }
        },
        "d831de161d6e447d8f274f58640044ac": {
          "model_module": "@jupyter-widgets/base",
          "model_name": "LayoutModel",
          "model_module_version": "1.2.0",
          "state": {
            "_model_module": "@jupyter-widgets/base",
            "_model_module_version": "1.2.0",
            "_model_name": "LayoutModel",
            "_view_count": null,
            "_view_module": "@jupyter-widgets/base",
            "_view_module_version": "1.2.0",
            "_view_name": "LayoutView",
            "align_content": null,
            "align_items": null,
            "align_self": null,
            "border": null,
            "bottom": null,
            "display": null,
            "flex": null,
            "flex_flow": null,
            "grid_area": null,
            "grid_auto_columns": null,
            "grid_auto_flow": null,
            "grid_auto_rows": null,
            "grid_column": null,
            "grid_gap": null,
            "grid_row": null,
            "grid_template_areas": null,
            "grid_template_columns": null,
            "grid_template_rows": null,
            "height": null,
            "justify_content": null,
            "justify_items": null,
            "left": null,
            "margin": null,
            "max_height": null,
            "max_width": null,
            "min_height": null,
            "min_width": null,
            "object_fit": null,
            "object_position": null,
            "order": null,
            "overflow": null,
            "overflow_x": null,
            "overflow_y": null,
            "padding": null,
            "right": null,
            "top": null,
            "visibility": null,
            "width": null
          }
        },
        "f04c200913564b8c92066ea92043f21a": {
          "model_module": "@jupyter-widgets/controls",
          "model_name": "ProgressStyleModel",
          "model_module_version": "1.5.0",
          "state": {
            "_model_module": "@jupyter-widgets/controls",
            "_model_module_version": "1.5.0",
            "_model_name": "ProgressStyleModel",
            "_view_count": null,
            "_view_module": "@jupyter-widgets/base",
            "_view_module_version": "1.2.0",
            "_view_name": "StyleView",
            "bar_color": null,
            "description_width": ""
          }
        },
        "6d7ed3454d6540f387e6f69902c4e5c8": {
          "model_module": "@jupyter-widgets/base",
          "model_name": "LayoutModel",
          "model_module_version": "1.2.0",
          "state": {
            "_model_module": "@jupyter-widgets/base",
            "_model_module_version": "1.2.0",
            "_model_name": "LayoutModel",
            "_view_count": null,
            "_view_module": "@jupyter-widgets/base",
            "_view_module_version": "1.2.0",
            "_view_name": "LayoutView",
            "align_content": null,
            "align_items": null,
            "align_self": null,
            "border": null,
            "bottom": null,
            "display": null,
            "flex": null,
            "flex_flow": null,
            "grid_area": null,
            "grid_auto_columns": null,
            "grid_auto_flow": null,
            "grid_auto_rows": null,
            "grid_column": null,
            "grid_gap": null,
            "grid_row": null,
            "grid_template_areas": null,
            "grid_template_columns": null,
            "grid_template_rows": null,
            "height": null,
            "justify_content": null,
            "justify_items": null,
            "left": null,
            "margin": null,
            "max_height": null,
            "max_width": null,
            "min_height": null,
            "min_width": null,
            "object_fit": null,
            "object_position": null,
            "order": null,
            "overflow": null,
            "overflow_x": null,
            "overflow_y": null,
            "padding": null,
            "right": null,
            "top": null,
            "visibility": null,
            "width": null
          }
        },
        "e90eb3a0fb3c4a67bd87a4826676f29c": {
          "model_module": "@jupyter-widgets/controls",
          "model_name": "DescriptionStyleModel",
          "model_module_version": "1.5.0",
          "state": {
            "_model_module": "@jupyter-widgets/controls",
            "_model_module_version": "1.5.0",
            "_model_name": "DescriptionStyleModel",
            "_view_count": null,
            "_view_module": "@jupyter-widgets/base",
            "_view_module_version": "1.2.0",
            "_view_name": "StyleView",
            "description_width": ""
          }
        },
        "393f9970d8164810b286bcba8dab165c": {
          "model_module": "@jupyter-widgets/controls",
          "model_name": "HBoxModel",
          "model_module_version": "1.5.0",
          "state": {
            "_dom_classes": [],
            "_model_module": "@jupyter-widgets/controls",
            "_model_module_version": "1.5.0",
            "_model_name": "HBoxModel",
            "_view_count": null,
            "_view_module": "@jupyter-widgets/controls",
            "_view_module_version": "1.5.0",
            "_view_name": "HBoxView",
            "box_style": "",
            "children": [
              "IPY_MODEL_c82bf66f371843c5a599b117f0c88e37",
              "IPY_MODEL_dde510d23b734c38bf89d5120e8ca365",
              "IPY_MODEL_6f8cf85f074241be9f7f69a316aa7504"
            ],
            "layout": "IPY_MODEL_54ebaf2016c94d8185d3d98f30a97048"
          }
        },
        "c82bf66f371843c5a599b117f0c88e37": {
          "model_module": "@jupyter-widgets/controls",
          "model_name": "HTMLModel",
          "model_module_version": "1.5.0",
          "state": {
            "_dom_classes": [],
            "_model_module": "@jupyter-widgets/controls",
            "_model_module_version": "1.5.0",
            "_model_name": "HTMLModel",
            "_view_count": null,
            "_view_module": "@jupyter-widgets/controls",
            "_view_module_version": "1.5.0",
            "_view_name": "HTMLView",
            "description": "",
            "description_tooltip": null,
            "layout": "IPY_MODEL_b67d3d42ed7345ed8a64a067836b0ae5",
            "placeholder": "​",
            "style": "IPY_MODEL_7d534683ad954e2791c67e5870fdee13",
            "value": "special_tokens_map.json: 100%"
          }
        },
        "dde510d23b734c38bf89d5120e8ca365": {
          "model_module": "@jupyter-widgets/controls",
          "model_name": "FloatProgressModel",
          "model_module_version": "1.5.0",
          "state": {
            "_dom_classes": [],
            "_model_module": "@jupyter-widgets/controls",
            "_model_module_version": "1.5.0",
            "_model_name": "FloatProgressModel",
            "_view_count": null,
            "_view_module": "@jupyter-widgets/controls",
            "_view_module_version": "1.5.0",
            "_view_name": "ProgressView",
            "bar_style": "success",
            "description": "",
            "description_tooltip": null,
            "layout": "IPY_MODEL_01ecebe08f214368a167012e0b6b51f8",
            "max": 112,
            "min": 0,
            "orientation": "horizontal",
            "style": "IPY_MODEL_0399457fbb094aed9a08c394f8dbf02e",
            "value": 112
          }
        },
        "6f8cf85f074241be9f7f69a316aa7504": {
          "model_module": "@jupyter-widgets/controls",
          "model_name": "HTMLModel",
          "model_module_version": "1.5.0",
          "state": {
            "_dom_classes": [],
            "_model_module": "@jupyter-widgets/controls",
            "_model_module_version": "1.5.0",
            "_model_name": "HTMLModel",
            "_view_count": null,
            "_view_module": "@jupyter-widgets/controls",
            "_view_module_version": "1.5.0",
            "_view_name": "HTMLView",
            "description": "",
            "description_tooltip": null,
            "layout": "IPY_MODEL_0866ef4cadc945179c02e1f4445154f5",
            "placeholder": "​",
            "style": "IPY_MODEL_8566f5d858c64272b1074855f5fa10d5",
            "value": " 112/112 [00:00&lt;00:00, 8.56kB/s]"
          }
        },
        "54ebaf2016c94d8185d3d98f30a97048": {
          "model_module": "@jupyter-widgets/base",
          "model_name": "LayoutModel",
          "model_module_version": "1.2.0",
          "state": {
            "_model_module": "@jupyter-widgets/base",
            "_model_module_version": "1.2.0",
            "_model_name": "LayoutModel",
            "_view_count": null,
            "_view_module": "@jupyter-widgets/base",
            "_view_module_version": "1.2.0",
            "_view_name": "LayoutView",
            "align_content": null,
            "align_items": null,
            "align_self": null,
            "border": null,
            "bottom": null,
            "display": null,
            "flex": null,
            "flex_flow": null,
            "grid_area": null,
            "grid_auto_columns": null,
            "grid_auto_flow": null,
            "grid_auto_rows": null,
            "grid_column": null,
            "grid_gap": null,
            "grid_row": null,
            "grid_template_areas": null,
            "grid_template_columns": null,
            "grid_template_rows": null,
            "height": null,
            "justify_content": null,
            "justify_items": null,
            "left": null,
            "margin": null,
            "max_height": null,
            "max_width": null,
            "min_height": null,
            "min_width": null,
            "object_fit": null,
            "object_position": null,
            "order": null,
            "overflow": null,
            "overflow_x": null,
            "overflow_y": null,
            "padding": null,
            "right": null,
            "top": null,
            "visibility": null,
            "width": null
          }
        },
        "b67d3d42ed7345ed8a64a067836b0ae5": {
          "model_module": "@jupyter-widgets/base",
          "model_name": "LayoutModel",
          "model_module_version": "1.2.0",
          "state": {
            "_model_module": "@jupyter-widgets/base",
            "_model_module_version": "1.2.0",
            "_model_name": "LayoutModel",
            "_view_count": null,
            "_view_module": "@jupyter-widgets/base",
            "_view_module_version": "1.2.0",
            "_view_name": "LayoutView",
            "align_content": null,
            "align_items": null,
            "align_self": null,
            "border": null,
            "bottom": null,
            "display": null,
            "flex": null,
            "flex_flow": null,
            "grid_area": null,
            "grid_auto_columns": null,
            "grid_auto_flow": null,
            "grid_auto_rows": null,
            "grid_column": null,
            "grid_gap": null,
            "grid_row": null,
            "grid_template_areas": null,
            "grid_template_columns": null,
            "grid_template_rows": null,
            "height": null,
            "justify_content": null,
            "justify_items": null,
            "left": null,
            "margin": null,
            "max_height": null,
            "max_width": null,
            "min_height": null,
            "min_width": null,
            "object_fit": null,
            "object_position": null,
            "order": null,
            "overflow": null,
            "overflow_x": null,
            "overflow_y": null,
            "padding": null,
            "right": null,
            "top": null,
            "visibility": null,
            "width": null
          }
        },
        "7d534683ad954e2791c67e5870fdee13": {
          "model_module": "@jupyter-widgets/controls",
          "model_name": "DescriptionStyleModel",
          "model_module_version": "1.5.0",
          "state": {
            "_model_module": "@jupyter-widgets/controls",
            "_model_module_version": "1.5.0",
            "_model_name": "DescriptionStyleModel",
            "_view_count": null,
            "_view_module": "@jupyter-widgets/base",
            "_view_module_version": "1.2.0",
            "_view_name": "StyleView",
            "description_width": ""
          }
        },
        "01ecebe08f214368a167012e0b6b51f8": {
          "model_module": "@jupyter-widgets/base",
          "model_name": "LayoutModel",
          "model_module_version": "1.2.0",
          "state": {
            "_model_module": "@jupyter-widgets/base",
            "_model_module_version": "1.2.0",
            "_model_name": "LayoutModel",
            "_view_count": null,
            "_view_module": "@jupyter-widgets/base",
            "_view_module_version": "1.2.0",
            "_view_name": "LayoutView",
            "align_content": null,
            "align_items": null,
            "align_self": null,
            "border": null,
            "bottom": null,
            "display": null,
            "flex": null,
            "flex_flow": null,
            "grid_area": null,
            "grid_auto_columns": null,
            "grid_auto_flow": null,
            "grid_auto_rows": null,
            "grid_column": null,
            "grid_gap": null,
            "grid_row": null,
            "grid_template_areas": null,
            "grid_template_columns": null,
            "grid_template_rows": null,
            "height": null,
            "justify_content": null,
            "justify_items": null,
            "left": null,
            "margin": null,
            "max_height": null,
            "max_width": null,
            "min_height": null,
            "min_width": null,
            "object_fit": null,
            "object_position": null,
            "order": null,
            "overflow": null,
            "overflow_x": null,
            "overflow_y": null,
            "padding": null,
            "right": null,
            "top": null,
            "visibility": null,
            "width": null
          }
        },
        "0399457fbb094aed9a08c394f8dbf02e": {
          "model_module": "@jupyter-widgets/controls",
          "model_name": "ProgressStyleModel",
          "model_module_version": "1.5.0",
          "state": {
            "_model_module": "@jupyter-widgets/controls",
            "_model_module_version": "1.5.0",
            "_model_name": "ProgressStyleModel",
            "_view_count": null,
            "_view_module": "@jupyter-widgets/base",
            "_view_module_version": "1.2.0",
            "_view_name": "StyleView",
            "bar_color": null,
            "description_width": ""
          }
        },
        "0866ef4cadc945179c02e1f4445154f5": {
          "model_module": "@jupyter-widgets/base",
          "model_name": "LayoutModel",
          "model_module_version": "1.2.0",
          "state": {
            "_model_module": "@jupyter-widgets/base",
            "_model_module_version": "1.2.0",
            "_model_name": "LayoutModel",
            "_view_count": null,
            "_view_module": "@jupyter-widgets/base",
            "_view_module_version": "1.2.0",
            "_view_name": "LayoutView",
            "align_content": null,
            "align_items": null,
            "align_self": null,
            "border": null,
            "bottom": null,
            "display": null,
            "flex": null,
            "flex_flow": null,
            "grid_area": null,
            "grid_auto_columns": null,
            "grid_auto_flow": null,
            "grid_auto_rows": null,
            "grid_column": null,
            "grid_gap": null,
            "grid_row": null,
            "grid_template_areas": null,
            "grid_template_columns": null,
            "grid_template_rows": null,
            "height": null,
            "justify_content": null,
            "justify_items": null,
            "left": null,
            "margin": null,
            "max_height": null,
            "max_width": null,
            "min_height": null,
            "min_width": null,
            "object_fit": null,
            "object_position": null,
            "order": null,
            "overflow": null,
            "overflow_x": null,
            "overflow_y": null,
            "padding": null,
            "right": null,
            "top": null,
            "visibility": null,
            "width": null
          }
        },
        "8566f5d858c64272b1074855f5fa10d5": {
          "model_module": "@jupyter-widgets/controls",
          "model_name": "DescriptionStyleModel",
          "model_module_version": "1.5.0",
          "state": {
            "_model_module": "@jupyter-widgets/controls",
            "_model_module_version": "1.5.0",
            "_model_name": "DescriptionStyleModel",
            "_view_count": null,
            "_view_module": "@jupyter-widgets/base",
            "_view_module_version": "1.2.0",
            "_view_name": "StyleView",
            "description_width": ""
          }
        },
        "ecfa8b1a2ff34324bae0f513d6d7d5ac": {
          "model_module": "@jupyter-widgets/controls",
          "model_name": "HBoxModel",
          "model_module_version": "1.5.0",
          "state": {
            "_dom_classes": [],
            "_model_module": "@jupyter-widgets/controls",
            "_model_module_version": "1.5.0",
            "_model_name": "HBoxModel",
            "_view_count": null,
            "_view_module": "@jupyter-widgets/controls",
            "_view_module_version": "1.5.0",
            "_view_name": "HBoxView",
            "box_style": "",
            "children": [
              "IPY_MODEL_3d65a9e48d6e44d5b9ec750ee1ec7541",
              "IPY_MODEL_9475a15947b143959898620bd225c3db",
              "IPY_MODEL_617ff067ff93464284b977b4b4d8ceee"
            ],
            "layout": "IPY_MODEL_c0a0576e619c4b278e07cfab94e5810a"
          }
        },
        "3d65a9e48d6e44d5b9ec750ee1ec7541": {
          "model_module": "@jupyter-widgets/controls",
          "model_name": "HTMLModel",
          "model_module_version": "1.5.0",
          "state": {
            "_dom_classes": [],
            "_model_module": "@jupyter-widgets/controls",
            "_model_module_version": "1.5.0",
            "_model_name": "HTMLModel",
            "_view_count": null,
            "_view_module": "@jupyter-widgets/controls",
            "_view_module_version": "1.5.0",
            "_view_name": "HTMLView",
            "description": "",
            "description_tooltip": null,
            "layout": "IPY_MODEL_e83cdd59d4e3405dbbb9a77e03a1a809",
            "placeholder": "​",
            "style": "IPY_MODEL_69029446cf7d41b585e3d3a03aa2404c",
            "value": "1_Pooling/config.json: 100%"
          }
        },
        "9475a15947b143959898620bd225c3db": {
          "model_module": "@jupyter-widgets/controls",
          "model_name": "FloatProgressModel",
          "model_module_version": "1.5.0",
          "state": {
            "_dom_classes": [],
            "_model_module": "@jupyter-widgets/controls",
            "_model_module_version": "1.5.0",
            "_model_name": "FloatProgressModel",
            "_view_count": null,
            "_view_module": "@jupyter-widgets/controls",
            "_view_module_version": "1.5.0",
            "_view_name": "ProgressView",
            "bar_style": "success",
            "description": "",
            "description_tooltip": null,
            "layout": "IPY_MODEL_7f66b3b5186d4149aacecf6b3f32cff5",
            "max": 190,
            "min": 0,
            "orientation": "horizontal",
            "style": "IPY_MODEL_38d379d949514a2eaf4dce39acab2e52",
            "value": 190
          }
        },
        "617ff067ff93464284b977b4b4d8ceee": {
          "model_module": "@jupyter-widgets/controls",
          "model_name": "HTMLModel",
          "model_module_version": "1.5.0",
          "state": {
            "_dom_classes": [],
            "_model_module": "@jupyter-widgets/controls",
            "_model_module_version": "1.5.0",
            "_model_name": "HTMLModel",
            "_view_count": null,
            "_view_module": "@jupyter-widgets/controls",
            "_view_module_version": "1.5.0",
            "_view_name": "HTMLView",
            "description": "",
            "description_tooltip": null,
            "layout": "IPY_MODEL_78d1508ba21d4854a4525478ce023704",
            "placeholder": "​",
            "style": "IPY_MODEL_5630150a89ad4671b884f3d9559441ab",
            "value": " 190/190 [00:00&lt;00:00, 12.3kB/s]"
          }
        },
        "c0a0576e619c4b278e07cfab94e5810a": {
          "model_module": "@jupyter-widgets/base",
          "model_name": "LayoutModel",
          "model_module_version": "1.2.0",
          "state": {
            "_model_module": "@jupyter-widgets/base",
            "_model_module_version": "1.2.0",
            "_model_name": "LayoutModel",
            "_view_count": null,
            "_view_module": "@jupyter-widgets/base",
            "_view_module_version": "1.2.0",
            "_view_name": "LayoutView",
            "align_content": null,
            "align_items": null,
            "align_self": null,
            "border": null,
            "bottom": null,
            "display": null,
            "flex": null,
            "flex_flow": null,
            "grid_area": null,
            "grid_auto_columns": null,
            "grid_auto_flow": null,
            "grid_auto_rows": null,
            "grid_column": null,
            "grid_gap": null,
            "grid_row": null,
            "grid_template_areas": null,
            "grid_template_columns": null,
            "grid_template_rows": null,
            "height": null,
            "justify_content": null,
            "justify_items": null,
            "left": null,
            "margin": null,
            "max_height": null,
            "max_width": null,
            "min_height": null,
            "min_width": null,
            "object_fit": null,
            "object_position": null,
            "order": null,
            "overflow": null,
            "overflow_x": null,
            "overflow_y": null,
            "padding": null,
            "right": null,
            "top": null,
            "visibility": null,
            "width": null
          }
        },
        "e83cdd59d4e3405dbbb9a77e03a1a809": {
          "model_module": "@jupyter-widgets/base",
          "model_name": "LayoutModel",
          "model_module_version": "1.2.0",
          "state": {
            "_model_module": "@jupyter-widgets/base",
            "_model_module_version": "1.2.0",
            "_model_name": "LayoutModel",
            "_view_count": null,
            "_view_module": "@jupyter-widgets/base",
            "_view_module_version": "1.2.0",
            "_view_name": "LayoutView",
            "align_content": null,
            "align_items": null,
            "align_self": null,
            "border": null,
            "bottom": null,
            "display": null,
            "flex": null,
            "flex_flow": null,
            "grid_area": null,
            "grid_auto_columns": null,
            "grid_auto_flow": null,
            "grid_auto_rows": null,
            "grid_column": null,
            "grid_gap": null,
            "grid_row": null,
            "grid_template_areas": null,
            "grid_template_columns": null,
            "grid_template_rows": null,
            "height": null,
            "justify_content": null,
            "justify_items": null,
            "left": null,
            "margin": null,
            "max_height": null,
            "max_width": null,
            "min_height": null,
            "min_width": null,
            "object_fit": null,
            "object_position": null,
            "order": null,
            "overflow": null,
            "overflow_x": null,
            "overflow_y": null,
            "padding": null,
            "right": null,
            "top": null,
            "visibility": null,
            "width": null
          }
        },
        "69029446cf7d41b585e3d3a03aa2404c": {
          "model_module": "@jupyter-widgets/controls",
          "model_name": "DescriptionStyleModel",
          "model_module_version": "1.5.0",
          "state": {
            "_model_module": "@jupyter-widgets/controls",
            "_model_module_version": "1.5.0",
            "_model_name": "DescriptionStyleModel",
            "_view_count": null,
            "_view_module": "@jupyter-widgets/base",
            "_view_module_version": "1.2.0",
            "_view_name": "StyleView",
            "description_width": ""
          }
        },
        "7f66b3b5186d4149aacecf6b3f32cff5": {
          "model_module": "@jupyter-widgets/base",
          "model_name": "LayoutModel",
          "model_module_version": "1.2.0",
          "state": {
            "_model_module": "@jupyter-widgets/base",
            "_model_module_version": "1.2.0",
            "_model_name": "LayoutModel",
            "_view_count": null,
            "_view_module": "@jupyter-widgets/base",
            "_view_module_version": "1.2.0",
            "_view_name": "LayoutView",
            "align_content": null,
            "align_items": null,
            "align_self": null,
            "border": null,
            "bottom": null,
            "display": null,
            "flex": null,
            "flex_flow": null,
            "grid_area": null,
            "grid_auto_columns": null,
            "grid_auto_flow": null,
            "grid_auto_rows": null,
            "grid_column": null,
            "grid_gap": null,
            "grid_row": null,
            "grid_template_areas": null,
            "grid_template_columns": null,
            "grid_template_rows": null,
            "height": null,
            "justify_content": null,
            "justify_items": null,
            "left": null,
            "margin": null,
            "max_height": null,
            "max_width": null,
            "min_height": null,
            "min_width": null,
            "object_fit": null,
            "object_position": null,
            "order": null,
            "overflow": null,
            "overflow_x": null,
            "overflow_y": null,
            "padding": null,
            "right": null,
            "top": null,
            "visibility": null,
            "width": null
          }
        },
        "38d379d949514a2eaf4dce39acab2e52": {
          "model_module": "@jupyter-widgets/controls",
          "model_name": "ProgressStyleModel",
          "model_module_version": "1.5.0",
          "state": {
            "_model_module": "@jupyter-widgets/controls",
            "_model_module_version": "1.5.0",
            "_model_name": "ProgressStyleModel",
            "_view_count": null,
            "_view_module": "@jupyter-widgets/base",
            "_view_module_version": "1.2.0",
            "_view_name": "StyleView",
            "bar_color": null,
            "description_width": ""
          }
        },
        "78d1508ba21d4854a4525478ce023704": {
          "model_module": "@jupyter-widgets/base",
          "model_name": "LayoutModel",
          "model_module_version": "1.2.0",
          "state": {
            "_model_module": "@jupyter-widgets/base",
            "_model_module_version": "1.2.0",
            "_model_name": "LayoutModel",
            "_view_count": null,
            "_view_module": "@jupyter-widgets/base",
            "_view_module_version": "1.2.0",
            "_view_name": "LayoutView",
            "align_content": null,
            "align_items": null,
            "align_self": null,
            "border": null,
            "bottom": null,
            "display": null,
            "flex": null,
            "flex_flow": null,
            "grid_area": null,
            "grid_auto_columns": null,
            "grid_auto_flow": null,
            "grid_auto_rows": null,
            "grid_column": null,
            "grid_gap": null,
            "grid_row": null,
            "grid_template_areas": null,
            "grid_template_columns": null,
            "grid_template_rows": null,
            "height": null,
            "justify_content": null,
            "justify_items": null,
            "left": null,
            "margin": null,
            "max_height": null,
            "max_width": null,
            "min_height": null,
            "min_width": null,
            "object_fit": null,
            "object_position": null,
            "order": null,
            "overflow": null,
            "overflow_x": null,
            "overflow_y": null,
            "padding": null,
            "right": null,
            "top": null,
            "visibility": null,
            "width": null
          }
        },
        "5630150a89ad4671b884f3d9559441ab": {
          "model_module": "@jupyter-widgets/controls",
          "model_name": "DescriptionStyleModel",
          "model_module_version": "1.5.0",
          "state": {
            "_model_module": "@jupyter-widgets/controls",
            "_model_module_version": "1.5.0",
            "_model_name": "DescriptionStyleModel",
            "_view_count": null,
            "_view_module": "@jupyter-widgets/base",
            "_view_module_version": "1.2.0",
            "_view_name": "StyleView",
            "description_width": ""
          }
        }
      }
    }
  },
  "nbformat": 4,
  "nbformat_minor": 0
}
